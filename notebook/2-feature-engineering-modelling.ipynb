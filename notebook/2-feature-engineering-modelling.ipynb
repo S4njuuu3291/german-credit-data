{
 "cells": [
  {
   "cell_type": "markdown",
   "id": "6e353a14",
   "metadata": {},
   "source": [
    "# Overview\n",
    "\n",
    "##### - Di notebook ini, akan dilakukan Feature Engineering dan Modelling yang akan memberikan output berupa model ML yang dapat digunakan untuk memprediksi kemungkinan nasabah yang gagal bayar. Model ini nantinya akan membantu tim underwriting fintech/bank untuk membantu proses persetujuan pinjaman.\n",
    "##### - Model akan dievaluasi menggunakan metriks evaluasi yang relevan untuk meningkatkan keandalan dari sistem ini"
   ]
  },
  {
   "cell_type": "markdown",
   "id": "7bf099a4",
   "metadata": {},
   "source": [
    "### Import library yang digunakan"
   ]
  },
  {
   "cell_type": "code",
   "execution_count": 300,
   "id": "93287bb2",
   "metadata": {},
   "outputs": [],
   "source": [
    "import pandas as pd\n",
    "import numpy as np\n",
    "import matplotlib.pyplot as plt\n",
    "import seaborn as sns\n",
    "from sklearn.preprocessing import MinMaxScaler,OneHotEncoder,StandardScaler,OrdinalEncoder\n",
    "from sklearn.compose import ColumnTransformer\n",
    "from sklearn.model_selection import train_test_split,cross_val_score\n",
    "from imblearn.pipeline import Pipeline\n",
    "from imblearn.over_sampling import SMOTE\n",
    "from imblearn.under_sampling import RandomUnderSampler\n",
    "from sklearn.linear_model import LogisticRegression\n",
    "from sklearn.ensemble import RandomForestClassifier\n",
    "from category_encoders import CatBoostEncoder\n",
    "from sklearn.metrics import classification_report,confusion_matrix, f1_score,precision_score,recall_score,roc_auc_score,accuracy_score\n",
    "import optuna\n",
    "import xgboost as xgb\n",
    "from functools import partial\n",
    "import pickle"
   ]
  },
  {
   "cell_type": "markdown",
   "id": "663ea0f4",
   "metadata": {},
   "source": [
    "Load data clean hasil Cleaning dan EDA"
   ]
  },
  {
   "cell_type": "code",
   "execution_count": 301,
   "id": "3bf69fee",
   "metadata": {},
   "outputs": [
    {
     "data": {
      "text/html": [
       "<div>\n",
       "<style scoped>\n",
       "    .dataframe tbody tr th:only-of-type {\n",
       "        vertical-align: middle;\n",
       "    }\n",
       "\n",
       "    .dataframe tbody tr th {\n",
       "        vertical-align: top;\n",
       "    }\n",
       "\n",
       "    .dataframe thead th {\n",
       "        text-align: right;\n",
       "    }\n",
       "</style>\n",
       "<table border=\"1\" class=\"dataframe\">\n",
       "  <thead>\n",
       "    <tr style=\"text-align: right;\">\n",
       "      <th></th>\n",
       "      <th>Age</th>\n",
       "      <th>Sex</th>\n",
       "      <th>Job</th>\n",
       "      <th>Housing</th>\n",
       "      <th>Saving accounts</th>\n",
       "      <th>Checking account</th>\n",
       "      <th>Credit amount</th>\n",
       "      <th>Duration</th>\n",
       "      <th>Purpose</th>\n",
       "      <th>Risk</th>\n",
       "      <th>age_bin</th>\n",
       "      <th>credit_bin</th>\n",
       "      <th>duration_bin</th>\n",
       "    </tr>\n",
       "  </thead>\n",
       "  <tbody>\n",
       "    <tr>\n",
       "      <th>0</th>\n",
       "      <td>67</td>\n",
       "      <td>male</td>\n",
       "      <td>2</td>\n",
       "      <td>own</td>\n",
       "      <td>Unknown</td>\n",
       "      <td>little</td>\n",
       "      <td>1169</td>\n",
       "      <td>6</td>\n",
       "      <td>radio/TV</td>\n",
       "      <td>0</td>\n",
       "      <td>(60, 100]</td>\n",
       "      <td>very low</td>\n",
       "      <td>&lt;=12</td>\n",
       "    </tr>\n",
       "    <tr>\n",
       "      <th>1</th>\n",
       "      <td>22</td>\n",
       "      <td>female</td>\n",
       "      <td>2</td>\n",
       "      <td>own</td>\n",
       "      <td>little</td>\n",
       "      <td>moderate</td>\n",
       "      <td>5951</td>\n",
       "      <td>48</td>\n",
       "      <td>radio/TV</td>\n",
       "      <td>1</td>\n",
       "      <td>(18, 25]</td>\n",
       "      <td>mid</td>\n",
       "      <td>37–48</td>\n",
       "    </tr>\n",
       "    <tr>\n",
       "      <th>2</th>\n",
       "      <td>49</td>\n",
       "      <td>male</td>\n",
       "      <td>1</td>\n",
       "      <td>own</td>\n",
       "      <td>little</td>\n",
       "      <td>Unknown</td>\n",
       "      <td>2096</td>\n",
       "      <td>12</td>\n",
       "      <td>education</td>\n",
       "      <td>0</td>\n",
       "      <td>(40, 50]</td>\n",
       "      <td>low</td>\n",
       "      <td>&lt;=12</td>\n",
       "    </tr>\n",
       "    <tr>\n",
       "      <th>3</th>\n",
       "      <td>45</td>\n",
       "      <td>male</td>\n",
       "      <td>2</td>\n",
       "      <td>free</td>\n",
       "      <td>little</td>\n",
       "      <td>little</td>\n",
       "      <td>7882</td>\n",
       "      <td>42</td>\n",
       "      <td>furniture/equipment</td>\n",
       "      <td>0</td>\n",
       "      <td>(40, 50]</td>\n",
       "      <td>mid</td>\n",
       "      <td>37–48</td>\n",
       "    </tr>\n",
       "    <tr>\n",
       "      <th>4</th>\n",
       "      <td>53</td>\n",
       "      <td>male</td>\n",
       "      <td>2</td>\n",
       "      <td>free</td>\n",
       "      <td>little</td>\n",
       "      <td>little</td>\n",
       "      <td>4870</td>\n",
       "      <td>24</td>\n",
       "      <td>car</td>\n",
       "      <td>1</td>\n",
       "      <td>(50, 60]</td>\n",
       "      <td>low</td>\n",
       "      <td>13-24</td>\n",
       "    </tr>\n",
       "  </tbody>\n",
       "</table>\n",
       "</div>"
      ],
      "text/plain": [
       "   Age     Sex  Job Housing Saving accounts Checking account  Credit amount  \\\n",
       "0   67    male    2     own         Unknown           little           1169   \n",
       "1   22  female    2     own          little         moderate           5951   \n",
       "2   49    male    1     own          little          Unknown           2096   \n",
       "3   45    male    2    free          little           little           7882   \n",
       "4   53    male    2    free          little           little           4870   \n",
       "\n",
       "   Duration              Purpose  Risk    age_bin credit_bin duration_bin  \n",
       "0         6             radio/TV     0  (60, 100]   very low         <=12  \n",
       "1        48             radio/TV     1   (18, 25]        mid        37–48  \n",
       "2        12            education     0   (40, 50]        low         <=12  \n",
       "3        42  furniture/equipment     0   (40, 50]        mid        37–48  \n",
       "4        24                  car     1   (50, 60]        low        13-24  "
      ]
     },
     "execution_count": 301,
     "metadata": {},
     "output_type": "execute_result"
    }
   ],
   "source": [
    "df = pd.read_csv(\"..\\\\data\\\\german_credit_data_clean.csv\")\n",
    "df.head()"
   ]
  },
  {
   "cell_type": "markdown",
   "id": "1d4e1fdb",
   "metadata": {},
   "source": [
    "### Hal yang perlu dilakukan\n",
    "- Encoding data kategorikal\n",
    "- Pertimbangkan penggunaan log transform\n",
    "- Scaling data numerik\n",
    "- Feature interactions\n",
    "- Feature importances"
   ]
  },
  {
   "cell_type": "code",
   "execution_count": 302,
   "id": "573b5f59",
   "metadata": {},
   "outputs": [
    {
     "data": {
      "text/plain": [
       "Risk\n",
       "0    700\n",
       "1    300\n",
       "Name: count, dtype: int64"
      ]
     },
     "execution_count": 302,
     "metadata": {},
     "output_type": "execute_result"
    }
   ],
   "source": [
    "df['Risk'].value_counts()"
   ]
  },
  {
   "cell_type": "markdown",
   "id": "b65f65ca",
   "metadata": {},
   "source": [
    "##### Melakukan split untuk memisahkan data training dan data testing"
   ]
  },
  {
   "cell_type": "code",
   "execution_count": 303,
   "id": "1d450524",
   "metadata": {},
   "outputs": [],
   "source": [
    "X = df.drop('Risk',axis=1)\n",
    "y = df['Risk']\n",
    "X_train,X_test,y_train,y_test = train_test_split(X,y,test_size=.2,random_state=42,stratify=y)"
   ]
  },
  {
   "cell_type": "markdown",
   "id": "8b0b61a2",
   "metadata": {},
   "source": [
    "##### Membangun transformer kolom dan juga pipeline preprocessing data untuk memastikan keefisienan dalam proses training dan testing model."
   ]
  },
  {
   "cell_type": "code",
   "execution_count": 304,
   "id": "1ab55453",
   "metadata": {},
   "outputs": [],
   "source": [
    "categorical_column = ['Sex','Housing','Saving accounts','Checking account','Purpose','age_bin','credit_bin','duration_bin']\n",
    "# categorical_column = ['Sex','Housing','Saving accounts','Checking account','Purpose']\n",
    "numerical_column = ['Age','Credit amount','Duration','Job']\n",
    "\n",
    "def generate_pipeline(model=None,name=''):\n",
    "    transformers = ColumnTransformer([\n",
    "        ('column_encoder',OneHotEncoder(),categorical_column),\n",
    "        # ('catboost_enc', CatBoostEncoder(), categorical_column),\n",
    "        ('numeric_scaler',StandardScaler(),numerical_column),\n",
    "        # ('num',StandardScaler(),numerical_column)\n",
    "    ])\n",
    "\n",
    "    pipeline = Pipeline([\n",
    "        ('transformer', transformers),\n",
    "        ('sampler',RandomUnderSampler(random_state=42)),\n",
    "        # ('sampler',SMOTE(random_state=42)),\n",
    "        ('model',model),\n",
    "    ])\n",
    "\n",
    "    return pipeline\n",
    "\n",
    "def train(X_train,y_train,model=None):\n",
    "    pipeline = generate_pipeline(model=model)\n",
    "    pipeline.fit(X_train,y_train)\n",
    "    return pipeline\n",
    "\n",
    "def test_evaluate(X_test,y_test,model=None):\n",
    "    y_pred = model.predict(X_test)\n",
    "\n",
    "    print(f'Acc: {accuracy_score(y_test,y_pred)}')\n",
    "    print(f'F1: {f1_score(y_test,y_pred)}')\n",
    "    print(f'Precision: {precision_score(y_test,y_pred)}')\n",
    "    print(f'Recall: {recall_score(y_test,y_pred)}')\n",
    "    print(f'ROC-AUC: {roc_auc_score(y_test,y_pred)}')\n",
    "    print(classification_report(y_test,y_pred))\n",
    "    heatmap(confusion_matrix(y_test,y_pred))\n",
    "\n",
    "def heatmap(data, title=\"\"):\n",
    "    plt.figure(figsize=(5,3))\n",
    "    sns.heatmap(data, annot=True, cmap='Blues', fmt='.2f')\n",
    "    plt.title(title)\n",
    "    plt.tight_layout()\n",
    "    plt.show()"
   ]
  },
  {
   "cell_type": "markdown",
   "id": "c404040e",
   "metadata": {},
   "source": [
    "##### - Disini saya menggunakan undersampling dengan RandomUnderSampler untuk menangani imbalanced data.\n",
    "##### - Setelah dilakukan trial dan error, undersampling memberikan hasil evaluasi yang lebih baik dibanding oversampling sehingga undersampling digunakan untuk sampler dalam pipeline.\n"
   ]
  },
  {
   "cell_type": "markdown",
   "id": "76117308",
   "metadata": {},
   "source": [
    "#### Cross Validation Model untuk Comparison"
   ]
  },
  {
   "cell_type": "code",
   "execution_count": 305,
   "id": "df981e5b",
   "metadata": {},
   "outputs": [
    {
     "name": "stdout",
     "output_type": "stream",
     "text": [
      "Model: log_reg\n",
      "F1-Score per fold: [0.60240964 0.58666667 0.55882353 0.56756757 0.58974359 0.63636364\n",
      " 0.46575342 0.67532468 0.61971831 0.56410256]\n",
      "Rata-rata F1-Score: 0.5866473602251371\n",
      "ROC-AUC per fold: [0.76857143 0.73095238 0.75666667 0.75857143 0.77857143 0.78809524\n",
      " 0.58809524 0.85285714 0.77       0.74285714]\n",
      "Rata-rata ROC-AUC: 0.7535238095238096\n",
      "\n",
      "Model: rf\n",
      "F1-Score per fold: [0.56410256 0.56       0.5915493  0.54320988 0.57894737 0.57575758\n",
      " 0.5        0.59259259 0.62162162 0.51351351]\n",
      "Rata-rata F1-Score: 0.5641294408326778\n",
      "ROC-AUC per fold: [0.765      0.73880952 0.75619048 0.76595238 0.71261905 0.76761905\n",
      " 0.61166667 0.82       0.7847619  0.69309524]\n",
      "Rata-rata ROC-AUC: 0.7415714285714287\n",
      "\n"
     ]
    }
   ],
   "source": [
    "pipelines = {'log_reg': LogisticRegression(random_state=42,class_weight='balanced'),\n",
    "             'rf': RandomForestClassifier(random_state=42,class_weight='balanced'),\n",
    "            #  'xgb': xgb.XGBClassifier(random_state=42),\n",
    "             }\n",
    "\n",
    "for name,pipeline in pipelines.items():\n",
    "    pipes = generate_pipeline(pipeline,name=name)\n",
    "    scoref1 = cross_val_score(pipes,X,y,cv=10,scoring='f1')\n",
    "    scorerocauc = cross_val_score(pipes,X,y,cv=10,scoring='roc_auc')\n",
    "    print(f'Model: {name}')\n",
    "    print(f'F1-Score per fold: {scoref1}')\n",
    "    print(f'Rata-rata F1-Score: {scoref1.mean()}')\n",
    "    print(f'ROC-AUC per fold: {scorerocauc}')\n",
    "    print(f'Rata-rata ROC-AUC: {scorerocauc.mean()}\\n')"
   ]
  },
  {
   "cell_type": "code",
   "execution_count": 306,
   "id": "89fb11b0",
   "metadata": {},
   "outputs": [],
   "source": [
    "def models(model_name, **params):\n",
    "    if model_name == \"rf\":\n",
    "        from sklearn.ensemble import RandomForestClassifier\n",
    "        return RandomForestClassifier(**params,class_weight='balanced')\n",
    "    elif model_name == \"log_reg\":\n",
    "        from sklearn.linear_model import LogisticRegression\n",
    "        return LogisticRegression(**params,class_weight='balanced')\n",
    "    elif model_name == \"xgb\":\n",
    "        from sklearn.linear_model import LogisticRegression\n",
    "        return xgb.XGBClassifier(**params)\n",
    "    else:\n",
    "        raise ValueError(\"Unknown model name\")"
   ]
  },
  {
   "cell_type": "markdown",
   "id": "3ba24099",
   "metadata": {},
   "source": [
    "#### Setup hyperparameter Tuning dengan optuna untuk model Logistic Regression dan Random Forest"
   ]
  },
  {
   "cell_type": "code",
   "execution_count": 307,
   "id": "1a4f13ef",
   "metadata": {},
   "outputs": [
    {
     "name": "stderr",
     "output_type": "stream",
     "text": [
      "[I 2025-07-28 19:26:54,270] A new study created in memory with name: no-name-43cf58e2-aa38-45f2-8bbd-b68c55756982\n",
      "[I 2025-07-28 19:26:54,656] Trial 0 finished with value: 0.5757799873512947 and parameters: {'C': 0.9337223915033789, 'solver': 'lbfgs', 'max_iter': 147}. Best is trial 0 with value: 0.5757799873512947.\n",
      "[I 2025-07-28 19:26:54,892] Trial 1 finished with value: 0.5716165096228392 and parameters: {'C': 0.7841621015995318, 'solver': 'lbfgs', 'max_iter': 2447}. Best is trial 0 with value: 0.5757799873512947.\n",
      "[I 2025-07-28 19:26:55,126] Trial 2 finished with value: 0.5549814788666327 and parameters: {'C': 0.005534588424001036, 'solver': 'liblinear', 'max_iter': 2371}. Best is trial 0 with value: 0.5757799873512947.\n",
      "[I 2025-07-28 19:26:55,663] Trial 3 finished with value: 0.5704342162396874 and parameters: {'C': 3.240575355607851, 'solver': 'lbfgs', 'max_iter': 3229}. Best is trial 0 with value: 0.5757799873512947.\n",
      "[I 2025-07-28 19:26:55,900] Trial 4 finished with value: 0.574553446806968 and parameters: {'C': 20.148070119733475, 'solver': 'liblinear', 'max_iter': 3480}. Best is trial 0 with value: 0.5757799873512947.\n",
      "[I 2025-07-28 19:26:56,241] Trial 5 finished with value: 0.516895610553925 and parameters: {'C': 0.0001650939673517666, 'solver': 'liblinear', 'max_iter': 1335}. Best is trial 0 with value: 0.5757799873512947.\n",
      "[I 2025-07-28 19:26:56,532] Trial 6 finished with value: 0.5730331870476754 and parameters: {'C': 6.337719425683736, 'solver': 'lbfgs', 'max_iter': 149}. Best is trial 0 with value: 0.5757799873512947.\n",
      "[I 2025-07-28 19:26:56,720] Trial 7 finished with value: 0.5256968077491591 and parameters: {'C': 0.0018194353563725848, 'solver': 'liblinear', 'max_iter': 218}. Best is trial 0 with value: 0.5757799873512947.\n",
      "[I 2025-07-28 19:26:56,947] Trial 8 finished with value: 0.5667625295732328 and parameters: {'C': 0.009792683982468707, 'solver': 'lbfgs', 'max_iter': 2924}. Best is trial 0 with value: 0.5757799873512947.\n",
      "[I 2025-07-28 19:26:57,210] Trial 9 finished with value: 0.5730331870476754 and parameters: {'C': 9.760394623579288, 'solver': 'lbfgs', 'max_iter': 2530}. Best is trial 0 with value: 0.5757799873512947.\n",
      "[I 2025-07-28 19:26:57,480] Trial 10 finished with value: 0.5759520063587976 and parameters: {'C': 935.2129446426675, 'solver': 'lbfgs', 'max_iter': 884}. Best is trial 10 with value: 0.5759520063587976.\n",
      "[I 2025-07-28 19:26:57,743] Trial 11 finished with value: 0.5758625493049699 and parameters: {'C': 344.3063088259013, 'solver': 'lbfgs', 'max_iter': 977}. Best is trial 10 with value: 0.5759520063587976.\n",
      "[I 2025-07-28 19:26:58,062] Trial 12 finished with value: 0.5751505899018039 and parameters: {'C': 951.9755974885597, 'solver': 'lbfgs', 'max_iter': 1126}. Best is trial 10 with value: 0.5759520063587976.\n",
      "[I 2025-07-28 19:26:58,400] Trial 13 finished with value: 0.5751505899018039 and parameters: {'C': 899.9138406335301, 'solver': 'lbfgs', 'max_iter': 937}. Best is trial 10 with value: 0.5759520063587976.\n",
      "[I 2025-07-28 19:26:58,706] Trial 14 finished with value: 0.5725857704413366 and parameters: {'C': 89.37557647291526, 'solver': 'lbfgs', 'max_iter': 1684}. Best is trial 10 with value: 0.5759520063587976.\n",
      "[I 2025-07-28 19:26:59,045] Trial 15 finished with value: 0.5725857704413366 and parameters: {'C': 97.40867750591815, 'solver': 'lbfgs', 'max_iter': 969}. Best is trial 10 with value: 0.5759520063587976.\n",
      "[I 2025-07-28 19:26:59,325] Trial 16 finished with value: 0.5725857704413366 and parameters: {'C': 147.22088579975505, 'solver': 'lbfgs', 'max_iter': 619}. Best is trial 10 with value: 0.5759520063587976.\n",
      "[I 2025-07-28 19:26:59,542] Trial 17 finished with value: 0.5838720680522215 and parameters: {'C': 0.08871359130150368, 'solver': 'lbfgs', 'max_iter': 1549}. Best is trial 17 with value: 0.5838720680522215.\n",
      "[I 2025-07-28 19:26:59,743] Trial 18 finished with value: 0.5839067821200044 and parameters: {'C': 0.09536137978777647, 'solver': 'liblinear', 'max_iter': 1847}. Best is trial 18 with value: 0.5839067821200044.\n",
      "[I 2025-07-28 19:26:59,946] Trial 19 finished with value: 0.5842165691225507 and parameters: {'C': 0.06633697195234277, 'solver': 'liblinear', 'max_iter': 1920}. Best is trial 19 with value: 0.5842165691225507.\n",
      "[I 2025-07-28 19:27:00,145] Trial 20 finished with value: 0.5821776998000502 and parameters: {'C': 0.04499522708168645, 'solver': 'liblinear', 'max_iter': 2068}. Best is trial 19 with value: 0.5842165691225507.\n",
      "[I 2025-07-28 19:27:00,323] Trial 21 finished with value: 0.5815488148394425 and parameters: {'C': 0.07428934134206745, 'solver': 'liblinear', 'max_iter': 1626}. Best is trial 19 with value: 0.5842165691225507.\n",
      "[I 2025-07-28 19:27:00,525] Trial 22 finished with value: 0.5774883752702579 and parameters: {'C': 0.12636039393863616, 'solver': 'liblinear', 'max_iter': 1876}. Best is trial 19 with value: 0.5842165691225507.\n",
      "[I 2025-07-28 19:27:00,710] Trial 23 finished with value: 0.5736189894029599 and parameters: {'C': 0.01668269839692668, 'solver': 'liblinear', 'max_iter': 2118}. Best is trial 19 with value: 0.5842165691225507.\n",
      "[I 2025-07-28 19:27:00,888] Trial 24 finished with value: 0.5704326251048365 and parameters: {'C': 0.3420006079263961, 'solver': 'liblinear', 'max_iter': 1392}. Best is trial 19 with value: 0.5842165691225507.\n",
      "[I 2025-07-28 19:27:01,075] Trial 25 finished with value: 0.521524467044177 and parameters: {'C': 0.0009990591377866185, 'solver': 'liblinear', 'max_iter': 1919}. Best is trial 19 with value: 0.5842165691225507.\n",
      "[I 2025-07-28 19:27:01,259] Trial 26 finished with value: 0.5835439759352802 and parameters: {'C': 0.030341064796441917, 'solver': 'liblinear', 'max_iter': 1468}. Best is trial 19 with value: 0.5842165691225507.\n",
      "[I 2025-07-28 19:27:01,444] Trial 27 finished with value: 0.573210420230198 and parameters: {'C': 0.18384119200421523, 'solver': 'liblinear', 'max_iter': 2729}. Best is trial 19 with value: 0.5842165691225507.\n",
      "[I 2025-07-28 19:27:01,660] Trial 28 finished with value: 0.5768906870921314 and parameters: {'C': 1.2632692266326344, 'solver': 'liblinear', 'max_iter': 2158}. Best is trial 19 with value: 0.5842165691225507.\n",
      "[I 2025-07-28 19:27:01,822] Trial 29 finished with value: 0.5456235766551617 and parameters: {'C': 0.0033970111002420045, 'solver': 'liblinear', 'max_iter': 1810}. Best is trial 19 with value: 0.5842165691225507.\n",
      "[I 2025-07-28 19:27:01,992] Trial 30 finished with value: 0.5712462520401937 and parameters: {'C': 0.5323824360374526, 'solver': 'liblinear', 'max_iter': 1596}. Best is trial 19 with value: 0.5842165691225507.\n",
      "[I 2025-07-28 19:27:02,162] Trial 31 finished with value: 0.5803274978379207 and parameters: {'C': 0.02859911017260983, 'solver': 'liblinear', 'max_iter': 1341}. Best is trial 19 with value: 0.5842165691225507.\n",
      "[I 2025-07-28 19:27:02,342] Trial 32 finished with value: 0.5823412243900631 and parameters: {'C': 0.06773534846941116, 'solver': 'liblinear', 'max_iter': 1439}. Best is trial 19 with value: 0.5842165691225507.\n",
      "[I 2025-07-28 19:27:02,525] Trial 33 finished with value: 0.5792652599335776 and parameters: {'C': 0.022430619393464177, 'solver': 'liblinear', 'max_iter': 2282}. Best is trial 19 with value: 0.5842165691225507.\n",
      "[I 2025-07-28 19:27:02,727] Trial 34 finished with value: 0.5769853736153893 and parameters: {'C': 1.7681536640727002, 'solver': 'liblinear', 'max_iter': 1182}. Best is trial 19 with value: 0.5842165691225507.\n",
      "[I 2025-07-28 19:27:02,927] Trial 35 finished with value: 0.5696022917004206 and parameters: {'C': 0.2071408749683881, 'solver': 'liblinear', 'max_iter': 1925}. Best is trial 19 with value: 0.5842165691225507.\n",
      "[I 2025-07-28 19:27:03,129] Trial 36 finished with value: 0.5623056227628076 and parameters: {'C': 0.008406381420867116, 'solver': 'liblinear', 'max_iter': 654}. Best is trial 19 with value: 0.5842165691225507.\n",
      "[I 2025-07-28 19:27:03,307] Trial 37 finished with value: 0.5707342279789375 and parameters: {'C': 0.6782814117411372, 'solver': 'liblinear', 'max_iter': 1621}. Best is trial 19 with value: 0.5842165691225507.\n",
      "[I 2025-07-28 19:27:03,492] Trial 38 finished with value: 0.5188745720224994 and parameters: {'C': 0.0009625428152178833, 'solver': 'liblinear', 'max_iter': 2401}. Best is trial 19 with value: 0.5842165691225507.\n",
      "[I 2025-07-28 19:27:03,708] Trial 39 finished with value: 0.5204437792843433 and parameters: {'C': 0.0002474178452084334, 'solver': 'lbfgs', 'max_iter': 2679}. Best is trial 19 with value: 0.5842165691225507.\n",
      "[I 2025-07-28 19:27:03,894] Trial 40 finished with value: 0.5476739621870095 and parameters: {'C': 0.004015030644166177, 'solver': 'liblinear', 'max_iter': 1483}. Best is trial 19 with value: 0.5842165691225507.\n",
      "[I 2025-07-28 19:27:04,126] Trial 41 finished with value: 0.5815488148394425 and parameters: {'C': 0.07828044366946882, 'solver': 'liblinear', 'max_iter': 1232}. Best is trial 19 with value: 0.5842165691225507.\n",
      "[I 2025-07-28 19:27:04,344] Trial 42 finished with value: 0.582997753849067 and parameters: {'C': 0.04806507141504543, 'solver': 'liblinear', 'max_iter': 1473}. Best is trial 19 with value: 0.5842165691225507.\n",
      "[I 2025-07-28 19:27:04,527] Trial 43 finished with value: 0.575755877163459 and parameters: {'C': 0.014856289875770456, 'solver': 'liblinear', 'max_iter': 1701}. Best is trial 19 with value: 0.5842165691225507.\n",
      "[I 2025-07-28 19:27:04,728] Trial 44 finished with value: 0.5862215062254664 and parameters: {'C': 0.03304129325205358, 'solver': 'liblinear', 'max_iter': 1974}. Best is trial 44 with value: 0.5862215062254664.\n",
      "[I 2025-07-28 19:27:04,977] Trial 45 finished with value: 0.5691279321697993 and parameters: {'C': 0.3047763526163495, 'solver': 'lbfgs', 'max_iter': 2005}. Best is trial 44 with value: 0.5862215062254664.\n",
      "[I 2025-07-28 19:27:05,176] Trial 46 finished with value: 0.5762116410149355 and parameters: {'C': 0.1359558680077345, 'solver': 'liblinear', 'max_iter': 2214}. Best is trial 44 with value: 0.5862215062254664.\n",
      "[I 2025-07-28 19:27:05,393] Trial 47 finished with value: 0.5884082674547807 and parameters: {'C': 0.034202932938473644, 'solver': 'lbfgs', 'max_iter': 1792}. Best is trial 47 with value: 0.5884082674547807.\n",
      "[I 2025-07-28 19:27:05,662] Trial 48 finished with value: 0.5717365453985173 and parameters: {'C': 3.6547016271922783, 'solver': 'lbfgs', 'max_iter': 1796}. Best is trial 47 with value: 0.5884082674547807.\n",
      "[I 2025-07-28 19:27:05,858] Trial 49 finished with value: 0.5673433054813966 and parameters: {'C': 0.008473827924364623, 'solver': 'lbfgs', 'max_iter': 3085}. Best is trial 47 with value: 0.5884082674547807.\n",
      "[I 2025-07-28 19:27:06,059] Trial 50 finished with value: 0.5424623815701966 and parameters: {'C': 0.003209518696421653, 'solver': 'lbfgs', 'max_iter': 2499}. Best is trial 47 with value: 0.5884082674547807.\n",
      "[I 2025-07-28 19:27:06,290] Trial 51 finished with value: 0.5876039105213916 and parameters: {'C': 0.03659012357029247, 'solver': 'lbfgs', 'max_iter': 1744}. Best is trial 47 with value: 0.5884082674547807.\n",
      "[I 2025-07-28 19:27:06,512] Trial 52 finished with value: 0.5802243019490169 and parameters: {'C': 0.11128213687146477, 'solver': 'lbfgs', 'max_iter': 1990}. Best is trial 47 with value: 0.5884082674547807.\n",
      "[I 2025-07-28 19:27:06,744] Trial 53 finished with value: 0.5821662149595204 and parameters: {'C': 0.04243991834573923, 'solver': 'lbfgs', 'max_iter': 2302}. Best is trial 47 with value: 0.5884082674547807.\n",
      "[I 2025-07-28 19:27:06,952] Trial 54 finished with value: 0.5736189894029599 and parameters: {'C': 0.016727441155580357, 'solver': 'lbfgs', 'max_iter': 1781}. Best is trial 47 with value: 0.5884082674547807.\n",
      "[I 2025-07-28 19:27:07,178] Trial 55 finished with value: 0.5691279321697993 and parameters: {'C': 0.32318935678769456, 'solver': 'lbfgs', 'max_iter': 2033}. Best is trial 47 with value: 0.5884082674547807.\n",
      "[I 2025-07-28 19:27:07,371] Trial 56 finished with value: 0.5582007808880948 and parameters: {'C': 0.0062444938990282965, 'solver': 'lbfgs', 'max_iter': 1596}. Best is trial 47 with value: 0.5884082674547807.\n",
      "[I 2025-07-28 19:27:07,596] Trial 57 finished with value: 0.5844437203635267 and parameters: {'C': 0.0477841827122016, 'solver': 'lbfgs', 'max_iter': 1775}. Best is trial 47 with value: 0.5884082674547807.\n",
      "[I 2025-07-28 19:27:07,812] Trial 58 finished with value: 0.5840231739593363 and parameters: {'C': 0.04004776015539081, 'solver': 'lbfgs', 'max_iter': 1741}. Best is trial 47 with value: 0.5884082674547807.\n",
      "[I 2025-07-28 19:27:08,012] Trial 59 finished with value: 0.568274601826271 and parameters: {'C': 0.010804811039683521, 'solver': 'lbfgs', 'max_iter': 1305}. Best is trial 47 with value: 0.5884082674547807.\n",
      "[I 2025-07-28 19:27:08,231] Trial 60 finished with value: 0.5868647236269755 and parameters: {'C': 0.0367403502911408, 'solver': 'lbfgs', 'max_iter': 1707}. Best is trial 47 with value: 0.5884082674547807.\n",
      "[I 2025-07-28 19:27:08,432] Trial 61 finished with value: 0.5821662149595204 and parameters: {'C': 0.042145387286743476, 'solver': 'lbfgs', 'max_iter': 1705}. Best is trial 47 with value: 0.5884082674547807.\n",
      "[I 2025-07-28 19:27:08,641] Trial 62 finished with value: 0.5815129899143059 and parameters: {'C': 0.026625795015568443, 'solver': 'lbfgs', 'max_iter': 2177}. Best is trial 47 with value: 0.5884082674547807.\n",
      "[I 2025-07-28 19:27:08,840] Trial 63 finished with value: 0.5261357611924538 and parameters: {'C': 0.001983486371880574, 'solver': 'lbfgs', 'max_iter': 1909}. Best is trial 47 with value: 0.5884082674547807.\n",
      "[I 2025-07-28 19:27:09,078] Trial 64 finished with value: 0.5695877277821971 and parameters: {'C': 0.21903924493959337, 'solver': 'lbfgs', 'max_iter': 1720}. Best is trial 47 with value: 0.5884082674547807.\n",
      "[I 2025-07-28 19:27:09,325] Trial 65 finished with value: 0.5856803270395105 and parameters: {'C': 0.057431730953777384, 'solver': 'lbfgs', 'max_iter': 2107}. Best is trial 47 with value: 0.5884082674547807.\n",
      "[I 2025-07-28 19:27:09,542] Trial 66 finished with value: 0.5729546515789934 and parameters: {'C': 0.014058264428738932, 'solver': 'lbfgs', 'max_iter': 2075}. Best is trial 47 with value: 0.5884082674547807.\n",
      "[I 2025-07-28 19:27:09,759] Trial 67 finished with value: 0.5830680904789644 and parameters: {'C': 0.06918471897110874, 'solver': 'lbfgs', 'max_iter': 1086}. Best is trial 47 with value: 0.5884082674547807.\n",
      "[I 2025-07-28 19:27:09,992] Trial 68 finished with value: 0.5769856473037367 and parameters: {'C': 0.13959481240614266, 'solver': 'lbfgs', 'max_iter': 2288}. Best is trial 47 with value: 0.5884082674547807.\n",
      "[I 2025-07-28 19:27:10,225] Trial 69 finished with value: 0.5781658712830721 and parameters: {'C': 0.02156534580215692, 'solver': 'lbfgs', 'max_iter': 1947}. Best is trial 47 with value: 0.5884082674547807.\n",
      "[I 2025-07-28 19:27:10,456] Trial 70 finished with value: 0.5704034563651917 and parameters: {'C': 0.40127983591848293, 'solver': 'lbfgs', 'max_iter': 2559}. Best is trial 47 with value: 0.5884082674547807.\n",
      "[I 2025-07-28 19:27:10,678] Trial 71 finished with value: 0.5818306206504964 and parameters: {'C': 0.04468141743786214, 'solver': 'lbfgs', 'max_iter': 1828}. Best is trial 47 with value: 0.5884082674547807.\n",
      "[I 2025-07-28 19:27:10,925] Trial 72 finished with value: 0.579837136717447 and parameters: {'C': 0.027111805534728747, 'solver': 'lbfgs', 'max_iter': 1527}. Best is trial 47 with value: 0.5884082674547807.\n",
      "[I 2025-07-28 19:27:11,142] Trial 73 finished with value: 0.586027614804564 and parameters: {'C': 0.054773544834557326, 'solver': 'lbfgs', 'max_iter': 2091}. Best is trial 47 with value: 0.5884082674547807.\n",
      "[I 2025-07-28 19:27:11,375] Trial 74 finished with value: 0.5865116921788587 and parameters: {'C': 0.06232655408117282, 'solver': 'lbfgs', 'max_iter': 2064}. Best is trial 47 with value: 0.5884082674547807.\n",
      "[I 2025-07-28 19:27:11,592] Trial 75 finished with value: 0.5711886913686014 and parameters: {'C': 0.19338736594076694, 'solver': 'lbfgs', 'max_iter': 2174}. Best is trial 47 with value: 0.5884082674547807.\n",
      "[I 2025-07-28 19:27:11,825] Trial 76 finished with value: 0.5590470730704707 and parameters: {'C': 0.006494086208499523, 'solver': 'lbfgs', 'max_iter': 2108}. Best is trial 47 with value: 0.5884082674547807.\n",
      "[I 2025-07-28 19:27:12,042] Trial 77 finished with value: 0.5852894640664132 and parameters: {'C': 0.05621290953095282, 'solver': 'lbfgs', 'max_iter': 2409}. Best is trial 47 with value: 0.5884082674547807.\n",
      "[I 2025-07-28 19:27:12,258] Trial 78 finished with value: 0.5838720680522215 and parameters: {'C': 0.08929295883927658, 'solver': 'lbfgs', 'max_iter': 2631}. Best is trial 47 with value: 0.5884082674547807.\n",
      "[I 2025-07-28 19:27:12,475] Trial 79 finished with value: 0.5719928202394641 and parameters: {'C': 0.011689218303998467, 'solver': 'lbfgs', 'max_iter': 2373}. Best is trial 47 with value: 0.5884082674547807.\n",
      "[I 2025-07-28 19:27:12,675] Trial 80 finished with value: 0.5781658712830721 and parameters: {'C': 0.021293686944557497, 'solver': 'lbfgs', 'max_iter': 2892}. Best is trial 47 with value: 0.5884082674547807.\n",
      "[I 2025-07-28 19:27:12,892] Trial 81 finished with value: 0.5865116921788587 and parameters: {'C': 0.06253204941735455, 'solver': 'lbfgs', 'max_iter': 1878}. Best is trial 47 with value: 0.5884082674547807.\n",
      "[I 2025-07-28 19:27:13,128] Trial 82 finished with value: 0.5856803270395105 and parameters: {'C': 0.06039396238538217, 'solver': 'lbfgs', 'max_iter': 2258}. Best is trial 47 with value: 0.5884082674547807.\n",
      "[I 2025-07-28 19:27:13,375] Trial 83 finished with value: 0.577699659329675 and parameters: {'C': 1.0460323159957574, 'solver': 'lbfgs', 'max_iter': 2239}. Best is trial 47 with value: 0.5884082674547807.\n",
      "[I 2025-07-28 19:27:13,592] Trial 84 finished with value: 0.5876039105213916 and parameters: {'C': 0.035021827631549776, 'solver': 'lbfgs', 'max_iter': 2040}. Best is trial 47 with value: 0.5884082674547807.\n",
      "[I 2025-07-28 19:27:13,825] Trial 85 finished with value: 0.5810071222177144 and parameters: {'C': 0.11067532349924983, 'solver': 'lbfgs', 'max_iter': 1859}. Best is trial 47 with value: 0.5884082674547807.\n",
      "[I 2025-07-28 19:27:14,025] Trial 86 finished with value: 0.5884082674547807 and parameters: {'C': 0.03363603707075796, 'solver': 'lbfgs', 'max_iter': 2028}. Best is trial 47 with value: 0.5884082674547807.\n",
      "[I 2025-07-28 19:27:14,342] Trial 87 finished with value: 0.5722357386725203 and parameters: {'C': 29.83699060757297, 'solver': 'lbfgs', 'max_iter': 3471}. Best is trial 47 with value: 0.5884082674547807.\n",
      "[I 2025-07-28 19:27:14,575] Trial 88 finished with value: 0.5807781272760307 and parameters: {'C': 0.031194660148057843, 'solver': 'lbfgs', 'max_iter': 1989}. Best is trial 47 with value: 0.5884082674547807.\n",
      "[I 2025-07-28 19:27:14,792] Trial 89 finished with value: 0.5475024498586143 and parameters: {'C': 0.004542275133442667, 'solver': 'lbfgs', 'max_iter': 2043}. Best is trial 47 with value: 0.5884082674547807.\n",
      "[I 2025-07-28 19:27:15,008] Trial 90 finished with value: 0.5725516371141918 and parameters: {'C': 0.01950032152693132, 'solver': 'lbfgs', 'max_iter': 1638}. Best is trial 47 with value: 0.5884082674547807.\n",
      "[I 2025-07-28 19:27:15,240] Trial 91 finished with value: 0.5826282995960016 and parameters: {'C': 0.03247060949377248, 'solver': 'lbfgs', 'max_iter': 2128}. Best is trial 47 with value: 0.5884082674547807.\n",
      "[I 2025-07-28 19:27:15,458] Trial 92 finished with value: 0.575474749186877 and parameters: {'C': 0.14668952995782564, 'solver': 'lbfgs', 'max_iter': 1878}. Best is trial 47 with value: 0.5884082674547807.\n",
      "[I 2025-07-28 19:27:15,675] Trial 93 finished with value: 0.5838720680522215 and parameters: {'C': 0.08507521422926888, 'solver': 'lbfgs', 'max_iter': 1964}. Best is trial 47 with value: 0.5884082674547807.\n",
      "[I 2025-07-28 19:27:15,892] Trial 94 finished with value: 0.5760081761115975 and parameters: {'C': 0.01598615557388928, 'solver': 'lbfgs', 'max_iter': 2133}. Best is trial 47 with value: 0.5884082674547807.\n",
      "[I 2025-07-28 19:27:16,107] Trial 95 finished with value: 0.5674046148139621 and parameters: {'C': 0.008813988824850792, 'solver': 'lbfgs', 'max_iter': 2332}. Best is trial 47 with value: 0.5884082674547807.\n",
      "[I 2025-07-28 19:27:16,311] Trial 96 finished with value: 0.5884082674547807 and parameters: {'C': 0.034164165872957196, 'solver': 'lbfgs', 'max_iter': 2044}. Best is trial 47 with value: 0.5884082674547807.\n",
      "[I 2025-07-28 19:27:16,525] Trial 97 finished with value: 0.5884082674547807 and parameters: {'C': 0.034253847978450956, 'solver': 'lbfgs', 'max_iter': 1848}. Best is trial 47 with value: 0.5884082674547807.\n",
      "[I 2025-07-28 19:27:16,742] Trial 98 finished with value: 0.5884082674547807 and parameters: {'C': 0.034196872401568816, 'solver': 'lbfgs', 'max_iter': 1667}. Best is trial 47 with value: 0.5884082674547807.\n",
      "[I 2025-07-28 19:27:16,942] Trial 99 finished with value: 0.5716094566437937 and parameters: {'C': 0.2744144935290841, 'solver': 'lbfgs', 'max_iter': 1671}. Best is trial 47 with value: 0.5884082674547807.\n"
     ]
    },
    {
     "name": "stdout",
     "output_type": "stream",
     "text": [
      "Best params : {'C': 0.034202932938473644, 'solver': 'lbfgs', 'max_iter': 1792}\n",
      "Best F1 (CV):0.5884082674547807\n"
     ]
    }
   ],
   "source": [
    "def objective(trial,model_name=''):\n",
    "    if model_name == 'log_reg':\n",
    "        params = {\n",
    "            'C': trial.suggest_float('C', 1e-4, 1000, log=True),\n",
    "            'solver': trial.suggest_categorical('solver', ['lbfgs', 'liblinear']),\n",
    "            'max_iter': trial.suggest_int('max_iter', 100, 3500)\n",
    "        }\n",
    "    elif model_name == 'rf':\n",
    "        params = {\n",
    "            'n_estimators': trial.suggest_int('n_estimators', 50, 500),\n",
    "            'max_depth': trial.suggest_int('max_depth', 2, 32),\n",
    "            'min_samples_split': trial.suggest_int('min_samples_split', 2, 10),\n",
    "            'min_samples_leaf': trial.suggest_int('min_samples_leaf', 1, 10),\n",
    "        }\n",
    "    elif model_name == 'xgb':\n",
    "        params = {\n",
    "            'n_estimators': trial.suggest_int('n_estimators', 50, 500),\n",
    "            'max_depth': trial.suggest_int('max_depth', 2, 16),\n",
    "            'learning_rate': trial.suggest_float('learning_rate', 1e-3, 0.3, log=True),\n",
    "            'subsample': trial.suggest_float('subsample', 0.5, 1.0),\n",
    "            'colsample_bytree': trial.suggest_float('colsample_bytree', 0.5, 1.0),\n",
    "            'gamma': trial.suggest_float('gamma', 0, 5.0),\n",
    "            'reg_lambda': trial.suggest_float('reg_lambda', 1e-4, 10.0, log=True),\n",
    "            'reg_alpha': trial.suggest_float('reg_alpha', 1e-4, 10.0, log=True),\n",
    "        }\n",
    "    # Buat pipeline model\n",
    "    model = generate_pipeline(\n",
    "        model=models(model_name, **params)\n",
    "    )\n",
    "\n",
    "    # Cross-validation\n",
    "    scores_f1 = cross_val_score(model, X, y, cv=5, scoring='f1')\n",
    "    scores_roc = cross_val_score(model, X, y, cv=5, scoring='roc_auc')\n",
    "    trial.set_user_attr('roc_auc', np.mean(scores_roc))\n",
    "    return np.mean(scores_f1)\n",
    "\n",
    "studylogreg = optuna.create_study(direction='maximize')\n",
    "studylogreg.optimize(partial(objective,model_name='log_reg'), n_trials=100)\n",
    "print(f'Best params : {studylogreg.best_params}')\n",
    "print(f'Best F1 (CV):{studylogreg.best_value}')"
   ]
  },
  {
   "cell_type": "code",
   "execution_count": 308,
   "id": "4312f7b4",
   "metadata": {},
   "outputs": [
    {
     "name": "stderr",
     "output_type": "stream",
     "text": [
      "[I 2025-07-28 19:27:16,967] A new study created in memory with name: no-name-d245f92a-8d0f-4ed9-85be-5bfc471fe5b0\n",
      "[I 2025-07-28 19:27:20,043] Trial 0 finished with value: 0.5745619580145405 and parameters: {'n_estimators': 207, 'max_depth': 11, 'min_samples_split': 4, 'min_samples_leaf': 8}. Best is trial 0 with value: 0.5745619580145405.\n",
      "[I 2025-07-28 19:27:21,474] Trial 1 finished with value: 0.5800054849643039 and parameters: {'n_estimators': 92, 'max_depth': 27, 'min_samples_split': 10, 'min_samples_leaf': 10}. Best is trial 1 with value: 0.5800054849643039.\n",
      "[I 2025-07-28 19:27:27,010] Trial 2 finished with value: 0.576109080942103 and parameters: {'n_estimators': 400, 'max_depth': 18, 'min_samples_split': 3, 'min_samples_leaf': 9}. Best is trial 1 with value: 0.5800054849643039.\n",
      "[I 2025-07-28 19:27:29,154] Trial 3 finished with value: 0.5862872255857751 and parameters: {'n_estimators': 144, 'max_depth': 31, 'min_samples_split': 7, 'min_samples_leaf': 9}. Best is trial 3 with value: 0.5862872255857751.\n",
      "[I 2025-07-28 19:27:36,392] Trial 4 finished with value: 0.5686287523279305 and parameters: {'n_estimators': 475, 'max_depth': 7, 'min_samples_split': 10, 'min_samples_leaf': 4}. Best is trial 3 with value: 0.5862872255857751.\n",
      "[I 2025-07-28 19:27:38,771] Trial 5 finished with value: 0.5645001929464911 and parameters: {'n_estimators': 154, 'max_depth': 6, 'min_samples_split': 5, 'min_samples_leaf': 9}. Best is trial 3 with value: 0.5862872255857751.\n",
      "[I 2025-07-28 19:27:41,698] Trial 6 finished with value: 0.5687446578017081 and parameters: {'n_estimators': 231, 'max_depth': 4, 'min_samples_split': 5, 'min_samples_leaf': 2}. Best is trial 3 with value: 0.5862872255857751.\n",
      "[I 2025-07-28 19:27:45,641] Trial 7 finished with value: 0.5736556696660925 and parameters: {'n_estimators': 264, 'max_depth': 17, 'min_samples_split': 4, 'min_samples_leaf': 7}. Best is trial 3 with value: 0.5862872255857751.\n",
      "[I 2025-07-28 19:27:52,920] Trial 8 finished with value: 0.5720180950639113 and parameters: {'n_estimators': 469, 'max_depth': 26, 'min_samples_split': 8, 'min_samples_leaf': 5}. Best is trial 3 with value: 0.5862872255857751.\n",
      "[I 2025-07-28 19:27:58,625] Trial 9 finished with value: 0.5662078157071369 and parameters: {'n_estimators': 385, 'max_depth': 18, 'min_samples_split': 6, 'min_samples_leaf': 7}. Best is trial 3 with value: 0.5862872255857751.\n",
      "[I 2025-07-28 19:27:59,810] Trial 10 finished with value: 0.5509050006577383 and parameters: {'n_estimators': 57, 'max_depth': 29, 'min_samples_split': 8, 'min_samples_leaf': 2}. Best is trial 3 with value: 0.5862872255857751.\n",
      "[I 2025-07-28 19:28:00,710] Trial 11 finished with value: 0.5655107835564306 and parameters: {'n_estimators': 52, 'max_depth': 31, 'min_samples_split': 10, 'min_samples_leaf': 10}. Best is trial 3 with value: 0.5862872255857751.\n",
      "[I 2025-07-28 19:28:02,858] Trial 12 finished with value: 0.5787838257858804 and parameters: {'n_estimators': 145, 'max_depth': 24, 'min_samples_split': 8, 'min_samples_leaf': 10}. Best is trial 3 with value: 0.5862872255857751.\n",
      "[I 2025-07-28 19:28:04,927] Trial 13 finished with value: 0.571882711992855 and parameters: {'n_estimators': 130, 'max_depth': 24, 'min_samples_split': 9, 'min_samples_leaf': 7}. Best is trial 3 with value: 0.5862872255857751.\n",
      "[I 2025-07-28 19:28:06,608] Trial 14 finished with value: 0.5879785575048733 and parameters: {'n_estimators': 107, 'max_depth': 32, 'min_samples_split': 7, 'min_samples_leaf': 10}. Best is trial 14 with value: 0.5879785575048733.\n",
      "[I 2025-07-28 19:28:11,398] Trial 15 finished with value: 0.5820767263427109 and parameters: {'n_estimators': 326, 'max_depth': 32, 'min_samples_split': 7, 'min_samples_leaf': 8}. Best is trial 14 with value: 0.5879785575048733.\n",
      "[I 2025-07-28 19:28:14,603] Trial 16 finished with value: 0.5688676378478098 and parameters: {'n_estimators': 183, 'max_depth': 21, 'min_samples_split': 6, 'min_samples_leaf': 4}. Best is trial 14 with value: 0.5879785575048733.\n",
      "[I 2025-07-28 19:28:16,241] Trial 17 finished with value: 0.5729610991438518 and parameters: {'n_estimators': 105, 'max_depth': 13, 'min_samples_split': 7, 'min_samples_leaf': 6}. Best is trial 14 with value: 0.5879785575048733.\n",
      "[I 2025-07-28 19:28:20,490] Trial 18 finished with value: 0.5825370311186866 and parameters: {'n_estimators': 301, 'max_depth': 29, 'min_samples_split': 2, 'min_samples_leaf': 9}. Best is trial 14 with value: 0.5879785575048733.\n",
      "[I 2025-07-28 19:28:23,941] Trial 19 finished with value: 0.5853530405610725 and parameters: {'n_estimators': 242, 'max_depth': 22, 'min_samples_split': 7, 'min_samples_leaf': 8}. Best is trial 14 with value: 0.5879785575048733.\n",
      "[I 2025-07-28 19:28:28,057] Trial 20 finished with value: 0.5639248386891178 and parameters: {'n_estimators': 182, 'max_depth': 32, 'min_samples_split': 5, 'min_samples_leaf': 1}. Best is trial 14 with value: 0.5879785575048733.\n",
      "[I 2025-07-28 19:28:32,124] Trial 21 finished with value: 0.5784946775333647 and parameters: {'n_estimators': 249, 'max_depth': 23, 'min_samples_split': 7, 'min_samples_leaf': 8}. Best is trial 14 with value: 0.5879785575048733.\n",
      "[I 2025-07-28 19:28:33,656] Trial 22 finished with value: 0.5703823076576695 and parameters: {'n_estimators': 93, 'max_depth': 28, 'min_samples_split': 6, 'min_samples_leaf': 9}. Best is trial 14 with value: 0.5879785575048733.\n",
      "[I 2025-07-28 19:28:38,510] Trial 23 finished with value: 0.584756466109345 and parameters: {'n_estimators': 333, 'max_depth': 20, 'min_samples_split': 9, 'min_samples_leaf': 10}. Best is trial 14 with value: 0.5879785575048733.\n",
      "[I 2025-07-28 19:28:41,644] Trial 24 finished with value: 0.5777644157229451 and parameters: {'n_estimators': 208, 'max_depth': 14, 'min_samples_split': 7, 'min_samples_leaf': 8}. Best is trial 14 with value: 0.5879785575048733.\n",
      "[I 2025-07-28 19:28:44,202] Trial 25 finished with value: 0.580521578954281 and parameters: {'n_estimators': 169, 'max_depth': 26, 'min_samples_split': 8, 'min_samples_leaf': 9}. Best is trial 14 with value: 0.5879785575048733.\n",
      "[I 2025-07-28 19:28:46,430] Trial 26 finished with value: 0.5669186569955278 and parameters: {'n_estimators': 128, 'max_depth': 30, 'min_samples_split': 6, 'min_samples_leaf': 6}. Best is trial 14 with value: 0.5879785575048733.\n",
      "[I 2025-07-28 19:28:51,024] Trial 27 finished with value: 0.5775590678052956 and parameters: {'n_estimators': 284, 'max_depth': 23, 'min_samples_split': 9, 'min_samples_leaf': 10}. Best is trial 14 with value: 0.5879785575048733.\n",
      "[I 2025-07-28 19:28:54,472] Trial 28 finished with value: 0.5743955080319137 and parameters: {'n_estimators': 222, 'max_depth': 21, 'min_samples_split': 6, 'min_samples_leaf': 7}. Best is trial 14 with value: 0.5879785575048733.\n",
      "[I 2025-07-28 19:28:57,392] Trial 29 finished with value: 0.5691594977926269 and parameters: {'n_estimators': 188, 'max_depth': 15, 'min_samples_split': 7, 'min_samples_leaf': 8}. Best is trial 14 with value: 0.5879785575048733.\n",
      "[I 2025-07-28 19:28:59,174] Trial 30 finished with value: 0.5778734853919483 and parameters: {'n_estimators': 111, 'max_depth': 10, 'min_samples_split': 4, 'min_samples_leaf': 8}. Best is trial 14 with value: 0.5879785575048733.\n",
      "[I 2025-07-28 19:29:03,670] Trial 31 finished with value: 0.5673019589147815 and parameters: {'n_estimators': 318, 'max_depth': 20, 'min_samples_split': 9, 'min_samples_leaf': 10}. Best is trial 14 with value: 0.5879785575048733.\n",
      "[I 2025-07-28 19:29:08,789] Trial 32 finished with value: 0.5724520103375398 and parameters: {'n_estimators': 357, 'max_depth': 26, 'min_samples_split': 9, 'min_samples_leaf': 10}. Best is trial 14 with value: 0.5879785575048733.\n",
      "[I 2025-07-28 19:29:13,640] Trial 33 finished with value: 0.574405698215222 and parameters: {'n_estimators': 346, 'max_depth': 19, 'min_samples_split': 8, 'min_samples_leaf': 9}. Best is trial 14 with value: 0.5879785575048733.\n",
      "[I 2025-07-28 19:29:19,723] Trial 34 finished with value: 0.5730564607254159 and parameters: {'n_estimators': 426, 'max_depth': 16, 'min_samples_split': 7, 'min_samples_leaf': 9}. Best is trial 14 with value: 0.5879785575048733.\n",
      "[I 2025-07-28 19:29:20,997] Trial 35 finished with value: 0.5705040525372395 and parameters: {'n_estimators': 75, 'max_depth': 11, 'min_samples_split': 10, 'min_samples_leaf': 10}. Best is trial 14 with value: 0.5879785575048733.\n",
      "[I 2025-07-28 19:29:24,742] Trial 36 finished with value: 0.5777467290059037 and parameters: {'n_estimators': 250, 'max_depth': 30, 'min_samples_split': 5, 'min_samples_leaf': 9}. Best is trial 14 with value: 0.5879785575048733.\n",
      "[I 2025-07-28 19:29:29,458] Trial 37 finished with value: 0.5747590511475493 and parameters: {'n_estimators': 282, 'max_depth': 27, 'min_samples_split': 8, 'min_samples_leaf': 10}. Best is trial 14 with value: 0.5879785575048733.\n",
      "[I 2025-07-28 19:29:35,724] Trial 38 finished with value: 0.5701493957790429 and parameters: {'n_estimators': 416, 'max_depth': 24, 'min_samples_split': 9, 'min_samples_leaf': 8}. Best is trial 14 with value: 0.5879785575048733.\n",
      "[I 2025-07-28 19:29:40,980] Trial 39 finished with value: 0.5683101496800127 and parameters: {'n_estimators': 363, 'max_depth': 22, 'min_samples_split': 3, 'min_samples_leaf': 9}. Best is trial 14 with value: 0.5879785575048733.\n",
      "[I 2025-07-28 19:29:42,989] Trial 40 finished with value: 0.5772372726746233 and parameters: {'n_estimators': 154, 'max_depth': 2, 'min_samples_split': 5, 'min_samples_leaf': 5}. Best is trial 14 with value: 0.5879785575048733.\n",
      "[I 2025-07-28 19:29:47,439] Trial 41 finished with value: 0.5674083797269847 and parameters: {'n_estimators': 302, 'max_depth': 29, 'min_samples_split': 4, 'min_samples_leaf': 9}. Best is trial 14 with value: 0.5879785575048733.\n",
      "[I 2025-07-28 19:29:51,641] Trial 42 finished with value: 0.5863193076190858 and parameters: {'n_estimators': 304, 'max_depth': 28, 'min_samples_split': 3, 'min_samples_leaf': 10}. Best is trial 14 with value: 0.5879785575048733.\n",
      "[I 2025-07-28 19:29:55,122] Trial 43 finished with value: 0.5659547519245655 and parameters: {'n_estimators': 237, 'max_depth': 32, 'min_samples_split': 2, 'min_samples_leaf': 10}. Best is trial 14 with value: 0.5879785575048733.\n",
      "[I 2025-07-28 19:29:59,088] Trial 44 finished with value: 0.5665318389542391 and parameters: {'n_estimators': 268, 'max_depth': 27, 'min_samples_split': 8, 'min_samples_leaf': 10}. Best is trial 14 with value: 0.5879785575048733.\n",
      "[I 2025-07-28 19:30:04,425] Trial 45 finished with value: 0.5809014809920535 and parameters: {'n_estimators': 389, 'max_depth': 30, 'min_samples_split': 3, 'min_samples_leaf': 10}. Best is trial 14 with value: 0.5879785575048733.\n",
      "[I 2025-07-28 19:30:09,222] Trial 46 finished with value: 0.5769093536712244 and parameters: {'n_estimators': 336, 'max_depth': 25, 'min_samples_split': 6, 'min_samples_leaf': 9}. Best is trial 14 with value: 0.5879785575048733.\n",
      "[I 2025-07-28 19:30:14,255] Trial 47 finished with value: 0.567872897620955 and parameters: {'n_estimators': 304, 'max_depth': 18, 'min_samples_split': 7, 'min_samples_leaf': 4}. Best is trial 14 with value: 0.5879785575048733.\n",
      "[I 2025-07-28 19:30:15,422] Trial 48 finished with value: 0.5885050088915641 and parameters: {'n_estimators': 68, 'max_depth': 28, 'min_samples_split': 10, 'min_samples_leaf': 10}. Best is trial 48 with value: 0.5885050088915641.\n",
      "[I 2025-07-28 19:30:16,339] Trial 49 finished with value: 0.565836279525186 and parameters: {'n_estimators': 50, 'max_depth': 28, 'min_samples_split': 10, 'min_samples_leaf': 8}. Best is trial 48 with value: 0.5885050088915641.\n",
      "[I 2025-07-28 19:30:17,674] Trial 50 finished with value: 0.5821543531655765 and parameters: {'n_estimators': 77, 'max_depth': 31, 'min_samples_split': 5, 'min_samples_leaf': 7}. Best is trial 48 with value: 0.5885050088915641.\n",
      "[I 2025-07-28 19:30:19,605] Trial 51 finished with value: 0.5709901069936828 and parameters: {'n_estimators': 125, 'max_depth': 28, 'min_samples_split': 10, 'min_samples_leaf': 10}. Best is trial 48 with value: 0.5885050088915641.\n",
      "[I 2025-07-28 19:30:21,089] Trial 52 finished with value: 0.5667784159391832 and parameters: {'n_estimators': 93, 'max_depth': 31, 'min_samples_split': 9, 'min_samples_leaf': 9}. Best is trial 48 with value: 0.5885050088915641.\n",
      "[I 2025-07-28 19:30:22,154] Trial 53 finished with value: 0.5704666735381021 and parameters: {'n_estimators': 65, 'max_depth': 25, 'min_samples_split': 10, 'min_samples_leaf': 10}. Best is trial 48 with value: 0.5885050088915641.\n",
      "[I 2025-07-28 19:30:24,321] Trial 54 finished with value: 0.579577503325384 and parameters: {'n_estimators': 143, 'max_depth': 32, 'min_samples_split': 7, 'min_samples_leaf': 9}. Best is trial 48 with value: 0.5885050088915641.\n",
      "[I 2025-07-28 19:30:25,939] Trial 55 finished with value: 0.5746821748045454 and parameters: {'n_estimators': 103, 'max_depth': 29, 'min_samples_split': 8, 'min_samples_leaf': 10}. Best is trial 48 with value: 0.5885050088915641.\n",
      "[I 2025-07-28 19:30:28,839] Trial 56 finished with value: 0.5737757613728837 and parameters: {'n_estimators': 204, 'max_depth': 20, 'min_samples_split': 6, 'min_samples_leaf': 10}. Best is trial 48 with value: 0.5885050088915641.\n",
      "[I 2025-07-28 19:30:34,290] Trial 57 finished with value: 0.5788407984140453 and parameters: {'n_estimators': 374, 'max_depth': 27, 'min_samples_split': 9, 'min_samples_leaf': 9}. Best is trial 48 with value: 0.5885050088915641.\n",
      "[I 2025-07-28 19:30:35,670] Trial 58 finished with value: 0.5698440566801838 and parameters: {'n_estimators': 84, 'max_depth': 30, 'min_samples_split': 7, 'min_samples_leaf': 8}. Best is trial 48 with value: 0.5885050088915641.\n",
      "[I 2025-07-28 19:30:37,472] Trial 59 finished with value: 0.5767929770285433 and parameters: {'n_estimators': 117, 'max_depth': 23, 'min_samples_split': 8, 'min_samples_leaf': 10}. Best is trial 48 with value: 0.5885050088915641.\n",
      "[I 2025-07-28 19:30:45,779] Trial 60 finished with value: 0.5594714043860435 and parameters: {'n_estimators': 497, 'max_depth': 25, 'min_samples_split': 6, 'min_samples_leaf': 3}. Best is trial 48 with value: 0.5885050088915641.\n",
      "[I 2025-07-28 19:30:49,888] Trial 61 finished with value: 0.5666272971936904 and parameters: {'n_estimators': 293, 'max_depth': 29, 'min_samples_split': 4, 'min_samples_leaf': 9}. Best is trial 48 with value: 0.5885050088915641.\n",
      "[I 2025-07-28 19:30:54,388] Trial 62 finished with value: 0.5708402257709186 and parameters: {'n_estimators': 326, 'max_depth': 31, 'min_samples_split': 2, 'min_samples_leaf': 9}. Best is trial 48 with value: 0.5885050088915641.\n",
      "[I 2025-07-28 19:30:58,581] Trial 63 finished with value: 0.5724561051299514 and parameters: {'n_estimators': 308, 'max_depth': 28, 'min_samples_split': 2, 'min_samples_leaf': 10}. Best is trial 48 with value: 0.5885050088915641.\n",
      "[I 2025-07-28 19:31:03,738] Trial 64 finished with value: 0.568846571172473 and parameters: {'n_estimators': 346, 'max_depth': 22, 'min_samples_split': 3, 'min_samples_leaf': 8}. Best is trial 48 with value: 0.5885050088915641.\n",
      "[I 2025-07-28 19:31:07,654] Trial 65 finished with value: 0.5803087966712723 and parameters: {'n_estimators': 267, 'max_depth': 31, 'min_samples_split': 2, 'min_samples_leaf': 9}. Best is trial 48 with value: 0.5885050088915641.\n",
      "[I 2025-07-28 19:31:09,954] Trial 66 finished with value: 0.5799836905028053 and parameters: {'n_estimators': 163, 'max_depth': 17, 'min_samples_split': 3, 'min_samples_leaf': 9}. Best is trial 48 with value: 0.5885050088915641.\n",
      "[I 2025-07-28 19:31:14,383] Trial 67 finished with value: 0.5714157885696556 and parameters: {'n_estimators': 317, 'max_depth': 26, 'min_samples_split': 2, 'min_samples_leaf': 10}. Best is trial 48 with value: 0.5885050088915641.\n",
      "[I 2025-07-28 19:31:17,640] Trial 68 finished with value: 0.5628979050996882 and parameters: {'n_estimators': 214, 'max_depth': 19, 'min_samples_split': 10, 'min_samples_leaf': 7}. Best is trial 48 with value: 0.5885050088915641.\n",
      "[I 2025-07-28 19:31:21,190] Trial 69 finished with value: 0.5764839052288583 and parameters: {'n_estimators': 250, 'max_depth': 29, 'min_samples_split': 8, 'min_samples_leaf': 10}. Best is trial 48 with value: 0.5885050088915641.\n",
      "[I 2025-07-28 19:31:23,323] Trial 70 finished with value: 0.5824376289326499 and parameters: {'n_estimators': 140, 'max_depth': 32, 'min_samples_split': 7, 'min_samples_leaf': 8}. Best is trial 48 with value: 0.5885050088915641.\n",
      "[I 2025-07-28 19:31:25,420] Trial 71 finished with value: 0.5620277135345628 and parameters: {'n_estimators': 136, 'max_depth': 32, 'min_samples_split': 7, 'min_samples_leaf': 8}. Best is trial 48 with value: 0.5885050088915641.\n",
      "[I 2025-07-28 19:31:27,054] Trial 72 finished with value: 0.5796140283422815 and parameters: {'n_estimators': 99, 'max_depth': 30, 'min_samples_split': 7, 'min_samples_leaf': 7}. Best is trial 48 with value: 0.5885050088915641.\n",
      "[I 2025-07-28 19:31:28,155] Trial 73 finished with value: 0.5676276706199465 and parameters: {'n_estimators': 65, 'max_depth': 32, 'min_samples_split': 6, 'min_samples_leaf': 9}. Best is trial 48 with value: 0.5885050088915641.\n",
      "[I 2025-07-28 19:31:30,754] Trial 74 finished with value: 0.5670606769023399 and parameters: {'n_estimators': 178, 'max_depth': 27, 'min_samples_split': 7, 'min_samples_leaf': 8}. Best is trial 48 with value: 0.5885050088915641.\n",
      "[I 2025-07-28 19:31:33,654] Trial 75 finished with value: 0.5746279673669766 and parameters: {'n_estimators': 192, 'max_depth': 30, 'min_samples_split': 8, 'min_samples_leaf': 6}. Best is trial 48 with value: 0.5885050088915641.\n",
      "[I 2025-07-28 19:31:37,804] Trial 76 finished with value: 0.570433531006238 and parameters: {'n_estimators': 290, 'max_depth': 28, 'min_samples_split': 7, 'min_samples_leaf': 10}. Best is trial 48 with value: 0.5885050088915641.\n",
      "[I 2025-07-28 19:31:40,154] Trial 77 finished with value: 0.5754654386910303 and parameters: {'n_estimators': 160, 'max_depth': 29, 'min_samples_split': 9, 'min_samples_leaf': 9}. Best is trial 48 with value: 0.5885050088915641.\n",
      "[I 2025-07-28 19:31:43,739] Trial 78 finished with value: 0.575887168858714 and parameters: {'n_estimators': 239, 'max_depth': 31, 'min_samples_split': 6, 'min_samples_leaf': 8}. Best is trial 48 with value: 0.5885050088915641.\n",
      "[I 2025-07-28 19:31:46,123] Trial 79 finished with value: 0.5561254819625634 and parameters: {'n_estimators': 117, 'max_depth': 21, 'min_samples_split': 4, 'min_samples_leaf': 1}. Best is trial 48 with value: 0.5885050088915641.\n",
      "[I 2025-07-28 19:31:50,804] Trial 80 finished with value: 0.5749763909030305 and parameters: {'n_estimators': 330, 'max_depth': 30, 'min_samples_split': 5, 'min_samples_leaf': 10}. Best is trial 48 with value: 0.5885050088915641.\n",
      "[I 2025-07-28 19:31:52,002] Trial 81 finished with value: 0.5713321449792039 and parameters: {'n_estimators': 70, 'max_depth': 32, 'min_samples_split': 3, 'min_samples_leaf': 7}. Best is trial 48 with value: 0.5885050088915641.\n",
      "[I 2025-07-28 19:31:53,354] Trial 82 finished with value: 0.5652234394018432 and parameters: {'n_estimators': 80, 'max_depth': 31, 'min_samples_split': 5, 'min_samples_leaf': 7}. Best is trial 48 with value: 0.5885050088915641.\n",
      "[I 2025-07-28 19:31:54,854] Trial 83 finished with value: 0.5689363584380164 and parameters: {'n_estimators': 88, 'max_depth': 31, 'min_samples_split': 8, 'min_samples_leaf': 6}. Best is trial 48 with value: 0.5885050088915641.\n",
      "[I 2025-07-28 19:31:55,837] Trial 84 finished with value: 0.5713227879954059 and parameters: {'n_estimators': 59, 'max_depth': 26, 'min_samples_split': 6, 'min_samples_leaf': 8}. Best is trial 48 with value: 0.5885050088915641.\n",
      "[I 2025-07-28 19:31:57,904] Trial 85 finished with value: 0.574798724818843 and parameters: {'n_estimators': 150, 'max_depth': 8, 'min_samples_split': 3, 'min_samples_leaf': 9}. Best is trial 48 with value: 0.5885050088915641.\n",
      "[I 2025-07-28 19:31:59,572] Trial 86 finished with value: 0.5880466795674664 and parameters: {'n_estimators': 108, 'max_depth': 28, 'min_samples_split': 10, 'min_samples_leaf': 10}. Best is trial 48 with value: 0.5885050088915641.\n",
      "[I 2025-07-28 19:32:01,437] Trial 87 finished with value: 0.574123747851151 and parameters: {'n_estimators': 128, 'max_depth': 24, 'min_samples_split': 10, 'min_samples_leaf': 10}. Best is trial 48 with value: 0.5885050088915641.\n",
      "[I 2025-07-28 19:32:03,287] Trial 88 finished with value: 0.5823050072791522 and parameters: {'n_estimators': 115, 'max_depth': 27, 'min_samples_split': 10, 'min_samples_leaf': 10}. Best is trial 48 with value: 0.5885050088915641.\n",
      "[I 2025-07-28 19:32:05,403] Trial 89 finished with value: 0.5810688108832756 and parameters: {'n_estimators': 143, 'max_depth': 29, 'min_samples_split': 9, 'min_samples_leaf': 10}. Best is trial 48 with value: 0.5885050088915641.\n",
      "[I 2025-07-28 19:32:10,373] Trial 90 finished with value: 0.5825679410931051 and parameters: {'n_estimators': 352, 'max_depth': 28, 'min_samples_split': 9, 'min_samples_leaf': 9}. Best is trial 48 with value: 0.5885050088915641.\n",
      "[I 2025-07-28 19:32:15,302] Trial 91 finished with value: 0.573426001286 and parameters: {'n_estimators': 343, 'max_depth': 28, 'min_samples_split': 9, 'min_samples_leaf': 9}. Best is trial 48 with value: 0.5885050088915641.\n",
      "[I 2025-07-28 19:32:20,379] Trial 92 finished with value: 0.5749268389268389 and parameters: {'n_estimators': 360, 'max_depth': 28, 'min_samples_split': 10, 'min_samples_leaf': 9}. Best is trial 48 with value: 0.5885050088915641.\n",
      "[I 2025-07-28 19:32:25,803] Trial 93 finished with value: 0.5664743945791862 and parameters: {'n_estimators': 398, 'max_depth': 26, 'min_samples_split': 10, 'min_samples_leaf': 10}. Best is trial 48 with value: 0.5885050088915641.\n",
      "[I 2025-07-28 19:32:30,987] Trial 94 finished with value: 0.5826988528043178 and parameters: {'n_estimators': 370, 'max_depth': 30, 'min_samples_split': 9, 'min_samples_leaf': 10}. Best is trial 48 with value: 0.5885050088915641.\n",
      "[I 2025-07-28 19:32:36,353] Trial 95 finished with value: 0.5768805215122559 and parameters: {'n_estimators': 380, 'max_depth': 27, 'min_samples_split': 9, 'min_samples_leaf': 10}. Best is trial 48 with value: 0.5885050088915641.\n",
      "[I 2025-07-28 19:32:40,703] Trial 96 finished with value: 0.5750041132576345 and parameters: {'n_estimators': 317, 'max_depth': 30, 'min_samples_split': 9, 'min_samples_leaf': 10}. Best is trial 48 with value: 0.5885050088915641.\n",
      "[I 2025-07-28 19:32:45,853] Trial 97 finished with value: 0.5700996636980074 and parameters: {'n_estimators': 363, 'max_depth': 25, 'min_samples_split': 10, 'min_samples_leaf': 9}. Best is trial 48 with value: 0.5885050088915641.\n",
      "[I 2025-07-28 19:32:50,619] Trial 98 finished with value: 0.5807054359704406 and parameters: {'n_estimators': 353, 'max_depth': 23, 'min_samples_split': 8, 'min_samples_leaf': 10}. Best is trial 48 with value: 0.5885050088915641.\n",
      "[I 2025-07-28 19:32:54,653] Trial 99 finished with value: 0.5800603375551681 and parameters: {'n_estimators': 277, 'max_depth': 13, 'min_samples_split': 9, 'min_samples_leaf': 10}. Best is trial 48 with value: 0.5885050088915641.\n"
     ]
    },
    {
     "name": "stdout",
     "output_type": "stream",
     "text": [
      "Best params : {'n_estimators': 68, 'max_depth': 28, 'min_samples_split': 10, 'min_samples_leaf': 10}\n",
      "Best F1 (CV):0.5885050088915641\n"
     ]
    }
   ],
   "source": [
    "study = optuna.create_study(direction='maximize')\n",
    "study.optimize(partial(objective,model_name='rf'), n_trials=100)\n",
    "print(f'Best params : {study.best_params}')\n",
    "print(f'Best F1 (CV):{study.best_value}')"
   ]
  },
  {
   "cell_type": "code",
   "execution_count": 309,
   "id": "b73a5535",
   "metadata": {},
   "outputs": [
    {
     "name": "stderr",
     "output_type": "stream",
     "text": [
      "[I 2025-07-28 19:32:54,680] A new study created in memory with name: no-name-0d1bfb63-79a6-48dd-bebf-2cc9ca85b73e\n",
      "[I 2025-07-28 19:32:55,685] Trial 0 finished with value: 0.5759355192862436 and parameters: {'n_estimators': 208, 'max_depth': 15, 'learning_rate': 0.07075976405466085, 'subsample': 0.6892280584094566, 'colsample_bytree': 0.5126128864459278, 'gamma': 1.7313820819944086, 'reg_lambda': 0.37482371709020057, 'reg_alpha': 0.4391045404259409}. Best is trial 0 with value: 0.5759355192862436.\n",
      "[I 2025-07-28 19:32:56,268] Trial 1 finished with value: 0.5302272359778482 and parameters: {'n_estimators': 179, 'max_depth': 5, 'learning_rate': 0.15974437709709102, 'subsample': 0.9516363781475285, 'colsample_bytree': 0.6972927608324517, 'gamma': 4.161875400268907, 'reg_lambda': 2.5406901889514675, 'reg_alpha': 5.969282421461871}. Best is trial 0 with value: 0.5759355192862436.\n",
      "[I 2025-07-28 19:32:57,202] Trial 2 finished with value: 0.5682463064058215 and parameters: {'n_estimators': 402, 'max_depth': 10, 'learning_rate': 0.1308508866473594, 'subsample': 0.9148361882343237, 'colsample_bytree': 0.9318200809434223, 'gamma': 1.197750899428781, 'reg_lambda': 0.013903375018627567, 'reg_alpha': 4.046562171232777}. Best is trial 0 with value: 0.5759355192862436.\n",
      "[I 2025-07-28 19:32:58,438] Trial 3 finished with value: 0.5754778783073717 and parameters: {'n_estimators': 330, 'max_depth': 6, 'learning_rate': 0.00987147269301082, 'subsample': 0.729314429577302, 'colsample_bytree': 0.5437279397543038, 'gamma': 2.370800815012017, 'reg_lambda': 0.15673565043190338, 'reg_alpha': 0.23249413430168328}. Best is trial 0 with value: 0.5759355192862436.\n",
      "[I 2025-07-28 19:32:59,717] Trial 4 finished with value: 0.5494755889148646 and parameters: {'n_estimators': 336, 'max_depth': 3, 'learning_rate': 0.002495271621252804, 'subsample': 0.7852049982113314, 'colsample_bytree': 0.9102091968465897, 'gamma': 2.094411539293316, 'reg_lambda': 0.020605668421038635, 'reg_alpha': 1.0222305327060828}. Best is trial 0 with value: 0.5759355192862436.\n",
      "[I 2025-07-28 19:33:00,387] Trial 5 finished with value: 0.5704936927019595 and parameters: {'n_estimators': 155, 'max_depth': 11, 'learning_rate': 0.040674916924784595, 'subsample': 0.8243429685452668, 'colsample_bytree': 0.8555673789663845, 'gamma': 4.254941054403457, 'reg_lambda': 0.00039063757870322005, 'reg_alpha': 0.0016908517651456085}. Best is trial 0 with value: 0.5759355192862436.\n",
      "[I 2025-07-28 19:33:00,969] Trial 6 finished with value: 0.5673018556599 and parameters: {'n_estimators': 85, 'max_depth': 6, 'learning_rate': 0.09245033389923445, 'subsample': 0.7449186986300371, 'colsample_bytree': 0.9208631378153956, 'gamma': 1.282431754957688, 'reg_lambda': 4.645083806518084, 'reg_alpha': 0.02442878168850428}. Best is trial 0 with value: 0.5759355192862436.\n",
      "[I 2025-07-28 19:33:02,166] Trial 7 finished with value: 0.5755226867915844 and parameters: {'n_estimators': 178, 'max_depth': 16, 'learning_rate': 0.004457996512439251, 'subsample': 0.5389196445696811, 'colsample_bytree': 0.9265122705514403, 'gamma': 2.298392439221011, 'reg_lambda': 0.0003606945604890333, 'reg_alpha': 0.00014492971057924198}. Best is trial 0 with value: 0.5759355192862436.\n",
      "[I 2025-07-28 19:33:02,741] Trial 8 finished with value: 0.5599060175493296 and parameters: {'n_estimators': 94, 'max_depth': 6, 'learning_rate': 0.004589890190521387, 'subsample': 0.9990535121887617, 'colsample_bytree': 0.5202172292061344, 'gamma': 4.988894589566929, 'reg_lambda': 0.00588296584400911, 'reg_alpha': 1.2428056655095632}. Best is trial 0 with value: 0.5759355192862436.\n",
      "[I 2025-07-28 19:33:03,800] Trial 9 finished with value: 0.5683659186401113 and parameters: {'n_estimators': 477, 'max_depth': 13, 'learning_rate': 0.0574644096027277, 'subsample': 0.7869466790150144, 'colsample_bytree': 0.8447563960885336, 'gamma': 4.801601094225107, 'reg_lambda': 0.6369315250877188, 'reg_alpha': 0.00013347763125188053}. Best is trial 0 with value: 0.5759355192862436.\n",
      "[I 2025-07-28 19:33:05,969] Trial 10 finished with value: 0.5600702048785966 and parameters: {'n_estimators': 260, 'max_depth': 16, 'learning_rate': 0.02036473977695984, 'subsample': 0.5907633656811162, 'colsample_bytree': 0.6738699326895651, 'gamma': 0.13661565111381324, 'reg_lambda': 0.11315946993018361, 'reg_alpha': 0.0633889852418709}. Best is trial 0 with value: 0.5759355192862436.\n",
      "[I 2025-07-28 19:33:07,269] Trial 11 finished with value: 0.5698192922692588 and parameters: {'n_estimators': 217, 'max_depth': 16, 'learning_rate': 0.0011864079940010484, 'subsample': 0.5285457869436333, 'colsample_bytree': 0.9988442789527741, 'gamma': 3.2345405586661293, 'reg_lambda': 0.0019477627928987053, 'reg_alpha': 0.003815066657412382}. Best is trial 0 with value: 0.5759355192862436.\n",
      "[I 2025-07-28 19:33:08,422] Trial 12 finished with value: 0.5719698123523458 and parameters: {'n_estimators': 150, 'max_depth': 13, 'learning_rate': 0.014503187523105617, 'subsample': 0.6407648133265564, 'colsample_bytree': 0.7829733589648362, 'gamma': 1.5330992714469622, 'reg_lambda': 0.0005818005608085704, 'reg_alpha': 0.00026540916252801175}. Best is trial 0 with value: 0.5759355192862436.\n",
      "[I 2025-07-28 19:33:09,706] Trial 13 finished with value: 0.5771101438607159 and parameters: {'n_estimators': 248, 'max_depth': 14, 'learning_rate': 0.005586895371087233, 'subsample': 0.6360351953980932, 'colsample_bytree': 0.6184299902489736, 'gamma': 3.2239947765241217, 'reg_lambda': 0.11725786288247596, 'reg_alpha': 0.009853441217102538}. Best is trial 13 with value: 0.5771101438607159.\n",
      "[I 2025-07-28 19:33:10,652] Trial 14 finished with value: 0.5694584324822805 and parameters: {'n_estimators': 283, 'max_depth': 13, 'learning_rate': 0.03292267353145324, 'subsample': 0.6658544813205782, 'colsample_bytree': 0.5964105622551279, 'gamma': 3.548391264108248, 'reg_lambda': 0.12493767206951624, 'reg_alpha': 0.011167678422387488}. Best is trial 13 with value: 0.5771101438607159.\n",
      "[I 2025-07-28 19:33:11,900] Trial 15 finished with value: 0.5807635029602993 and parameters: {'n_estimators': 258, 'max_depth': 14, 'learning_rate': 0.0078022846764051286, 'subsample': 0.6751125115268608, 'colsample_bytree': 0.6087048441937932, 'gamma': 3.112870578386061, 'reg_lambda': 0.7313333885579634, 'reg_alpha': 0.1463809767536254}. Best is trial 15 with value: 0.5807635029602993.\n",
      "[I 2025-07-28 19:33:13,133] Trial 16 finished with value: 0.5779186179452946 and parameters: {'n_estimators': 286, 'max_depth': 9, 'learning_rate': 0.0067028718461629834, 'subsample': 0.6015592251226038, 'colsample_bytree': 0.6281417892748621, 'gamma': 3.0913182512350845, 'reg_lambda': 1.1250796593839532, 'reg_alpha': 0.08794079296000311}. Best is trial 15 with value: 0.5807635029602993.\n",
      "[I 2025-07-28 19:33:14,352] Trial 17 finished with value: 0.5460063145100655 and parameters: {'n_estimators': 339, 'max_depth': 8, 'learning_rate': 0.001803908369799722, 'subsample': 0.5004879848262918, 'colsample_bytree': 0.6914117242906277, 'gamma': 2.7972134907891704, 'reg_lambda': 9.25749803083966, 'reg_alpha': 0.10345751578376781}. Best is trial 15 with value: 0.5807635029602993.\n",
      "[I 2025-07-28 19:33:15,838] Trial 18 finished with value: 0.5873454923699581 and parameters: {'n_estimators': 457, 'max_depth': 9, 'learning_rate': 0.009022972515152057, 'subsample': 0.569962196263118, 'colsample_bytree': 0.6120912181988496, 'gamma': 3.879877584074111, 'reg_lambda': 1.2070586535645416, 'reg_alpha': 0.1370361288872407}. Best is trial 18 with value: 0.5873454923699581.\n",
      "[I 2025-07-28 19:33:17,006] Trial 19 finished with value: 0.5669416198401706 and parameters: {'n_estimators': 494, 'max_depth': 11, 'learning_rate': 0.2560917568381017, 'subsample': 0.5805226948740427, 'colsample_bytree': 0.7499810633751346, 'gamma': 3.8413313788983983, 'reg_lambda': 1.5044024179894986, 'reg_alpha': 0.5280279322616245}. Best is trial 18 with value: 0.5873454923699581.\n",
      "[I 2025-07-28 19:33:18,152] Trial 20 finished with value: 0.5707638990334044 and parameters: {'n_estimators': 414, 'max_depth': 8, 'learning_rate': 0.023370923777649228, 'subsample': 0.8592518576661434, 'colsample_bytree': 0.5722885590530645, 'gamma': 4.290069284110951, 'reg_lambda': 0.3250603708939219, 'reg_alpha': 0.0009376386621197454}. Best is trial 18 with value: 0.5873454923699581.\n",
      "[I 2025-07-28 19:33:19,602] Trial 21 finished with value: 0.5950252469431172 and parameters: {'n_estimators': 411, 'max_depth': 9, 'learning_rate': 0.008965112576570544, 'subsample': 0.5833287588857777, 'colsample_bytree': 0.6303513607992094, 'gamma': 2.906674907930578, 'reg_lambda': 0.8339580613001734, 'reg_alpha': 0.1374002022084702}. Best is trial 21 with value: 0.5950252469431172.\n",
      "[I 2025-07-28 19:33:21,205] Trial 22 finished with value: 0.5781529369453435 and parameters: {'n_estimators': 426, 'max_depth': 11, 'learning_rate': 0.010840966610806647, 'subsample': 0.7024289655957299, 'colsample_bytree': 0.6488584832579013, 'gamma': 2.7426662385358367, 'reg_lambda': 3.3405023526316286, 'reg_alpha': 0.044799535269628744}. Best is trial 21 with value: 0.5950252469431172.\n",
      "[I 2025-07-28 19:33:22,636] Trial 23 finished with value: 0.581283866981133 and parameters: {'n_estimators': 456, 'max_depth': 8, 'learning_rate': 0.008530152705941737, 'subsample': 0.5604353411972178, 'colsample_bytree': 0.5774337957498156, 'gamma': 3.5986156627204053, 'reg_lambda': 0.8143062008284238, 'reg_alpha': 0.1539341914169893}. Best is trial 21 with value: 0.5950252469431172.\n",
      "[I 2025-07-28 19:33:24,071] Trial 24 finished with value: 0.5821210635283862 and parameters: {'n_estimators': 450, 'max_depth': 9, 'learning_rate': 0.01500388259557869, 'subsample': 0.5636395795740308, 'colsample_bytree': 0.563147651877216, 'gamma': 3.8016423269982007, 'reg_lambda': 0.047988208783995255, 'reg_alpha': 0.24002067076898698}. Best is trial 21 with value: 0.5950252469431172.\n",
      "[I 2025-07-28 19:33:26,038] Trial 25 finished with value: 0.5740974986485823 and parameters: {'n_estimators': 375, 'max_depth': 9, 'learning_rate': 0.002891977463047722, 'subsample': 0.6216005011305333, 'colsample_bytree': 0.5623057393011219, 'gamma': 4.599893540191648, 'reg_lambda': 0.04925759613503767, 'reg_alpha': 0.024540843829919393}. Best is trial 21 with value: 0.5950252469431172.\n",
      "[I 2025-07-28 19:33:27,869] Trial 26 finished with value: 0.5696722338121927 and parameters: {'n_estimators': 452, 'max_depth': 7, 'learning_rate': 0.014633515903750453, 'subsample': 0.5107180458081795, 'colsample_bytree': 0.7602982302439553, 'gamma': 3.8343360308856935, 'reg_lambda': 0.005219402978592298, 'reg_alpha': 2.1209110355580467}. Best is trial 21 with value: 0.5950252469431172.\n",
      "[I 2025-07-28 19:33:29,286] Trial 27 finished with value: 0.5827723013741679 and parameters: {'n_estimators': 377, 'max_depth': 4, 'learning_rate': 0.03368067644048123, 'subsample': 0.5588085403220885, 'colsample_bytree': 0.7233017101782389, 'gamma': 3.651681683438712, 'reg_lambda': 0.06549710054516364, 'reg_alpha': 0.30636968412821936}. Best is trial 21 with value: 0.5950252469431172.\n",
      "[I 2025-07-28 19:33:30,769] Trial 28 finished with value: 0.5712904730086061 and parameters: {'n_estimators': 372, 'max_depth': 2, 'learning_rate': 0.030928924077418433, 'subsample': 0.544603314460289, 'colsample_bytree': 0.7243858922042967, 'gamma': 2.8148193883970034, 'reg_lambda': 8.217779158186984, 'reg_alpha': 0.5440057268821399}. Best is trial 21 with value: 0.5950252469431172.\n",
      "[I 2025-07-28 19:33:31,938] Trial 29 finished with value: 0.5667981146692638 and parameters: {'n_estimators': 368, 'max_depth': 4, 'learning_rate': 0.05140017468162456, 'subsample': 0.7041118652525897, 'colsample_bytree': 0.6533092022482763, 'gamma': 1.8302619633208153, 'reg_lambda': 0.3051636612636268, 'reg_alpha': 0.3726568104349615}. Best is trial 21 with value: 0.5950252469431172.\n",
      "[I 2025-07-28 19:33:32,952] Trial 30 finished with value: 0.5722634175983219 and parameters: {'n_estimators': 308, 'max_depth': 3, 'learning_rate': 0.024454490163569036, 'subsample': 0.6121220988539394, 'colsample_bytree': 0.8006997600893402, 'gamma': 4.463165418487121, 'reg_lambda': 0.361571766350911, 'reg_alpha': 0.011811074611797078}. Best is trial 21 with value: 0.5950252469431172.\n",
      "[I 2025-07-28 19:33:34,205] Trial 31 finished with value: 0.581249990851137 and parameters: {'n_estimators': 442, 'max_depth': 10, 'learning_rate': 0.015009129560634812, 'subsample': 0.5520757514742692, 'colsample_bytree': 0.5319393089875633, 'gamma': 3.8651315657434226, 'reg_lambda': 0.010539484299987441, 'reg_alpha': 0.4349280542540629}. Best is trial 21 with value: 0.5950252469431172.\n",
      "[I 2025-07-28 19:33:35,657] Trial 32 finished with value: 0.5842255309445344 and parameters: {'n_estimators': 405, 'max_depth': 7, 'learning_rate': 0.011302080480260072, 'subsample': 0.5760776769798484, 'colsample_bytree': 0.5098410067757573, 'gamma': 3.4535082998719395, 'reg_lambda': 0.028279713473284743, 'reg_alpha': 0.21095244178712325}. Best is trial 21 with value: 0.5950252469431172.\n",
      "[I 2025-07-28 19:33:37,069] Trial 33 finished with value: 0.5549839849034817 and parameters: {'n_estimators': 394, 'max_depth': 5, 'learning_rate': 0.0036524920024663373, 'subsample': 0.6517359866898408, 'colsample_bytree': 0.7219700134438699, 'gamma': 3.431533169180314, 'reg_lambda': 0.03646756804437386, 'reg_alpha': 8.92739749868363}. Best is trial 21 with value: 0.5950252469431172.\n",
      "[I 2025-07-28 19:33:38,235] Trial 34 finished with value: 0.5460054619404888 and parameters: {'n_estimators': 396, 'max_depth': 7, 'learning_rate': 0.01125882983425846, 'subsample': 0.5804190840603031, 'colsample_bytree': 0.5026025557789787, 'gamma': 4.004132614141031, 'reg_lambda': 2.0125368640073997, 'reg_alpha': 2.882088708760479}. Best is trial 21 with value: 0.5950252469431172.\n",
      "[I 2025-07-28 19:33:39,585] Trial 35 finished with value: 0.5790071860098381 and parameters: {'n_estimators': 356, 'max_depth': 5, 'learning_rate': 0.007172546203544404, 'subsample': 0.6079785101253117, 'colsample_bytree': 0.6622159421806428, 'gamma': 2.5984414924007044, 'reg_lambda': 0.06891638190615122, 'reg_alpha': 1.3651213585322644}. Best is trial 21 with value: 0.5950252469431172.\n",
      "[I 2025-07-28 19:33:41,302] Trial 36 finished with value: 0.5811626398137555 and parameters: {'n_estimators': 500, 'max_depth': 10, 'learning_rate': 0.010687479005346546, 'subsample': 0.5208238508244196, 'colsample_bytree': 0.7143606764036801, 'gamma': 3.385715076817001, 'reg_lambda': 0.024129139304497015, 'reg_alpha': 0.04420573533118919}. Best is trial 21 with value: 0.5950252469431172.\n",
      "[I 2025-07-28 19:33:42,461] Trial 37 finished with value: 0.5730916561231257 and parameters: {'n_estimators': 426, 'max_depth': 7, 'learning_rate': 0.09440680016495608, 'subsample': 0.5737583379514584, 'colsample_bytree': 0.6306586979360878, 'gamma': 3.029629644311009, 'reg_lambda': 0.19898661699939588, 'reg_alpha': 0.24104877686122536}. Best is trial 21 with value: 0.5950252469431172.\n",
      "[I 2025-07-28 19:33:43,752] Trial 38 finished with value: 0.5691413360153076 and parameters: {'n_estimators': 469, 'max_depth': 4, 'learning_rate': 0.036602853615072185, 'subsample': 0.6306759647169692, 'colsample_bytree': 0.5936875021286416, 'gamma': 2.1574443469316815, 'reg_lambda': 0.014041500875082808, 'reg_alpha': 0.7893907610306877}. Best is trial 21 with value: 0.5950252469431172.\n",
      "[I 2025-07-28 19:33:45,135] Trial 39 finished with value: 0.5550755315537504 and parameters: {'n_estimators': 306, 'max_depth': 5, 'learning_rate': 0.005368477672381202, 'subsample': 0.9178850501378708, 'colsample_bytree': 0.5412381927479623, 'gamma': 3.553054734171814, 'reg_lambda': 0.0001456063028542379, 'reg_alpha': 0.1664943237646876}. Best is trial 21 with value: 0.5950252469431172.\n",
      "[I 2025-07-28 19:33:46,418] Trial 40 finished with value: 0.5777609135830613 and parameters: {'n_estimators': 392, 'max_depth': 11, 'learning_rate': 0.02112251625828208, 'subsample': 0.7175409418204444, 'colsample_bytree': 0.6813355289485203, 'gamma': 4.154534977586948, 'reg_lambda': 0.004125356857117964, 'reg_alpha': 0.06733826592477762}. Best is trial 21 with value: 0.5950252469431172.\n",
      "[I 2025-07-28 19:33:47,685] Trial 41 finished with value: 0.5830547087509141 and parameters: {'n_estimators': 425, 'max_depth': 9, 'learning_rate': 0.015341162340927021, 'subsample': 0.5605396532363147, 'colsample_bytree': 0.5481801092563925, 'gamma': 3.7169420825022366, 'reg_lambda': 0.04476267177436432, 'reg_alpha': 0.2467951882108195}. Best is trial 21 with value: 0.5950252469431172.\n",
      "[I 2025-07-28 19:33:50,035] Trial 42 finished with value: 0.5632314146292042 and parameters: {'n_estimators': 421, 'max_depth': 8, 'learning_rate': 0.012022556316342973, 'subsample': 0.5456034922030689, 'colsample_bytree': 0.5142295408168575, 'gamma': 0.5461045975870771, 'reg_lambda': 0.08371187337365095, 'reg_alpha': 0.31331777858891896}. Best is trial 21 with value: 0.5950252469431172.\n",
      "[I 2025-07-28 19:33:51,285] Trial 43 finished with value: 0.5874693685464191 and parameters: {'n_estimators': 344, 'max_depth': 9, 'learning_rate': 0.01855150617664339, 'subsample': 0.5272838988264392, 'colsample_bytree': 0.5377507080924323, 'gamma': 2.486778274048575, 'reg_lambda': 0.19526420556466492, 'reg_alpha': 0.8848351793577456}. Best is trial 21 with value: 0.5950252469431172.\n",
      "[I 2025-07-28 19:33:52,468] Trial 44 finished with value: 0.5861266449565845 and parameters: {'n_estimators': 342, 'max_depth': 9, 'learning_rate': 0.0193541154604028, 'subsample': 0.5243610741957441, 'colsample_bytree': 0.5391734188246631, 'gamma': 2.4893889373041316, 'reg_lambda': 0.17970208231617826, 'reg_alpha': 0.8372307370530129}. Best is trial 21 with value: 0.5950252469431172.\n",
      "[I 2025-07-28 19:33:53,629] Trial 45 finished with value: 0.5878064827061475 and parameters: {'n_estimators': 345, 'max_depth': 10, 'learning_rate': 0.018852340012904974, 'subsample': 0.5268740686226443, 'colsample_bytree': 0.5258540142887623, 'gamma': 2.39915231865089, 'reg_lambda': 0.2347972316784767, 'reg_alpha': 1.6855929329553552}. Best is trial 21 with value: 0.5950252469431172.\n",
      "[I 2025-07-28 19:33:54,568] Trial 46 finished with value: 0.5625281003095202 and parameters: {'n_estimators': 325, 'max_depth': 10, 'learning_rate': 0.04605153594036504, 'subsample': 0.5194542034520767, 'colsample_bytree': 0.5840741794073134, 'gamma': 2.4036658204623547, 'reg_lambda': 0.5350075803378509, 'reg_alpha': 4.050991672543387}. Best is trial 21 with value: 0.5950252469431172.\n",
      "[I 2025-07-28 19:33:55,721] Trial 47 finished with value: 0.5922406214419583 and parameters: {'n_estimators': 356, 'max_depth': 12, 'learning_rate': 0.027199764436935447, 'subsample': 0.5022230074669725, 'colsample_bytree': 0.5375346076387918, 'gamma': 1.8805980155123418, 'reg_lambda': 0.20361762353217427, 'reg_alpha': 1.886018299557156}. Best is trial 21 with value: 0.5950252469431172.\n",
      "[I 2025-07-28 19:33:57,032] Trial 48 finished with value: 0.5798724633380068 and parameters: {'n_estimators': 318, 'max_depth': 12, 'learning_rate': 0.027226388931220955, 'subsample': 0.5035625476901988, 'colsample_bytree': 0.5512487302702307, 'gamma': 1.850392396000974, 'reg_lambda': 4.0802999073169826, 'reg_alpha': 1.731704066640624}. Best is trial 21 with value: 0.5950252469431172.\n",
      "[I 2025-07-28 19:33:58,335] Trial 49 finished with value: 0.594700988045385 and parameters: {'n_estimators': 349, 'max_depth': 12, 'learning_rate': 0.018353601725917688, 'subsample': 0.5355958268096188, 'colsample_bytree': 0.6092484363209671, 'gamma': 1.0747000724170377, 'reg_lambda': 1.5080200217656734, 'reg_alpha': 2.4991566134971195}. Best is trial 21 with value: 0.5950252469431172.\n",
      "[I 2025-07-28 19:33:59,168] Trial 50 finished with value: 0.5802390431110533 and parameters: {'n_estimators': 229, 'max_depth': 12, 'learning_rate': 0.059370371202745235, 'subsample': 0.534332841922619, 'colsample_bytree': 0.5293852786049051, 'gamma': 1.116374417920662, 'reg_lambda': 0.22715016545476463, 'reg_alpha': 4.879321151137966}. Best is trial 21 with value: 0.5950252469431172.\n",
      "[I 2025-07-28 19:34:00,319] Trial 51 finished with value: 0.5596587023924365 and parameters: {'n_estimators': 356, 'max_depth': 12, 'learning_rate': 0.018070224885549387, 'subsample': 0.5354060259758557, 'colsample_bytree': 0.6132749222492556, 'gamma': 1.453437955674622, 'reg_lambda': 1.115776226810587, 'reg_alpha': 6.318393421701713}. Best is trial 21 with value: 0.5950252469431172.\n",
      "[I 2025-07-28 19:34:01,767] Trial 52 finished with value: 0.5751003116411203 and parameters: {'n_estimators': 290, 'max_depth': 10, 'learning_rate': 0.008765809114163099, 'subsample': 0.5933573270293239, 'colsample_bytree': 0.6356964813422815, 'gamma': 0.9137210048670119, 'reg_lambda': 2.252267299218564, 'reg_alpha': 2.4388963112420337}. Best is trial 21 with value: 0.5950252469431172.\n",
      "[I 2025-07-28 19:34:02,868] Trial 53 finished with value: 0.5886279524965017 and parameters: {'n_estimators': 351, 'max_depth': 11, 'learning_rate': 0.07663103300548581, 'subsample': 0.5080847435040134, 'colsample_bytree': 0.5831182292807897, 'gamma': 2.0045508142063784, 'reg_lambda': 0.518959757369448, 'reg_alpha': 0.7874437174751019}. Best is trial 21 with value: 0.5950252469431172.\n",
      "[I 2025-07-28 19:34:03,920] Trial 54 finished with value: 0.5864404632591323 and parameters: {'n_estimators': 348, 'max_depth': 14, 'learning_rate': 0.07764024504924492, 'subsample': 0.5081170665100362, 'colsample_bytree': 0.581607777890397, 'gamma': 2.09124769808587, 'reg_lambda': 0.5196248002899585, 'reg_alpha': 1.0641565410894487}. Best is trial 21 with value: 0.5950252469431172.\n",
      "[I 2025-07-28 19:34:04,868] Trial 55 finished with value: 0.5673513477722091 and parameters: {'n_estimators': 305, 'max_depth': 11, 'learning_rate': 0.19831736337507894, 'subsample': 0.8059249291669366, 'colsample_bytree': 0.5957644386920473, 'gamma': 1.6075084330960876, 'reg_lambda': 0.4827914453769053, 'reg_alpha': 0.661768446851763}. Best is trial 21 with value: 0.5950252469431172.\n",
      "[I 2025-07-28 19:34:05,821] Trial 56 finished with value: 0.5760040202643975 and parameters: {'n_estimators': 330, 'max_depth': 13, 'learning_rate': 0.12592716267398085, 'subsample': 0.5028543893295937, 'colsample_bytree': 0.5603684152281537, 'gamma': 2.0818011000613073, 'reg_lambda': 0.8098788929194961, 'reg_alpha': 3.0804549429618158}. Best is trial 21 with value: 0.5950252469431172.\n",
      "[I 2025-07-28 19:34:06,885] Trial 57 finished with value: 0.5881292152936318 and parameters: {'n_estimators': 274, 'max_depth': 12, 'learning_rate': 0.039772083283227774, 'subsample': 0.5341182131961246, 'colsample_bytree': 0.8777892517394585, 'gamma': 2.2982669737181616, 'reg_lambda': 0.1256401409081238, 'reg_alpha': 1.4151093275221522}. Best is trial 21 with value: 0.5950252469431172.\n",
      "[I 2025-07-28 19:34:07,830] Trial 58 finished with value: 0.5627859879584017 and parameters: {'n_estimators': 264, 'max_depth': 15, 'learning_rate': 0.07214215513541179, 'subsample': 0.7501912999377378, 'colsample_bytree': 0.9510859205763192, 'gamma': 2.2710539340475995, 'reg_lambda': 0.11660261412028926, 'reg_alpha': 1.6149551473147585}. Best is trial 21 with value: 0.5950252469431172.\n",
      "[I 2025-07-28 19:34:08,721] Trial 59 finished with value: 0.5388609599798796 and parameters: {'n_estimators': 279, 'max_depth': 12, 'learning_rate': 0.04532164428035657, 'subsample': 0.5944659581318281, 'colsample_bytree': 0.8682225568781643, 'gamma': 1.9139796682233396, 'reg_lambda': 1.6549729301151537, 'reg_alpha': 9.220438939816527}. Best is trial 21 with value: 0.5950252469431172.\n",
      "[I 2025-07-28 19:34:09,925] Trial 60 finished with value: 0.5845212862410749 and parameters: {'n_estimators': 382, 'max_depth': 11, 'learning_rate': 0.10481147680941372, 'subsample': 0.5430395717903145, 'colsample_bytree': 0.821435760524879, 'gamma': 0.7330760199367096, 'reg_lambda': 0.2861294647452411, 'reg_alpha': 3.412742342005449}. Best is trial 21 with value: 0.5950252469431172.\n",
      "[I 2025-07-28 19:34:10,829] Trial 61 finished with value: 0.5828009099134535 and parameters: {'n_estimators': 199, 'max_depth': 13, 'learning_rate': 0.027701984591099956, 'subsample': 0.5348584688573559, 'colsample_bytree': 0.8950440225705696, 'gamma': 2.6496170612910768, 'reg_lambda': 0.1646691096806909, 'reg_alpha': 1.4259980018806224}. Best is trial 21 with value: 0.5950252469431172.\n",
      "[I 2025-07-28 19:34:11,400] Trial 62 finished with value: 0.5789553877384166 and parameters: {'n_estimators': 63, 'max_depth': 12, 'learning_rate': 0.03758697500429788, 'subsample': 0.5215024834908235, 'colsample_bytree': 0.5167856401112599, 'gamma': 2.911964761956221, 'reg_lambda': 0.920603449535018, 'reg_alpha': 2.166869315016967}. Best is trial 21 with value: 0.5950252469431172.\n",
      "[I 2025-07-28 19:34:12,671] Trial 63 finished with value: 0.5711596321889142 and parameters: {'n_estimators': 363, 'max_depth': 11, 'learning_rate': 0.06007331372876947, 'subsample': 0.8551208313608201, 'colsample_bytree': 0.9962089375044896, 'gamma': 1.3362004676444863, 'reg_lambda': 0.42415372477616115, 'reg_alpha': 1.0206540064214453}. Best is trial 21 with value: 0.5950252469431172.\n",
      "[I 2025-07-28 19:34:13,535] Trial 64 finished with value: 0.5472589532315508 and parameters: {'n_estimators': 240, 'max_depth': 10, 'learning_rate': 0.022511136135295696, 'subsample': 0.5505628136648247, 'colsample_bytree': 0.5604131947704042, 'gamma': 2.26633661983613, 'reg_lambda': 0.09594270610174997, 'reg_alpha': 6.503662546810857}. Best is trial 21 with value: 0.5950252469431172.\n",
      "[I 2025-07-28 19:34:14,785] Trial 65 finished with value: 0.58364972877611 and parameters: {'n_estimators': 296, 'max_depth': 13, 'learning_rate': 0.01752875984810442, 'subsample': 0.5015328423792808, 'colsample_bytree': 0.5291212015991374, 'gamma': 1.6895191053195306, 'reg_lambda': 0.24514434048798212, 'reg_alpha': 0.6279829659966069}. Best is trial 21 with value: 0.5950252469431172.\n",
      "[I 2025-07-28 19:34:15,885] Trial 66 finished with value: 0.586087685074839 and parameters: {'n_estimators': 319, 'max_depth': 12, 'learning_rate': 0.025289137300469337, 'subsample': 0.5202199600362047, 'colsample_bytree': 0.6053744754721788, 'gamma': 2.568286806224697, 'reg_lambda': 0.1496032318636592, 'reg_alpha': 1.0422926325469584}. Best is trial 21 with value: 0.5950252469431172.\n",
      "[I 2025-07-28 19:34:18,335] Trial 67 finished with value: 0.5584287914320198 and parameters: {'n_estimators': 342, 'max_depth': 14, 'learning_rate': 0.04235908789424441, 'subsample': 0.5809906512912802, 'colsample_bytree': 0.5732463785671076, 'gamma': 0.2566780391475536, 'reg_lambda': 0.7180153121391363, 'reg_alpha': 0.41766123514733033}. Best is trial 21 with value: 0.5950252469431172.\n",
      "[I 2025-07-28 19:34:19,335] Trial 68 finished with value: 0.5730957951541953 and parameters: {'n_estimators': 269, 'max_depth': 10, 'learning_rate': 0.028651071774242084, 'subsample': 0.5581865351718986, 'colsample_bytree': 0.5046005431951373, 'gamma': 2.404239353378527, 'reg_lambda': 3.4150114010020993, 'reg_alpha': 1.985753830289198}. Best is trial 21 with value: 0.5950252469431172.\n",
      "[I 2025-07-28 19:34:20,227] Trial 69 finished with value: 0.5761233458214308 and parameters: {'n_estimators': 137, 'max_depth': 11, 'learning_rate': 0.01295291693218177, 'subsample': 0.5336103908745524, 'colsample_bytree': 0.6448343906540001, 'gamma': 1.951728892221944, 'reg_lambda': 0.3579068485132417, 'reg_alpha': 0.7647865554453437}. Best is trial 21 with value: 0.5950252469431172.\n",
      "[I 2025-07-28 19:34:21,621] Trial 70 finished with value: 0.5473353970857616 and parameters: {'n_estimators': 385, 'max_depth': 9, 'learning_rate': 0.03333299599387682, 'subsample': 0.5207242361666685, 'colsample_bytree': 0.620514810782855, 'gamma': 2.905610903456609, 'reg_lambda': 5.55085795397128, 'reg_alpha': 3.407498597518473}. Best is trial 21 with value: 0.5950252469431172.\n",
      "[I 2025-07-28 19:34:23,725] Trial 71 finished with value: 0.5868635646970012 and parameters: {'n_estimators': 356, 'max_depth': 8, 'learning_rate': 0.01336917370899371, 'subsample': 0.5706542421736974, 'colsample_bytree': 0.6015385744231082, 'gamma': 1.7338097602988802, 'reg_lambda': 1.2904710328373459, 'reg_alpha': 0.09476289668682773}. Best is trial 21 with value: 0.5950252469431172.\n",
      "[I 2025-07-28 19:34:25,623] Trial 72 finished with value: 0.5968963221996019 and parameters: {'n_estimators': 407, 'max_depth': 10, 'learning_rate': 0.009151385771231108, 'subsample': 0.6190886121484503, 'colsample_bytree': 0.5879193040691257, 'gamma': 2.229707446857695, 'reg_lambda': 1.6513708705359682, 'reg_alpha': 0.4951905681680861}. Best is trial 72 with value: 0.5968963221996019.\n",
      "[I 2025-07-28 19:34:27,135] Trial 73 finished with value: 0.5788847031532116 and parameters: {'n_estimators': 402, 'max_depth': 10, 'learning_rate': 0.009903129307513855, 'subsample': 0.5514845466514258, 'colsample_bytree': 0.5867320391053839, 'gamma': 2.1988826118236915, 'reg_lambda': 2.9530330111483476, 'reg_alpha': 0.5002478478348701}. Best is trial 72 with value: 0.5968963221996019.\n",
      "[I 2025-07-28 19:34:28,437] Trial 74 finished with value: 0.5725509341155706 and parameters: {'n_estimators': 413, 'max_depth': 11, 'learning_rate': 0.017179708631325025, 'subsample': 0.6205463198194123, 'colsample_bytree': 0.5512211956862941, 'gamma': 2.6785442704676807, 'reg_lambda': 5.5310273617012875, 'reg_alpha': 1.2602046723057145}. Best is trial 72 with value: 0.5968963221996019.\n",
      "[I 2025-07-28 19:34:29,688] Trial 75 finished with value: 0.5559804301946059 and parameters: {'n_estimators': 369, 'max_depth': 10, 'learning_rate': 0.006526605782752598, 'subsample': 0.5910597005325586, 'colsample_bytree': 0.5717140871868096, 'gamma': 2.052163470242892, 'reg_lambda': 1.9519101496584292, 'reg_alpha': 4.600909255333716}. Best is trial 72 with value: 0.5968963221996019.\n",
      "[I 2025-07-28 19:34:31,434] Trial 76 finished with value: 0.5682299289265441 and parameters: {'n_estimators': 438, 'max_depth': 9, 'learning_rate': 0.00574637517580737, 'subsample': 0.9726324452096182, 'colsample_bytree': 0.6671399301378885, 'gamma': 2.504990992298261, 'reg_lambda': 0.5552543686115926, 'reg_alpha': 2.453475976510535}. Best is trial 72 with value: 0.5968963221996019.\n",
      "[I 2025-07-28 19:34:32,827] Trial 77 finished with value: 0.5778170288263917 and parameters: {'n_estimators': 337, 'max_depth': 13, 'learning_rate': 0.0199657227394417, 'subsample': 0.6623310712990982, 'colsample_bytree': 0.5265130447416566, 'gamma': 2.3742468632833993, 'reg_lambda': 0.996752719342221, 'reg_alpha': 0.3399077333086479}. Best is trial 72 with value: 0.5968963221996019.\n",
      "[I 2025-07-28 19:34:34,612] Trial 78 finished with value: 0.5749926400142469 and parameters: {'n_estimators': 249, 'max_depth': 8, 'learning_rate': 0.003804073917047284, 'subsample': 0.5122807983698402, 'colsample_bytree': 0.5428254837543853, 'gamma': 1.4232524589051399, 'reg_lambda': 0.06397141325436706, 'reg_alpha': 0.0007215270345534791}. Best is trial 72 with value: 0.5968963221996019.\n",
      "[I 2025-07-28 19:34:37,616] Trial 79 finished with value: 0.5740579847837912 and parameters: {'n_estimators': 409, 'max_depth': 11, 'learning_rate': 0.007964385625063734, 'subsample': 0.5685610870811025, 'colsample_bytree': 0.7583943661006729, 'gamma': 1.034065098881969, 'reg_lambda': 1.4869865057139915, 'reg_alpha': 0.8542396158066528}. Best is trial 72 with value: 0.5968963221996019.\n",
      "[I 2025-07-28 19:34:39,218] Trial 80 finished with value: 0.5770339439184029 and parameters: {'n_estimators': 381, 'max_depth': 12, 'learning_rate': 0.016308510392213708, 'subsample': 0.6104255845998207, 'colsample_bytree': 0.6363084087191422, 'gamma': 3.298665523953455, 'reg_lambda': 0.6881823985137502, 'reg_alpha': 1.7008188181943171}. Best is trial 72 with value: 0.5968963221996019.\n",
      "[I 2025-07-28 19:34:41,691] Trial 81 finished with value: 0.5814391015292573 and parameters: {'n_estimators': 481, 'max_depth': 9, 'learning_rate': 0.009274452534708683, 'subsample': 0.5438277949183813, 'colsample_bytree': 0.6133636403387899, 'gamma': 1.9843438324957703, 'reg_lambda': 0.2658787279264044, 'reg_alpha': 0.11714157680848894}. Best is trial 72 with value: 0.5968963221996019.\n",
      "[I 2025-07-28 19:34:43,803] Trial 82 finished with value: 0.5836544546054803 and parameters: {'n_estimators': 464, 'max_depth': 9, 'learning_rate': 0.013210283646243179, 'subsample': 0.5279376717245464, 'colsample_bytree': 0.5671088806193161, 'gamma': 2.7690228494811837, 'reg_lambda': 0.3942868122790755, 'reg_alpha': 0.16830948645118496}. Best is trial 72 with value: 0.5968963221996019.\n",
      "[I 2025-07-28 19:34:45,611] Trial 83 finished with value: 0.581171635857524 and parameters: {'n_estimators': 441, 'max_depth': 8, 'learning_rate': 0.02199351071137166, 'subsample': 0.5628319193892525, 'colsample_bytree': 0.5895870174394754, 'gamma': 4.989945324894079, 'reg_lambda': 0.14428226856572574, 'reg_alpha': 0.5825411640025928}. Best is trial 72 with value: 0.5968963221996019.\n",
      "[I 2025-07-28 19:34:47,211] Trial 84 finished with value: 0.5779504773170191 and parameters: {'n_estimators': 314, 'max_depth': 10, 'learning_rate': 0.00706339092169202, 'subsample': 0.5840261354687638, 'colsample_bytree': 0.7056416638827099, 'gamma': 3.0055047808238764, 'reg_lambda': 1.2507418314074175, 'reg_alpha': 0.045124503448642765}. Best is trial 72 with value: 0.5968963221996019.\n",
      "[I 2025-07-28 19:34:53,204] Trial 85 finished with value: 0.5712770099248331 and parameters: {'n_estimators': 351, 'max_depth': 9, 'learning_rate': 0.005153595751886306, 'subsample': 0.5135779851813665, 'colsample_bytree': 0.625350108924406, 'gamma': 4.653137900214028, 'reg_lambda': 2.379773093924969, 'reg_alpha': 0.006575183170515432}. Best is trial 72 with value: 0.5968963221996019.\n",
      "[I 2025-07-28 19:34:56,759] Trial 86 finished with value: 0.5819241128974365 and parameters: {'n_estimators': 391, 'max_depth': 11, 'learning_rate': 0.00957349749252461, 'subsample': 0.6004216121177671, 'colsample_bytree': 0.5534222763033666, 'gamma': 2.200534736688878, 'reg_lambda': 0.1905061928329695, 'reg_alpha': 0.021102141172057286}. Best is trial 72 with value: 0.5968963221996019.\n",
      "[I 2025-07-28 19:34:59,287] Trial 87 finished with value: 0.5701052102584054 and parameters: {'n_estimators': 482, 'max_depth': 12, 'learning_rate': 0.05369094834751372, 'subsample': 0.6379205346075392, 'colsample_bytree': 0.7410306666992781, 'gamma': 1.7538376028098446, 'reg_lambda': 0.6028948195261805, 'reg_alpha': 0.4436147433310468}. Best is trial 72 with value: 0.5968963221996019.\n",
      "[I 2025-07-28 19:35:00,940] Trial 88 finished with value: 0.578694261492781 and parameters: {'n_estimators': 331, 'max_depth': 10, 'learning_rate': 0.0308170101858975, 'subsample': 0.6842103344623915, 'colsample_bytree': 0.5171741759576872, 'gamma': 1.5701789522335186, 'reg_lambda': 1.8212895990192413, 'reg_alpha': 1.085840712375864}. Best is trial 72 with value: 0.5968963221996019.\n",
      "[I 2025-07-28 19:35:03,089] Trial 89 finished with value: 0.5700506193193273 and parameters: {'n_estimators': 295, 'max_depth': 11, 'learning_rate': 0.0015505352654240868, 'subsample': 0.538856718067846, 'colsample_bytree': 0.7983282464254625, 'gamma': 3.1399784099669503, 'reg_lambda': 0.36001034339829574, 'reg_alpha': 0.06401973203127706}. Best is trial 72 with value: 0.5968963221996019.\n",
      "[I 2025-07-28 19:35:04,556] Trial 90 finished with value: 0.5889781351830241 and parameters: {'n_estimators': 363, 'max_depth': 7, 'learning_rate': 0.012026402994133847, 'subsample': 0.5529016062065293, 'colsample_bytree': 0.538320125032579, 'gamma': 2.467690662150783, 'reg_lambda': 0.09049758283636157, 'reg_alpha': 0.20322576249782642}. Best is trial 72 with value: 0.5968963221996019.\n",
      "[I 2025-07-28 19:35:06,039] Trial 91 finished with value: 0.585059666966661 and parameters: {'n_estimators': 363, 'max_depth': 6, 'learning_rate': 0.011113121120552657, 'subsample': 0.5499794854814206, 'colsample_bytree': 0.5345695028851265, 'gamma': 2.4516815331661976, 'reg_lambda': 0.07110766757284523, 'reg_alpha': 0.13579459256444673}. Best is trial 72 with value: 0.5968963221996019.\n",
      "[I 2025-07-28 19:35:07,670] Trial 92 finished with value: 0.5796071476121326 and parameters: {'n_estimators': 375, 'max_depth': 7, 'learning_rate': 0.01258496395257556, 'subsample': 0.5298792190884962, 'colsample_bytree': 0.5817045105573053, 'gamma': 2.3217103539599635, 'reg_lambda': 0.08996224416120331, 'reg_alpha': 0.20736346341548495}. Best is trial 72 with value: 0.5968963221996019.\n",
      "[I 2025-07-28 19:35:09,090] Trial 93 finished with value: 0.5775014334874033 and parameters: {'n_estimators': 327, 'max_depth': 6, 'learning_rate': 0.008264033881012987, 'subsample': 0.5700347549730996, 'colsample_bytree': 0.500316824960129, 'gamma': 2.5539885520891947, 'reg_lambda': 0.21291170660106468, 'reg_alpha': 0.2715592720675221}. Best is trial 72 with value: 0.5968963221996019.\n",
      "[I 2025-07-28 19:35:10,537] Trial 94 finished with value: 0.5766925577935433 and parameters: {'n_estimators': 432, 'max_depth': 13, 'learning_rate': 0.014826219030765834, 'subsample': 0.754207297354364, 'colsample_bytree': 0.5999752955381235, 'gamma': 2.8544887729942383, 'reg_lambda': 0.12063479399748776, 'reg_alpha': 0.3563818233907849}. Best is trial 72 with value: 0.5968963221996019.\n",
      "[I 2025-07-28 19:35:12,058] Trial 95 finished with value: 0.5803360176104173 and parameters: {'n_estimators': 342, 'max_depth': 8, 'learning_rate': 0.019420488873311416, 'subsample': 0.5013863402872577, 'colsample_bytree': 0.5404161678048267, 'gamma': 2.1549872120872666, 'reg_lambda': 0.05461959371359898, 'reg_alpha': 0.07902558482069955}. Best is trial 72 with value: 0.5968963221996019.\n",
      "[I 2025-07-28 19:35:13,324] Trial 96 finished with value: 0.5826493885524334 and parameters: {'n_estimators': 363, 'max_depth': 12, 'learning_rate': 0.024246214666913395, 'subsample': 0.5135702169375033, 'colsample_bytree': 0.5241795088095859, 'gamma': 2.6678219184819545, 'reg_lambda': 0.28670507374727444, 'reg_alpha': 0.19443786698663906}. Best is trial 72 with value: 0.5968963221996019.\n",
      "[I 2025-07-28 19:35:14,571] Trial 97 finished with value: 0.5616119145174637 and parameters: {'n_estimators': 420, 'max_depth': 10, 'learning_rate': 0.08325486457863412, 'subsample': 0.5538752942394933, 'colsample_bytree': 0.5585466750225372, 'gamma': 1.8279638485147611, 'reg_lambda': 0.01626113492295948, 'reg_alpha': 0.7195294752515161}. Best is trial 72 with value: 0.5968963221996019.\n",
      "[I 2025-07-28 19:35:16,424] Trial 98 finished with value: 0.5802545527291203 and parameters: {'n_estimators': 462, 'max_depth': 9, 'learning_rate': 0.006237232250224845, 'subsample': 0.5806075932714027, 'colsample_bytree': 0.6819365045128394, 'gamma': 2.003669134031123, 'reg_lambda': 0.03248822017737899, 'reg_alpha': 1.5068955880523562}. Best is trial 72 with value: 0.5968963221996019.\n",
      "[I 2025-07-28 19:35:19,289] Trial 99 finished with value: 0.5759890609905826 and parameters: {'n_estimators': 452, 'max_depth': 7, 'learning_rate': 0.004560100980062815, 'subsample': 0.6216040181032425, 'colsample_bytree': 0.9446380492884016, 'gamma': 1.265898982958212, 'reg_lambda': 0.8925416750481575, 'reg_alpha': 0.8907071898145796}. Best is trial 72 with value: 0.5968963221996019.\n"
     ]
    },
    {
     "name": "stdout",
     "output_type": "stream",
     "text": [
      "Best params : {'n_estimators': 407, 'max_depth': 10, 'learning_rate': 0.009151385771231108, 'subsample': 0.6190886121484503, 'colsample_bytree': 0.5879193040691257, 'gamma': 2.229707446857695, 'reg_lambda': 1.6513708705359682, 'reg_alpha': 0.4951905681680861}\n",
      "Best F1 (CV):0.5968963221996019\n"
     ]
    }
   ],
   "source": [
    "study_xgb = optuna.create_study(direction='maximize')\n",
    "study_xgb.optimize(partial(objective,model_name='xgb'), n_trials=100)\n",
    "print(f'Best params : {study_xgb.best_params}')\n",
    "print(f'Best F1 (CV):{study_xgb.best_value}')"
   ]
  },
  {
   "cell_type": "markdown",
   "id": "6d7085ce",
   "metadata": {},
   "source": [
    "#### Dari kedua tuning yang dilakukan, F1 Score dari model Random Forest sedikit lebih baik dibanding model Logistic Regression. Selanjutnya dilakukan training model dan melakukan testing"
   ]
  },
  {
   "cell_type": "markdown",
   "id": "50dcb720",
   "metadata": {},
   "source": [
    "#### Modelling baseline Logistic Regression"
   ]
  },
  {
   "cell_type": "code",
   "execution_count": 318,
   "id": "362bcfaf",
   "metadata": {},
   "outputs": [
    {
     "name": "stdout",
     "output_type": "stream",
     "text": [
      "Acc: 0.7\n",
      "F1: 0.6103896103896104\n",
      "Precision: 0.5\n",
      "Recall: 0.7833333333333333\n",
      "ROC-AUC: 0.7238095238095238\n",
      "              precision    recall  f1-score   support\n",
      "\n",
      "           0       0.88      0.66      0.76       140\n",
      "           1       0.50      0.78      0.61        60\n",
      "\n",
      "    accuracy                           0.70       200\n",
      "   macro avg       0.69      0.72      0.68       200\n",
      "weighted avg       0.76      0.70      0.71       200\n",
      "\n"
     ]
    },
    {
     "data": {
      "image/png": "[encoded data removed]",
      "text/plain": [
       "<Figure size 500x300 with 2 Axes>"
      ]
     },
     "metadata": {},
     "output_type": "display_data"
    }
   ],
   "source": [
    "model_LogReg = train(X_train,y_train,LogisticRegression(random_state=42,class_weight='balanced')) \n",
    "\n",
    "test_evaluate(X_test,y_test,model_LogReg)"
   ]
  },
  {
   "cell_type": "markdown",
   "id": "466a4e38",
   "metadata": {},
   "source": [
    "#### Modelling Logistic Regression + Hyperparameter Tuning"
   ]
  },
  {
   "cell_type": "code",
   "execution_count": 319,
   "id": "a6ece0ad",
   "metadata": {},
   "outputs": [
    {
     "name": "stdout",
     "output_type": "stream",
     "text": [
      "Acc: 0.705\n",
      "F1: 0.6242038216560509\n",
      "Precision: 0.5051546391752577\n",
      "Recall: 0.8166666666666667\n",
      "ROC-AUC: 0.736904761904762\n",
      "              precision    recall  f1-score   support\n",
      "\n",
      "           0       0.89      0.66      0.76       140\n",
      "           1       0.51      0.82      0.62        60\n",
      "\n",
      "    accuracy                           0.70       200\n",
      "   macro avg       0.70      0.74      0.69       200\n",
      "weighted avg       0.78      0.70      0.72       200\n",
      "\n"
     ]
    },
    {
     "data": {
      "image/png": "[encoded data removed]",
      "text/plain": [
       "<Figure size 500x300 with 2 Axes>"
      ]
     },
     "metadata": {},
     "output_type": "display_data"
    }
   ],
   "source": [
    "model_LogReg_tuned = train(X_train,y_train,LogisticRegression(random_state=42,class_weight='balanced',**studylogreg.best_params)) \n",
    "\n",
    "test_evaluate(X_test,y_test,model_LogReg_tuned)"
   ]
  },
  {
   "cell_type": "markdown",
   "id": "bad2426b",
   "metadata": {},
   "source": [
    "#### Modelling baseline Random Forest"
   ]
  },
  {
   "cell_type": "code",
   "execution_count": 320,
   "id": "d7bca8ad",
   "metadata": {},
   "outputs": [
    {
     "name": "stdout",
     "output_type": "stream",
     "text": [
      "Acc: 0.72\n",
      "F1: 0.6363636363636364\n",
      "Precision: 0.5212765957446809\n",
      "Recall: 0.8166666666666667\n",
      "ROC-AUC: 0.7476190476190476\n",
      "              precision    recall  f1-score   support\n",
      "\n",
      "           0       0.90      0.68      0.77       140\n",
      "           1       0.52      0.82      0.64        60\n",
      "\n",
      "    accuracy                           0.72       200\n",
      "   macro avg       0.71      0.75      0.70       200\n",
      "weighted avg       0.78      0.72      0.73       200\n",
      "\n"
     ]
    },
    {
     "data": {
      "image/png": "[encoded data removed]",
      "text/plain": [
       "<Figure size 500x300 with 2 Axes>"
      ]
     },
     "metadata": {},
     "output_type": "display_data"
    }
   ],
   "source": [
    "model_Rf = train(X_train,y_train,RandomForestClassifier(random_state=42,class_weight='balanced')) \n",
    "\n",
    "test_evaluate(X_test,y_test,model_Rf)"
   ]
  },
  {
   "cell_type": "markdown",
   "id": "77b8e6b0",
   "metadata": {},
   "source": [
    "#### Modelling RF + Hyperparameter Tuning"
   ]
  },
  {
   "cell_type": "code",
   "execution_count": 321,
   "id": "b1e54e1a",
   "metadata": {},
   "outputs": [
    {
     "name": "stdout",
     "output_type": "stream",
     "text": [
      "Acc: 0.72\n",
      "F1: 0.6363636363636364\n",
      "Precision: 0.5212765957446809\n",
      "Recall: 0.8166666666666667\n",
      "ROC-AUC: 0.7476190476190476\n",
      "              precision    recall  f1-score   support\n",
      "\n",
      "           0       0.90      0.68      0.77       140\n",
      "           1       0.52      0.82      0.64        60\n",
      "\n",
      "    accuracy                           0.72       200\n",
      "   macro avg       0.71      0.75      0.70       200\n",
      "weighted avg       0.78      0.72      0.73       200\n",
      "\n"
     ]
    },
    {
     "data": {
      "image/png": "[encoded data removed]",
      "text/plain": [
       "<Figure size 500x300 with 2 Axes>"
      ]
     },
     "metadata": {},
     "output_type": "display_data"
    }
   ],
   "source": [
    "model_Rf_tuned = train(X_train,y_train,RandomForestClassifier(random_state=42,class_weight='balanced',**study.best_params)) \n",
    "\n",
    "test_evaluate(X_test,y_test,model_Rf_tuned)"
   ]
  },
  {
   "cell_type": "code",
   "execution_count": 322,
   "id": "dba98472",
   "metadata": {},
   "outputs": [
    {
     "name": "stdout",
     "output_type": "stream",
     "text": [
      "Acc: 0.665\n",
      "F1: 0.5732484076433121\n",
      "Precision: 0.4639175257731959\n",
      "Recall: 0.75\n",
      "ROC-AUC: 0.6892857142857143\n",
      "              precision    recall  f1-score   support\n",
      "\n",
      "           0       0.85      0.63      0.72       140\n",
      "           1       0.46      0.75      0.57        60\n",
      "\n",
      "    accuracy                           0.67       200\n",
      "   macro avg       0.66      0.69      0.65       200\n",
      "weighted avg       0.74      0.67      0.68       200\n",
      "\n"
     ]
    },
    {
     "data": {
      "image/png": "[encoded data removed]",
      "text/plain": [
       "<Figure size 500x300 with 2 Axes>"
      ]
     },
     "metadata": {},
     "output_type": "display_data"
    }
   ],
   "source": [
    "model_xgb = train(X_train,y_train,xgb.XGBClassifier(random_state=42)) \n",
    "\n",
    "test_evaluate(X_test,y_test,model_xgb)"
   ]
  },
  {
   "cell_type": "code",
   "execution_count": 323,
   "id": "2b06991f",
   "metadata": {},
   "outputs": [
    {
     "name": "stdout",
     "output_type": "stream",
     "text": [
      "Acc: 0.71\n",
      "F1: 0.6233766233766234\n",
      "Precision: 0.5106382978723404\n",
      "Recall: 0.8\n",
      "ROC-AUC: 0.7357142857142858\n",
      "              precision    recall  f1-score   support\n",
      "\n",
      "           0       0.89      0.67      0.76       140\n",
      "           1       0.51      0.80      0.62        60\n",
      "\n",
      "    accuracy                           0.71       200\n",
      "   macro avg       0.70      0.74      0.69       200\n",
      "weighted avg       0.77      0.71      0.72       200\n",
      "\n"
     ]
    },
    {
     "data": {
      "image/png": "[encoded data removed]",
      "text/plain": [
       "<Figure size 500x300 with 2 Axes>"
      ]
     },
     "metadata": {},
     "output_type": "display_data"
    }
   ],
   "source": [
    "model_xgb_tuned = train(X_train,y_train,xgb.XGBClassifier(random_state=42,**study_xgb.best_params)) \n",
    "\n",
    "test_evaluate(X_test,y_test,model_xgb_tuned)"
   ]
  },
  {
   "cell_type": "markdown",
   "id": "022832bf",
   "metadata": {},
   "source": [
    "#### Summary\n",
    "- Hasil Menunjukkan model Random Forest lebih baik dibanding Logistic Regression dan XGB baik secara parameter default ataupun menggunakan parameter optimal.\n",
    "\n",
    "##### Selanjutnya akan berfokus pada model Random Forest. Disini akan dilakukan treshold tuning untuk menemukan treshold optimal dengan F1-Score tertinggi"
   ]
  },
  {
   "cell_type": "code",
   "execution_count": 334,
   "id": "1eb3b967",
   "metadata": {},
   "outputs": [
    {
     "name": "stdout",
     "output_type": "stream",
     "text": [
      "Best threshold: 0.54 | Best F1-score: 0.6622 | Best Recall: 0.8167 | Best Precision: 0.5568\n"
     ]
    },
    {
     "data": {
      "image/png": "[encoded data removed]",
      "text/plain": [
       "<Figure size 640x480 with 1 Axes>"
      ]
     },
     "metadata": {},
     "output_type": "display_data"
    }
   ],
   "source": [
    "import warnings\n",
    "from sklearn.exceptions import UndefinedMetricWarning\n",
    "warnings.filterwarnings(\"ignore\", category=UserWarning)\n",
    "warnings.filterwarnings(\"ignore\", category=UndefinedMetricWarning)\n",
    "thresholds = np.arange(0, 1, 0.02)\n",
    "f1_scores = []\n",
    "recall_scores = []\n",
    "precision_scores = []\n",
    "\n",
    "y_proba = model_Rf_tuned.predict_proba(X_test)[:, 1]\n",
    "\n",
    "for thr in thresholds:\n",
    "    y_pred_thr = (y_proba >= thr).astype(int)\n",
    "    f1 = f1_score(y_test, y_pred_thr)\n",
    "    recall = recall_score(y_test, y_pred_thr)\n",
    "    precision = precision_score(y_test, y_pred_thr)\n",
    "    f1_scores.append(f1)\n",
    "    recall_scores.append(recall)\n",
    "    precision_scores.append(precision)\n",
    "\n",
    "best_idx = np.argmax(f1_scores)\n",
    "best_threshold = thresholds[best_idx]\n",
    "best_f1 = f1_scores[best_idx]\n",
    "best_recall = recall_scores[best_idx]\n",
    "best_precision = precision_scores[best_idx]\n",
    "\n",
    "print(f\"Best threshold: {best_threshold:.2f} | Best F1-score: {best_f1:.4f} | Best Recall: {best_recall:.4f} | Best Precision: {best_precision:.4f}\")\n",
    "\n",
    "plt.plot(thresholds, f1_scores, label='F1 Score')\n",
    "plt.plot(thresholds, recall_scores, label='Recall')\n",
    "plt.plot(thresholds, precision_scores, label='Precision')\n",
    "plt.xlabel('Threshold')\n",
    "plt.ylabel('Score')\n",
    "plt.title('F1 Score & Recall & Precision vs Threshold')\n",
    "plt.legend()\n",
    "plt.show()"
   ]
  },
  {
   "cell_type": "markdown",
   "id": "5cdbed50",
   "metadata": {},
   "source": [
    "### **Insight**\n",
    "\n",
    "* Setelah dilakukan threshold tuning, model memperoleh **F1-Score sebesar 0.6622** dan **recall 0.8167** pada threshold **0.54**.\n",
    "* **F1-Score 0.6622** menunjukkan model cukup baik dalam menyeimbangkan antara **precision** (akurasi prediksi “bad”) dan **recall** (kemampuan menangkap seluruh nasabah “bad”).\n",
    "* **Recall 0.8167** menandakan model sangat baik dalam mendeteksi calon nasabah berisiko gagal bayar (*bad*), sehingga potensi risiko kredit macet dapat ditekan.\n",
    "* **Precision 0.5568** mengindikasikan sekitar 55% prediksi “bad” memang benar-benar nasabah “bad”. Artinya, masih ada sekitar 45% calon nasabah “good” yang berpotensi tertolak (false positive).\n",
    "* Model ini dapat dijadikan alat bantu bagi tim underwriting dalam mempertimbangkan approval kredit, dengan **fokus utama pada meminimalisir risiko pemberian kredit kepada nasabah berisiko tinggi**."
   ]
  },
  {
   "cell_type": "markdown",
   "id": "b091452a",
   "metadata": {},
   "source": [
    "### Save model dan X_test,y_test untuk dipakai di notebook 3"
   ]
  },
  {
   "cell_type": "code",
   "execution_count": 335,
   "id": "0364a508",
   "metadata": {},
   "outputs": [],
   "source": [
    "with open(\"..//model//model_prediksi-kredit.pkl\",'wb') as file:\n",
    "    pickle.dump(model_Rf_tuned, file)\n",
    "\n",
    "X_test.to_csv(\"..//data//x_test.csv\",index=False)\n",
    "y_test.to_csv(\"..//data//y_test.csv\",index=False)"
   ]
  },
  {
   "cell_type": "code",
   "execution_count": null,
   "id": "22778e85",
   "metadata": {},
   "outputs": [],
   "source": []
  }
 ],
 "metadata": {
  "kernelspec": {
   "display_name": "Python 3",
   "language": "python",
   "name": "python3"
  },
  "language_info": {
   "codemirror_mode": {
    "name": "ipython",
    "version": 3
   },
   "file_extension": ".py",
   "mimetype": "text/x-python",
   "name": "python",
   "nbconvert_exporter": "python",
   "pygments_lexer": "ipython3",
   "version": "3.11.9"
  }
 },
 "nbformat": 4,
 "nbformat_minor": 5
}
