{
 "cells": [
  {
   "cell_type": "markdown",
   "id": "6e353a14",
   "metadata": {},
   "source": [
    "# Overview\n",
    "\n",
    "##### - Di notebook ini, akan dilakukan Feature Engineering dan Modelling yang akan memberikan output berupa model ML yang dapat digunakan untuk memprediksi kemungkinan nasabah yang gagal bayar. Model ini nantinya akan membantu tim underwriting fintech/bank untuk membantu proses persetujuan pinjaman.\n",
    "##### - Model akan dievaluasi menggunakan metriks evaluasi yang relevan untuk meningkatkan keandalan dari sistem ini"
   ]
  },
  {
   "cell_type": "markdown",
   "id": "7bf099a4",
   "metadata": {},
   "source": [
    "### Import library yang digunakan"
   ]
  },
  {
   "cell_type": "code",
   "execution_count": 23,
   "id": "93287bb2",
   "metadata": {},
   "outputs": [],
   "source": [
    "import pandas as pd\n",
    "import numpy as np\n",
    "import matplotlib.pyplot as plt\n",
    "import seaborn as sns\n",
    "from sklearn.preprocessing import MinMaxScaler,OneHotEncoder,StandardScaler\n",
    "from sklearn.compose import ColumnTransformer\n",
    "from sklearn.model_selection import train_test_split,cross_val_score\n",
    "from imblearn.pipeline import Pipeline\n",
    "from imblearn.over_sampling import SMOTE\n",
    "from imblearn.under_sampling import RandomUnderSampler\n",
    "from sklearn.linear_model import LogisticRegression\n",
    "from sklearn.ensemble import RandomForestClassifier\n",
    "from sklearn.metrics import classification_report,confusion_matrix, f1_score,precision_score,recall_score,roc_auc_score,accuracy_score\n",
    "import optuna\n",
    "from functools import partial\n",
    "import pickle"
   ]
  },
  {
   "cell_type": "markdown",
   "id": "663ea0f4",
   "metadata": {},
   "source": [
    "Load data clean hasil Cleaning dan EDA"
   ]
  },
  {
   "cell_type": "code",
   "execution_count": 24,
   "id": "3bf69fee",
   "metadata": {},
   "outputs": [
    {
     "data": {
      "text/html": [
       "<div>\n",
       "<style scoped>\n",
       "    .dataframe tbody tr th:only-of-type {\n",
       "        vertical-align: middle;\n",
       "    }\n",
       "\n",
       "    .dataframe tbody tr th {\n",
       "        vertical-align: top;\n",
       "    }\n",
       "\n",
       "    .dataframe thead th {\n",
       "        text-align: right;\n",
       "    }\n",
       "</style>\n",
       "<table border=\"1\" class=\"dataframe\">\n",
       "  <thead>\n",
       "    <tr style=\"text-align: right;\">\n",
       "      <th></th>\n",
       "      <th>Age</th>\n",
       "      <th>Sex</th>\n",
       "      <th>Job</th>\n",
       "      <th>Housing</th>\n",
       "      <th>Saving accounts</th>\n",
       "      <th>Checking account</th>\n",
       "      <th>Credit amount</th>\n",
       "      <th>Duration</th>\n",
       "      <th>Purpose</th>\n",
       "      <th>Risk</th>\n",
       "      <th>age_bin</th>\n",
       "      <th>credit_bin</th>\n",
       "      <th>duration_bin</th>\n",
       "    </tr>\n",
       "  </thead>\n",
       "  <tbody>\n",
       "    <tr>\n",
       "      <th>0</th>\n",
       "      <td>67</td>\n",
       "      <td>male</td>\n",
       "      <td>2</td>\n",
       "      <td>own</td>\n",
       "      <td>Unknown</td>\n",
       "      <td>little</td>\n",
       "      <td>1169</td>\n",
       "      <td>6</td>\n",
       "      <td>radio/TV</td>\n",
       "      <td>0</td>\n",
       "      <td>(60, 100]</td>\n",
       "      <td>very low</td>\n",
       "      <td>&lt;=12</td>\n",
       "    </tr>\n",
       "    <tr>\n",
       "      <th>1</th>\n",
       "      <td>22</td>\n",
       "      <td>female</td>\n",
       "      <td>2</td>\n",
       "      <td>own</td>\n",
       "      <td>little</td>\n",
       "      <td>moderate</td>\n",
       "      <td>5951</td>\n",
       "      <td>48</td>\n",
       "      <td>radio/TV</td>\n",
       "      <td>1</td>\n",
       "      <td>(18, 25]</td>\n",
       "      <td>mid</td>\n",
       "      <td>37–48</td>\n",
       "    </tr>\n",
       "    <tr>\n",
       "      <th>2</th>\n",
       "      <td>49</td>\n",
       "      <td>male</td>\n",
       "      <td>1</td>\n",
       "      <td>own</td>\n",
       "      <td>little</td>\n",
       "      <td>Unknown</td>\n",
       "      <td>2096</td>\n",
       "      <td>12</td>\n",
       "      <td>education</td>\n",
       "      <td>0</td>\n",
       "      <td>(40, 50]</td>\n",
       "      <td>low</td>\n",
       "      <td>&lt;=12</td>\n",
       "    </tr>\n",
       "    <tr>\n",
       "      <th>3</th>\n",
       "      <td>45</td>\n",
       "      <td>male</td>\n",
       "      <td>2</td>\n",
       "      <td>free</td>\n",
       "      <td>little</td>\n",
       "      <td>little</td>\n",
       "      <td>7882</td>\n",
       "      <td>42</td>\n",
       "      <td>furniture/equipment</td>\n",
       "      <td>0</td>\n",
       "      <td>(40, 50]</td>\n",
       "      <td>mid</td>\n",
       "      <td>37–48</td>\n",
       "    </tr>\n",
       "    <tr>\n",
       "      <th>4</th>\n",
       "      <td>53</td>\n",
       "      <td>male</td>\n",
       "      <td>2</td>\n",
       "      <td>free</td>\n",
       "      <td>little</td>\n",
       "      <td>little</td>\n",
       "      <td>4870</td>\n",
       "      <td>24</td>\n",
       "      <td>car</td>\n",
       "      <td>1</td>\n",
       "      <td>(50, 60]</td>\n",
       "      <td>low</td>\n",
       "      <td>13-24</td>\n",
       "    </tr>\n",
       "  </tbody>\n",
       "</table>\n",
       "</div>"
      ],
      "text/plain": [
       "   Age     Sex  Job Housing Saving accounts Checking account  Credit amount  \\\n",
       "0   67    male    2     own         Unknown           little           1169   \n",
       "1   22  female    2     own          little         moderate           5951   \n",
       "2   49    male    1     own          little          Unknown           2096   \n",
       "3   45    male    2    free          little           little           7882   \n",
       "4   53    male    2    free          little           little           4870   \n",
       "\n",
       "   Duration              Purpose  Risk    age_bin credit_bin duration_bin  \n",
       "0         6             radio/TV     0  (60, 100]   very low         <=12  \n",
       "1        48             radio/TV     1   (18, 25]        mid        37–48  \n",
       "2        12            education     0   (40, 50]        low         <=12  \n",
       "3        42  furniture/equipment     0   (40, 50]        mid        37–48  \n",
       "4        24                  car     1   (50, 60]        low        13-24  "
      ]
     },
     "execution_count": 24,
     "metadata": {},
     "output_type": "execute_result"
    }
   ],
   "source": [
    "df = pd.read_csv(\"..\\\\data\\\\german_credit_data_clean.csv\")\n",
    "df.head()"
   ]
  },
  {
   "cell_type": "markdown",
   "id": "1d4e1fdb",
   "metadata": {},
   "source": [
    "### Hal yang perlu dilakukan\n",
    "- Encoding data kategorikal\n",
    "- Pertimbangkan penggunaan log transform\n",
    "- Scaling data numerik\n",
    "- Feature interactions\n",
    "- Feature importances"
   ]
  },
  {
   "cell_type": "code",
   "execution_count": 25,
   "id": "573b5f59",
   "metadata": {},
   "outputs": [
    {
     "data": {
      "text/plain": [
       "Risk\n",
       "0    700\n",
       "1    300\n",
       "Name: count, dtype: int64"
      ]
     },
     "execution_count": 25,
     "metadata": {},
     "output_type": "execute_result"
    }
   ],
   "source": [
    "df['Risk'].value_counts()"
   ]
  },
  {
   "cell_type": "markdown",
   "id": "b65f65ca",
   "metadata": {},
   "source": [
    "##### Melakukan split untuk memisahkan data training dan data testing"
   ]
  },
  {
   "cell_type": "code",
   "execution_count": 26,
   "id": "1d450524",
   "metadata": {},
   "outputs": [],
   "source": [
    "X = df.drop('Risk',axis=1)\n",
    "y = df['Risk']\n",
    "X_train,X_test,y_train,y_test = train_test_split(X,y,test_size=.2,random_state=42,stratify=y)"
   ]
  },
  {
   "cell_type": "markdown",
   "id": "8b0b61a2",
   "metadata": {},
   "source": [
    "##### Membangun transformer kolom dan juga pipeline preprocessing data untuk memastikan keefisienan dalam proses training dan testing model."
   ]
  },
  {
   "cell_type": "code",
   "execution_count": 27,
   "id": "1ab55453",
   "metadata": {},
   "outputs": [],
   "source": [
    "categorical_column = ['Sex','Housing','Saving accounts','Checking account','Purpose','age_bin','credit_bin','duration_bin']\n",
    "numerical_column = ['Age','Credit amount','Duration','Job']\n",
    "\n",
    "def generate_pipeline(model=None,name=''):\n",
    "    transformers = ColumnTransformer([\n",
    "        ('column_encoder',OneHotEncoder(),categorical_column),\n",
    "        ('numeric_scaler',StandardScaler(),numerical_column),\n",
    "        # ('num',StandardScaler(),numerical_column)\n",
    "    ])\n",
    "\n",
    "    pipeline = Pipeline([\n",
    "        ('transformer', transformers),\n",
    "        ('sampler',RandomUnderSampler(random_state=42)),\n",
    "        # ('sampler',SMOTE(random_state=42)),\n",
    "        ('model',model),\n",
    "    ])\n",
    "\n",
    "    return pipeline\n",
    "\n",
    "def train(X_train,y_train,model=None):\n",
    "    pipeline = generate_pipeline(model=model)\n",
    "    pipeline.fit(X_train,y_train)\n",
    "    return pipeline\n",
    "\n",
    "def test_evaluate(X_test,y_test,model=None):\n",
    "    y_pred = model.predict(X_test)\n",
    "\n",
    "    print(f'Acc: {accuracy_score(y_test,y_pred)}')\n",
    "    print(f'F1: {f1_score(y_test,y_pred)}')\n",
    "    print(f'Precision: {precision_score(y_test,y_pred)}')\n",
    "    print(f'Recall: {recall_score(y_test,y_pred)}')\n",
    "    print(f'ROC-AUC: {roc_auc_score(y_test,y_pred)}')\n",
    "    print(classification_report(y_test,y_pred))\n",
    "    heatmap(confusion_matrix(y_test,y_pred))\n",
    "\n",
    "def heatmap(data, title=\"\"):\n",
    "    plt.figure(figsize=(5,3))\n",
    "    sns.heatmap(data, annot=True, cmap='Blues', fmt='.2f')\n",
    "    plt.title(title)\n",
    "    plt.tight_layout()\n",
    "    plt.show()"
   ]
  },
  {
   "cell_type": "markdown",
   "id": "c404040e",
   "metadata": {},
   "source": [
    "##### - Disini saya menggunakan undersampling dengan RandomUnderSampler untuk menangani imbalanced data.\n",
    "##### - Setelah dilakukan trial dan error, undersampling memberikan hasil evaluasi yang lebih baik dibanding oversampling sehingga undersampling digunakan untuk sampler dalam pipeline.\n"
   ]
  },
  {
   "cell_type": "markdown",
   "id": "76117308",
   "metadata": {},
   "source": [
    "#### Cross Validation Model untuk Comparison"
   ]
  },
  {
   "cell_type": "code",
   "execution_count": 28,
   "id": "df981e5b",
   "metadata": {},
   "outputs": [
    {
     "name": "stdout",
     "output_type": "stream",
     "text": [
      "Model: log_reg\n",
      "F1-Score per fold: [0.60240964 0.58666667 0.55882353 0.56756757 0.58974359 0.63636364\n",
      " 0.46575342 0.67532468 0.61971831 0.56410256]\n",
      "Rata-rata F1-Score: 0.5866473602251371\n",
      "ROC-AUC per fold: [0.76857143 0.73095238 0.75666667 0.75857143 0.77857143 0.78809524\n",
      " 0.58809524 0.85285714 0.77       0.74285714]\n",
      "Rata-rata ROC-AUC: 0.7535238095238096\n",
      "\n",
      "Model: rf\n",
      "F1-Score per fold: [0.56410256 0.56       0.5915493  0.54320988 0.57894737 0.57575758\n",
      " 0.5        0.59259259 0.62162162 0.51351351]\n",
      "Rata-rata F1-Score: 0.5641294408326778\n",
      "ROC-AUC per fold: [0.765      0.73880952 0.75619048 0.76595238 0.71261905 0.76761905\n",
      " 0.61166667 0.82       0.7847619  0.69309524]\n",
      "Rata-rata ROC-AUC: 0.7415714285714287\n",
      "\n"
     ]
    }
   ],
   "source": [
    "pipelines = {'log_reg': LogisticRegression(random_state=42,class_weight='balanced'),\n",
    "             'rf': RandomForestClassifier(random_state=42,class_weight='balanced'),\n",
    "             }\n",
    "\n",
    "for name,pipeline in pipelines.items():\n",
    "    pipes = generate_pipeline(pipeline,name=name)\n",
    "    scoref1 = cross_val_score(pipes,X,y,cv=10,scoring='f1')\n",
    "    scorerocauc = cross_val_score(pipes,X,y,cv=10,scoring='roc_auc')\n",
    "    print(f'Model: {name}')\n",
    "    print(f'F1-Score per fold: {scoref1}')\n",
    "    print(f'Rata-rata F1-Score: {scoref1.mean()}')\n",
    "    print(f'ROC-AUC per fold: {scorerocauc}')\n",
    "    print(f'Rata-rata ROC-AUC: {scorerocauc.mean()}\\n')"
   ]
  },
  {
   "cell_type": "code",
   "execution_count": 29,
   "id": "89fb11b0",
   "metadata": {},
   "outputs": [],
   "source": [
    "def models(model_name, **params):\n",
    "    if model_name == \"rf\":\n",
    "        from sklearn.ensemble import RandomForestClassifier\n",
    "        return RandomForestClassifier(**params,class_weight='balanced')\n",
    "    elif model_name == \"log_reg\":\n",
    "        from sklearn.linear_model import LogisticRegression\n",
    "        return LogisticRegression(**params,class_weight='balanced')\n",
    "    else:\n",
    "        raise ValueError(\"Unknown model name\")"
   ]
  },
  {
   "cell_type": "markdown",
   "id": "3ba24099",
   "metadata": {},
   "source": [
    "#### Setup hyperparameter Tuning dengan optuna untuk model Logistic Regression dan Random Forest"
   ]
  },
  {
   "cell_type": "code",
   "execution_count": 30,
   "id": "1a4f13ef",
   "metadata": {},
   "outputs": [
    {
     "name": "stderr",
     "output_type": "stream",
     "text": [
      "[I 2025-05-31 07:49:57,248] A new study created in memory with name: no-name-434ba8b0-ba40-4848-baaa-3d7f928da2af\n"
     ]
    },
    {
     "name": "stderr",
     "output_type": "stream",
     "text": [
      "[I 2025-05-31 07:49:57,532] Trial 0 finished with value: 0.5761764013778456 and parameters: {'C': 1.3098651848794578, 'solver': 'liblinear', 'max_iter': 2328}. Best is trial 0 with value: 0.5761764013778456.\n",
      "[I 2025-05-31 07:49:57,851] Trial 1 finished with value: 0.5726887499646403 and parameters: {'C': 0.1757777285464922, 'solver': 'lbfgs', 'max_iter': 1408}. Best is trial 0 with value: 0.5761764013778456.\n",
      "[I 2025-05-31 07:49:58,182] Trial 2 finished with value: 0.5751505899018039 and parameters: {'C': 273.155606670788, 'solver': 'lbfgs', 'max_iter': 1596}. Best is trial 0 with value: 0.5761764013778456.\n",
      "[I 2025-05-31 07:49:58,389] Trial 3 finished with value: 0.574553446806968 and parameters: {'C': 18.184363954575975, 'solver': 'liblinear', 'max_iter': 3484}. Best is trial 0 with value: 0.5761764013778456.\n",
      "[I 2025-05-31 07:49:58,553] Trial 4 finished with value: 0.5823412243900631 and parameters: {'C': 0.05349274188795469, 'solver': 'liblinear', 'max_iter': 231}. Best is trial 4 with value: 0.5823412243900631.\n",
      "[I 2025-05-31 07:49:58,724] Trial 5 finished with value: 0.5835439759352802 and parameters: {'C': 0.031170942561973364, 'solver': 'liblinear', 'max_iter': 785}. Best is trial 5 with value: 0.5835439759352802.\n",
      "[I 2025-05-31 07:49:58,889] Trial 6 finished with value: 0.5207401533186868 and parameters: {'C': 0.0012421707279551282, 'solver': 'liblinear', 'max_iter': 2665}. Best is trial 5 with value: 0.5835439759352802.\n",
      "[I 2025-05-31 07:49:59,093] Trial 7 finished with value: 0.5737488491058185 and parameters: {'C': 24.55838377187283, 'solver': 'liblinear', 'max_iter': 1957}. Best is trial 5 with value: 0.5835439759352802.\n",
      "[I 2025-05-31 07:49:59,274] Trial 8 finished with value: 0.5823412243900631 and parameters: {'C': 0.06947293804884885, 'solver': 'liblinear', 'max_iter': 1935}. Best is trial 5 with value: 0.5835439759352802.\n",
      "[I 2025-05-31 07:49:59,577] Trial 9 finished with value: 0.574553446806968 and parameters: {'C': 16.72524175081375, 'solver': 'lbfgs', 'max_iter': 1994}. Best is trial 5 with value: 0.5835439759352802.\n",
      "[I 2025-05-31 07:49:59,769] Trial 10 finished with value: 0.5181799476964876 and parameters: {'C': 0.00010533035525106582, 'solver': 'lbfgs', 'max_iter': 541}. Best is trial 5 with value: 0.5835439759352802.\n",
      "[I 2025-05-31 07:49:59,952] Trial 11 finished with value: 0.5709611214695376 and parameters: {'C': 0.010380798677491239, 'solver': 'liblinear', 'max_iter': 163}. Best is trial 5 with value: 0.5835439759352802.\n",
      "[I 2025-05-31 07:50:00,152] Trial 12 finished with value: 0.5543103379270354 and parameters: {'C': 0.005281488034344294, 'solver': 'liblinear', 'max_iter': 884}. Best is trial 5 with value: 0.5835439759352802.\n",
      "[I 2025-05-31 07:50:00,355] Trial 13 finished with value: 0.5750445580444368 and parameters: {'C': 0.9472600202480205, 'solver': 'liblinear', 'max_iter': 992}. Best is trial 5 with value: 0.5835439759352802.\n",
      "[I 2025-05-31 07:50:00,544] Trial 14 finished with value: 0.5725516371141918 and parameters: {'C': 0.019106983907356115, 'solver': 'liblinear', 'max_iter': 106}. Best is trial 5 with value: 0.5835439759352802.\n",
      "[I 2025-05-31 07:50:00,725] Trial 15 finished with value: 0.5228869974578023 and parameters: {'C': 0.0012842112265315866, 'solver': 'liblinear', 'max_iter': 781}. Best is trial 5 with value: 0.5835439759352802.\n",
      "[I 2025-05-31 07:50:00,910] Trial 16 finished with value: 0.5815488148394425 and parameters: {'C': 0.07648723626385155, 'solver': 'liblinear', 'max_iter': 1254}. Best is trial 5 with value: 0.5835439759352802.\n",
      "[I 2025-05-31 07:50:01,104] Trial 17 finished with value: 0.5769853736153893 and parameters: {'C': 1.7200586095709223, 'solver': 'liblinear', 'max_iter': 550}. Best is trial 5 with value: 0.5835439759352802.\n",
      "[I 2025-05-31 07:50:01,306] Trial 18 finished with value: 0.5181799476964876 and parameters: {'C': 0.0001282038125002913, 'solver': 'lbfgs', 'max_iter': 371}. Best is trial 5 with value: 0.5835439759352802.\n",
      "[I 2025-05-31 07:50:01,529] Trial 19 finished with value: 0.5212850781979947 and parameters: {'C': 0.0013980593592537976, 'solver': 'liblinear', 'max_iter': 1205}. Best is trial 5 with value: 0.5835439759352802.\n",
      "[I 2025-05-31 07:50:01,709] Trial 20 finished with value: 0.5821776998000502 and parameters: {'C': 0.04624200923828163, 'solver': 'liblinear', 'max_iter': 647}. Best is trial 5 with value: 0.5835439759352802.\n",
      "[I 2025-05-31 07:50:01,904] Trial 21 finished with value: 0.5716094566437937 and parameters: {'C': 0.26957546192697146, 'solver': 'liblinear', 'max_iter': 2626}. Best is trial 5 with value: 0.5835439759352802.\n",
      "[I 2025-05-31 07:50:02,100] Trial 22 finished with value: 0.5815265979591295 and parameters: {'C': 0.04387424697063238, 'solver': 'liblinear', 'max_iter': 2218}. Best is trial 5 with value: 0.5835439759352802.\n",
      "[I 2025-05-31 07:50:02,282] Trial 23 finished with value: 0.5484077429476358 and parameters: {'C': 0.003989050260987888, 'solver': 'liblinear', 'max_iter': 1646}. Best is trial 5 with value: 0.5835439759352802.\n",
      "[I 2025-05-31 07:50:02,459] Trial 24 finished with value: 0.5712462520401937 and parameters: {'C': 0.5146720892928347, 'solver': 'liblinear', 'max_iter': 1068}. Best is trial 5 with value: 0.5835439759352802.\n",
      "[I 2025-05-31 07:50:02,651] Trial 25 finished with value: 0.5704342162396874 and parameters: {'C': 3.6739504051688616, 'solver': 'liblinear', 'max_iter': 3255}. Best is trial 5 with value: 0.5835439759352802.\n",
      "[I 2025-05-31 07:50:02,952] Trial 26 finished with value: 0.5753613812133296 and parameters: {'C': 0.12800124011654795, 'solver': 'lbfgs', 'max_iter': 452}. Best is trial 5 with value: 0.5835439759352802.\n",
      "[I 2025-05-31 07:50:03,220] Trial 27 finished with value: 0.5725516371141918 and parameters: {'C': 0.018816771486791124, 'solver': 'liblinear', 'max_iter': 1493}. Best is trial 5 with value: 0.5835439759352802.\n",
      "[I 2025-05-31 07:50:03,446] Trial 28 finished with value: 0.5146520728850715 and parameters: {'C': 0.0003944344144307867, 'solver': 'liblinear', 'max_iter': 284}. Best is trial 5 with value: 0.5835439759352802.\n",
      "[I 2025-05-31 07:50:03,665] Trial 29 finished with value: 0.5704342162396874 and parameters: {'C': 3.2792125465219364, 'solver': 'liblinear', 'max_iter': 2342}. Best is trial 5 with value: 0.5835439759352802.\n"
     ]
    },
    {
     "name": "stdout",
     "output_type": "stream",
     "text": [
      "Best params : {'C': 0.031170942561973364, 'solver': 'liblinear', 'max_iter': 785}\n",
      "Best F1 (CV):0.5835439759352802\n"
     ]
    }
   ],
   "source": [
    "def objective(trial,model_name=''):\n",
    "    if model_name=='log_reg':\n",
    "        params = {\n",
    "            'C': trial.suggest_float('C', 1e-4, 1000,log=True),\n",
    "            'solver': trial.suggest_categorical('solver', ['lbfgs', 'liblinear']),\n",
    "            'max_iter': trial.suggest_int('max_iter', 100, 3500)\n",
    "        }\n",
    "    elif model_name=='rf':\n",
    "        params = {\n",
    "            'n_estimators': trial.suggest_int('n_estimators', 50, 500),\n",
    "            'max_depth': trial.suggest_int('max_depth', 2, 32),\n",
    "            'min_samples_split': trial.suggest_int('min_samples_split', 2, 10),\n",
    "            'min_samples_leaf': trial.suggest_int('min_samples_leaf', 1, 10),\n",
    "        }\n",
    "    # Buat pipeline model\n",
    "    model = generate_pipeline(\n",
    "        model=models(model_name, **params)\n",
    "    )\n",
    "\n",
    "    # Cross-validation\n",
    "    scores_f1 = cross_val_score(model, X, y, cv=5, scoring='f1')\n",
    "    scores_roc = cross_val_score(model, X, y, cv=5, scoring='roc_auc')\n",
    "    trial.set_user_attr('roc_auc', np.mean(scores_roc))\n",
    "    return np.mean(scores_f1)\n",
    "\n",
    "studylogreg = optuna.create_study(direction='maximize')\n",
    "studylogreg.optimize(partial(objective,model_name='log_reg'), n_trials=30)\n",
    "print(f'Best params : {studylogreg.best_params}')\n",
    "print(f'Best F1 (CV):{studylogreg.best_value}')"
   ]
  },
  {
   "cell_type": "code",
   "execution_count": 31,
   "id": "4312f7b4",
   "metadata": {},
   "outputs": [
    {
     "name": "stderr",
     "output_type": "stream",
     "text": [
      "[I 2025-05-31 07:50:03,676] A new study created in memory with name: no-name-2245de9f-1ac5-4eee-90c3-3ca507e8790e\n",
      "[I 2025-05-31 07:50:05,787] Trial 0 finished with value: 0.5632302437415972 and parameters: {'n_estimators': 92, 'max_depth': 10, 'min_samples_split': 6, 'min_samples_leaf': 1}. Best is trial 0 with value: 0.5632302437415972.\n",
      "[I 2025-05-31 07:50:10,165] Trial 1 finished with value: 0.567301155919701 and parameters: {'n_estimators': 227, 'max_depth': 22, 'min_samples_split': 3, 'min_samples_leaf': 5}. Best is trial 1 with value: 0.567301155919701.\n",
      "[I 2025-05-31 07:50:19,372] Trial 2 finished with value: 0.5664822590993303 and parameters: {'n_estimators': 444, 'max_depth': 9, 'min_samples_split': 9, 'min_samples_leaf': 1}. Best is trial 1 with value: 0.567301155919701.\n",
      "[I 2025-05-31 07:50:24,063] Trial 3 finished with value: 0.5758376912637215 and parameters: {'n_estimators': 263, 'max_depth': 12, 'min_samples_split': 6, 'min_samples_leaf': 9}. Best is trial 3 with value: 0.5758376912637215.\n",
      "[I 2025-05-31 07:50:29,354] Trial 4 finished with value: 0.5808069566623044 and parameters: {'n_estimators': 354, 'max_depth': 30, 'min_samples_split': 6, 'min_samples_leaf': 10}. Best is trial 4 with value: 0.5808069566623044.\n",
      "[I 2025-05-31 07:50:34,587] Trial 5 finished with value: 0.5512919035367377 and parameters: {'n_estimators': 244, 'max_depth': 18, 'min_samples_split': 3, 'min_samples_leaf': 1}. Best is trial 4 with value: 0.5808069566623044.\n",
      "[I 2025-05-31 07:50:41,647] Trial 6 finished with value: 0.5726399451280708 and parameters: {'n_estimators': 435, 'max_depth': 32, 'min_samples_split': 9, 'min_samples_leaf': 5}. Best is trial 4 with value: 0.5808069566623044.\n",
      "[I 2025-05-31 07:50:43,527] Trial 7 finished with value: 0.5615816881821484 and parameters: {'n_estimators': 116, 'max_depth': 16, 'min_samples_split': 3, 'min_samples_leaf': 8}. Best is trial 4 with value: 0.5808069566623044.\n",
      "[I 2025-05-31 07:50:49,133] Trial 8 finished with value: 0.5651585020919672 and parameters: {'n_estimators': 283, 'max_depth': 19, 'min_samples_split': 5, 'min_samples_leaf': 5}. Best is trial 4 with value: 0.5808069566623044.\n",
      "[I 2025-05-31 07:50:53,915] Trial 9 finished with value: 0.5639416803277262 and parameters: {'n_estimators': 249, 'max_depth': 8, 'min_samples_split': 10, 'min_samples_leaf': 2}. Best is trial 4 with value: 0.5808069566623044.\n",
      "[I 2025-05-31 07:50:59,728] Trial 10 finished with value: 0.5738499506361284 and parameters: {'n_estimators': 379, 'max_depth': 32, 'min_samples_split': 7, 'min_samples_leaf': 10}. Best is trial 4 with value: 0.5808069566623044.\n",
      "[I 2025-05-31 07:51:04,014] Trial 11 finished with value: 0.5762706961883437 and parameters: {'n_estimators': 346, 'max_depth': 2, 'min_samples_split': 5, 'min_samples_leaf': 10}. Best is trial 4 with value: 0.5808069566623044.\n",
      "[I 2025-05-31 07:51:08,455] Trial 12 finished with value: 0.579428145190209 and parameters: {'n_estimators': 348, 'max_depth': 3, 'min_samples_split': 5, 'min_samples_leaf': 7}. Best is trial 4 with value: 0.5808069566623044.\n",
      "[I 2025-05-31 07:51:13,859] Trial 13 finished with value: 0.579503192131954 and parameters: {'n_estimators': 350, 'max_depth': 25, 'min_samples_split': 7, 'min_samples_leaf': 7}. Best is trial 4 with value: 0.5808069566623044.\n",
      "[I 2025-05-31 07:51:21,560] Trial 14 finished with value: 0.5738536519261294 and parameters: {'n_estimators': 475, 'max_depth': 27, 'min_samples_split': 8, 'min_samples_leaf': 7}. Best is trial 4 with value: 0.5808069566623044.\n",
      "[I 2025-05-31 07:51:24,521] Trial 15 finished with value: 0.5592252236125115 and parameters: {'n_estimators': 159, 'max_depth': 26, 'min_samples_split': 7, 'min_samples_leaf': 3}. Best is trial 4 with value: 0.5808069566623044.\n",
      "[I 2025-05-31 07:51:29,213] Trial 16 finished with value: 0.5694494724021137 and parameters: {'n_estimators': 315, 'max_depth': 26, 'min_samples_split': 7, 'min_samples_leaf': 7}. Best is trial 4 with value: 0.5808069566623044.\n",
      "[I 2025-05-31 07:51:35,158] Trial 17 finished with value: 0.5784402295496547 and parameters: {'n_estimators': 420, 'max_depth': 29, 'min_samples_split': 8, 'min_samples_leaf': 9}. Best is trial 4 with value: 0.5808069566623044.\n",
      "[I 2025-05-31 07:51:41,123] Trial 18 finished with value: 0.5702252559638993 and parameters: {'n_estimators': 384, 'max_depth': 24, 'min_samples_split': 4, 'min_samples_leaf': 6}. Best is trial 4 with value: 0.5808069566623044.\n",
      "[I 2025-05-31 07:51:44,842] Trial 19 finished with value: 0.5668222757226596 and parameters: {'n_estimators': 200, 'max_depth': 22, 'min_samples_split': 2, 'min_samples_leaf': 4}. Best is trial 4 with value: 0.5808069566623044.\n"
     ]
    },
    {
     "name": "stdout",
     "output_type": "stream",
     "text": [
      "Best params : {'n_estimators': 354, 'max_depth': 30, 'min_samples_split': 6, 'min_samples_leaf': 10}\n",
      "Best F1 (CV):0.5808069566623044\n"
     ]
    }
   ],
   "source": [
    "study = optuna.create_study(direction='maximize')\n",
    "study.optimize(partial(objective,model_name='rf'), n_trials=20)\n",
    "print(f'Best params : {study.best_params}')\n",
    "print(f'Best F1 (CV):{study.best_value}')"
   ]
  },
  {
   "cell_type": "markdown",
   "id": "6d7085ce",
   "metadata": {},
   "source": [
    "#### Dari kedua tuning yang dilakukan, F1 Score dari model Random Forest sedikit lebih baik dibanding model Logistic Regression. Selanjutnya dilakukan training model dan melakukan testing"
   ]
  },
  {
   "cell_type": "markdown",
   "id": "50dcb720",
   "metadata": {},
   "source": [
    "#### Modelling baseline Logistic Regression"
   ]
  },
  {
   "cell_type": "code",
   "execution_count": 32,
   "id": "362bcfaf",
   "metadata": {},
   "outputs": [
    {
     "name": "stdout",
     "output_type": "stream",
     "text": [
      "Acc: 0.7\n",
      "F1: 0.6103896103896104\n",
      "Precision: 0.5\n",
      "Recall: 0.7833333333333333\n",
      "ROC-AUC: 0.7238095238095238\n",
      "              precision    recall  f1-score   support\n",
      "\n",
      "           0       0.88      0.66      0.76       140\n",
      "           1       0.50      0.78      0.61        60\n",
      "\n",
      "    accuracy                           0.70       200\n",
      "   macro avg       0.69      0.72      0.68       200\n",
      "weighted avg       0.76      0.70      0.71       200\n",
      "\n"
     ]
    },
    {
     "data": {
      "image/png": "[encoded data removed]",
      "text/plain": [
       "<Figure size 500x300 with 2 Axes>"
      ]
     },
     "metadata": {},
     "output_type": "display_data"
    }
   ],
   "source": [
    "model_LogReg = train(X_train,y_train,LogisticRegression(random_state=42,class_weight='balanced')) \n",
    "\n",
    "test_evaluate(X_test,y_test,model_LogReg)"
   ]
  },
  {
   "cell_type": "markdown",
   "id": "466a4e38",
   "metadata": {},
   "source": [
    "#### Modelling Logistic Regression + Hyperparameter Tuning"
   ]
  },
  {
   "cell_type": "code",
   "execution_count": 33,
   "id": "a6ece0ad",
   "metadata": {},
   "outputs": [
    {
     "name": "stdout",
     "output_type": "stream",
     "text": [
      "Acc: 0.705\n",
      "F1: 0.6242038216560509\n",
      "Precision: 0.5051546391752577\n",
      "Recall: 0.8166666666666667\n",
      "ROC-AUC: 0.736904761904762\n",
      "              precision    recall  f1-score   support\n",
      "\n",
      "           0       0.89      0.66      0.76       140\n",
      "           1       0.51      0.82      0.62        60\n",
      "\n",
      "    accuracy                           0.70       200\n",
      "   macro avg       0.70      0.74      0.69       200\n",
      "weighted avg       0.78      0.70      0.72       200\n",
      "\n"
     ]
    },
    {
     "data": {
      "image/png": "[encoded data removed]",
      "text/plain": [
       "<Figure size 500x300 with 2 Axes>"
      ]
     },
     "metadata": {},
     "output_type": "display_data"
    }
   ],
   "source": [
    "model_LogReg_tuned = train(X_train,y_train,LogisticRegression(random_state=42,class_weight='balanced',**studylogreg.best_params)) \n",
    "\n",
    "test_evaluate(X_test,y_test,model_LogReg_tuned)"
   ]
  },
  {
   "cell_type": "markdown",
   "id": "bad2426b",
   "metadata": {},
   "source": [
    "#### Modelling baseline Random Forest"
   ]
  },
  {
   "cell_type": "code",
   "execution_count": 34,
   "id": "d7bca8ad",
   "metadata": {},
   "outputs": [
    {
     "name": "stdout",
     "output_type": "stream",
     "text": [
      "Acc: 0.72\n",
      "F1: 0.6363636363636364\n",
      "Precision: 0.5212765957446809\n",
      "Recall: 0.8166666666666667\n",
      "ROC-AUC: 0.7476190476190476\n",
      "              precision    recall  f1-score   support\n",
      "\n",
      "           0       0.90      0.68      0.77       140\n",
      "           1       0.52      0.82      0.64        60\n",
      "\n",
      "    accuracy                           0.72       200\n",
      "   macro avg       0.71      0.75      0.70       200\n",
      "weighted avg       0.78      0.72      0.73       200\n",
      "\n"
     ]
    },
    {
     "data": {
      "image/png": "[encoded data removed]",
      "text/plain": [
       "<Figure size 500x300 with 2 Axes>"
      ]
     },
     "metadata": {},
     "output_type": "display_data"
    }
   ],
   "source": [
    "model_Rf = train(X_train,y_train,RandomForestClassifier(random_state=42,class_weight='balanced')) \n",
    "\n",
    "test_evaluate(X_test,y_test,model_Rf)"
   ]
  },
  {
   "cell_type": "markdown",
   "id": "77b8e6b0",
   "metadata": {},
   "source": [
    "#### Modelling RF + Hyperparameter Tuning"
   ]
  },
  {
   "cell_type": "code",
   "execution_count": 35,
   "id": "b1e54e1a",
   "metadata": {},
   "outputs": [
    {
     "name": "stdout",
     "output_type": "stream",
     "text": [
      "Acc: 0.73\n",
      "F1: 0.64\n",
      "Precision: 0.5333333333333333\n",
      "Recall: 0.8\n",
      "ROC-AUC: 0.75\n",
      "              precision    recall  f1-score   support\n",
      "\n",
      "           0       0.89      0.70      0.78       140\n",
      "           1       0.53      0.80      0.64        60\n",
      "\n",
      "    accuracy                           0.73       200\n",
      "   macro avg       0.71      0.75      0.71       200\n",
      "weighted avg       0.78      0.73      0.74       200\n",
      "\n"
     ]
    },
    {
     "data": {
      "image/png": "[encoded data removed]",
      "text/plain": [
       "<Figure size 500x300 with 2 Axes>"
      ]
     },
     "metadata": {},
     "output_type": "display_data"
    }
   ],
   "source": [
    "model_Rf_tuned = train(X_train,y_train,RandomForestClassifier(random_state=42,class_weight='balanced',**study.best_params)) \n",
    "\n",
    "test_evaluate(X_test,y_test,model_Rf_tuned)"
   ]
  },
  {
   "cell_type": "markdown",
   "id": "022832bf",
   "metadata": {},
   "source": [
    "#### Summary\n",
    "- Hasil Menunjukkan Baseline model Logistic Regression sedikit lebih baik dibanding Random Forest.\n",
    "- Untuk model yang menggunakan best_params dari tuning, model Random Forest mengalami peningkatan signifikan dari F1-Score yang awalnya 0.5694 menjadi 0.6163. Di sisi lain, model Logistic Regression justru mengalami penurunan"
   ]
  },
  {
   "cell_type": "markdown",
   "id": "c8a78e84",
   "metadata": {},
   "source": [
    "#### Selanjutnya akan berfokus pada model Random Forest. Disini akan dilakukan treshold tuning untuk menemukan treshold optimal dengan F1-Score tertinggi"
   ]
  },
  {
   "cell_type": "code",
   "execution_count": 36,
   "id": "1eb3b967",
   "metadata": {},
   "outputs": [
    {
     "name": "stdout",
     "output_type": "stream",
     "text": [
      "Best threshold: 0.50 | Best F1-score: 0.6400\n"
     ]
    }
   ],
   "source": [
    "thresholds = np.arange(0,100,0.02)\n",
    "f1_scores = []\n",
    "\n",
    "y_proba = model_Rf_tuned.predict_proba(X_test)[:,1]\n",
    "for thr in thresholds:\n",
    "    y_pred_thr = (y_proba>=thr).astype('int')\n",
    "    scores = f1_score(y_pred_thr,y_test)\n",
    "    f1_scores.append(scores)\n",
    "\n",
    "best_idx = np.argmax(f1_scores)\n",
    "best_threshold = thresholds[best_idx]\n",
    "best_f1 = f1_scores[best_idx]\n",
    "print(f\"Best threshold: {best_threshold:.2f} | Best F1-score: {best_f1:.4f}\")"
   ]
  },
  {
   "cell_type": "markdown",
   "id": "5cdbed50",
   "metadata": {},
   "source": [
    "#### Insight\n",
    "- Setelah dilakukan modelling, hyperparameter tuning, serta treshold  tuning, didapat model terbaik yakni Random Forest dengan parameter \n",
    "    - 'n_estimators': 104\n",
    "    - 'max_depth': 8\n",
    "    - 'min_samples_split': 9\n",
    "    - 'min_samples_leaf': 7\n",
    "- Model ini mendapat skor metriks F1-Score yakni 0.6375 dimana treshold di sekitar 0.48. Dengan F1-Score 0.6375, performa model dalam menyeimbangkan prediksi apakah calon nasabah adalah good atau bad, serta kemampuan menangkap keseluruhan calon nasabah yang good sebesar 62.5 dari skala 1-100.\n",
    "- Model ini akan membantu tim underwriting untuk membantu sebagai pertimbangan dalam mengapprove calon nasabah untuk kredit"
   ]
  },
  {
   "cell_type": "markdown",
   "id": "b091452a",
   "metadata": {},
   "source": [
    "### Save model dan X_test,y_test untuk dipakai di notebook 3"
   ]
  },
  {
   "cell_type": "code",
   "execution_count": 38,
   "id": "0364a508",
   "metadata": {},
   "outputs": [],
   "source": [
    "with open(\"..//model//model_prediksi-kredit.pkl\",'wb') as file:\n",
    "    pickle.dump(model_Rf_tuned, file)\n",
    "\n",
    "X_test.to_csv(\"..//data//x_test.csv\",index=False)\n",
    "y_test.to_csv(\"..//data//y_test.csv\",index=False)"
   ]
  },
  {
   "cell_type": "code",
   "execution_count": null,
   "id": "22778e85",
   "metadata": {},
   "outputs": [],
   "source": []
  }
 ],
 "metadata": {
  "kernelspec": {
   "display_name": "Python 3",
   "language": "python",
   "name": "python3"
  },
  "language_info": {
   "codemirror_mode": {
    "name": "ipython",
    "version": 3
   },
   "file_extension": ".py",
   "mimetype": "text/x-python",
   "name": "python",
   "nbconvert_exporter": "python",
   "pygments_lexer": "ipython3",
   "version": "3.11.8"
  }
 },
 "nbformat": 4,
 "nbformat_minor": 5
}
