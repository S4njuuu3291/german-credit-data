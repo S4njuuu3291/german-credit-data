{
 "cells": [
  {
   "cell_type": "markdown",
   "id": "6e353a14",
   "metadata": {},
   "source": [
    "# Overview\n",
    "\n",
    "##### - Di notebook ini, akan dilakukan Feature Engineering dan Modelling yang akan memberikan output berupa model ML yang dapat digunakan untuk memprediksi kemungkinan nasabah yang gagal bayar. Model ini nantinya akan membantu tim underwriting fintech/bank untuk membantu proses persetujuan pinjaman.\n",
    "##### - Model akan dievaluasi menggunakan metriks evaluasi yang relevan untuk meningkatkan keandalan dari sistem ini"
   ]
  },
  {
   "cell_type": "markdown",
   "id": "7bf099a4",
   "metadata": {},
   "source": [
    "### Import library yang digunakan"
   ]
  },
  {
   "cell_type": "code",
   "execution_count": null,
   "id": "93287bb2",
   "metadata": {},
   "outputs": [],
   "source": [
    "import pandas as pd\n",
    "import numpy as np\n",
    "import matplotlib.pyplot as plt\n",
    "import seaborn as sns\n",
    "from sklearn.preprocessing import MinMaxScaler,OneHotEncoder,StandardScaler\n",
    "from sklearn.compose import ColumnTransformer\n",
    "from sklearn.model_selection import train_test_split,cross_val_score\n",
    "from imblearn.pipeline import Pipeline\n",
    "from imblearn.over_sampling import SMOTE\n",
    "from imblearn.under_sampling import RandomUnderSampler\n",
    "from sklearn.linear_model import LogisticRegression\n",
    "from sklearn.ensemble import RandomForestClassifier\n",
    "from sklearn.metrics import classification_report,confusion_matrix, f1_score,precision_score,recall_score,roc_auc_score,accuracy_score\n",
    "import optuna\n",
    "from functools import partial"
   ]
  },
  {
   "cell_type": "markdown",
   "id": "663ea0f4",
   "metadata": {},
   "source": [
    "Load data clean hasil Cleaning dan EDA"
   ]
  },
  {
   "cell_type": "code",
   "execution_count": 544,
   "id": "3bf69fee",
   "metadata": {},
   "outputs": [
    {
     "data": {
      "text/html": [
       "<div>\n",
       "<style scoped>\n",
       "    .dataframe tbody tr th:only-of-type {\n",
       "        vertical-align: middle;\n",
       "    }\n",
       "\n",
       "    .dataframe tbody tr th {\n",
       "        vertical-align: top;\n",
       "    }\n",
       "\n",
       "    .dataframe thead th {\n",
       "        text-align: right;\n",
       "    }\n",
       "</style>\n",
       "<table border=\"1\" class=\"dataframe\">\n",
       "  <thead>\n",
       "    <tr style=\"text-align: right;\">\n",
       "      <th></th>\n",
       "      <th>Age</th>\n",
       "      <th>Sex</th>\n",
       "      <th>Job</th>\n",
       "      <th>Housing</th>\n",
       "      <th>Saving accounts</th>\n",
       "      <th>Checking account</th>\n",
       "      <th>Credit amount</th>\n",
       "      <th>Duration</th>\n",
       "      <th>Purpose</th>\n",
       "      <th>Risk</th>\n",
       "      <th>age_bin</th>\n",
       "      <th>credit_bin</th>\n",
       "      <th>duration_bin</th>\n",
       "    </tr>\n",
       "  </thead>\n",
       "  <tbody>\n",
       "    <tr>\n",
       "      <th>0</th>\n",
       "      <td>67</td>\n",
       "      <td>male</td>\n",
       "      <td>2</td>\n",
       "      <td>own</td>\n",
       "      <td>Unknown</td>\n",
       "      <td>little</td>\n",
       "      <td>1169</td>\n",
       "      <td>6</td>\n",
       "      <td>radio/TV</td>\n",
       "      <td>0</td>\n",
       "      <td>(60, 100]</td>\n",
       "      <td>very low</td>\n",
       "      <td>&lt;=12</td>\n",
       "    </tr>\n",
       "    <tr>\n",
       "      <th>1</th>\n",
       "      <td>22</td>\n",
       "      <td>female</td>\n",
       "      <td>2</td>\n",
       "      <td>own</td>\n",
       "      <td>little</td>\n",
       "      <td>moderate</td>\n",
       "      <td>5951</td>\n",
       "      <td>48</td>\n",
       "      <td>radio/TV</td>\n",
       "      <td>1</td>\n",
       "      <td>(18, 25]</td>\n",
       "      <td>mid</td>\n",
       "      <td>37–48</td>\n",
       "    </tr>\n",
       "    <tr>\n",
       "      <th>2</th>\n",
       "      <td>49</td>\n",
       "      <td>male</td>\n",
       "      <td>1</td>\n",
       "      <td>own</td>\n",
       "      <td>little</td>\n",
       "      <td>Unknown</td>\n",
       "      <td>2096</td>\n",
       "      <td>12</td>\n",
       "      <td>education</td>\n",
       "      <td>0</td>\n",
       "      <td>(40, 50]</td>\n",
       "      <td>low</td>\n",
       "      <td>&lt;=12</td>\n",
       "    </tr>\n",
       "    <tr>\n",
       "      <th>3</th>\n",
       "      <td>45</td>\n",
       "      <td>male</td>\n",
       "      <td>2</td>\n",
       "      <td>free</td>\n",
       "      <td>little</td>\n",
       "      <td>little</td>\n",
       "      <td>7882</td>\n",
       "      <td>42</td>\n",
       "      <td>furniture/equipment</td>\n",
       "      <td>0</td>\n",
       "      <td>(40, 50]</td>\n",
       "      <td>mid</td>\n",
       "      <td>37–48</td>\n",
       "    </tr>\n",
       "    <tr>\n",
       "      <th>4</th>\n",
       "      <td>53</td>\n",
       "      <td>male</td>\n",
       "      <td>2</td>\n",
       "      <td>free</td>\n",
       "      <td>little</td>\n",
       "      <td>little</td>\n",
       "      <td>4870</td>\n",
       "      <td>24</td>\n",
       "      <td>car</td>\n",
       "      <td>1</td>\n",
       "      <td>(50, 60]</td>\n",
       "      <td>low</td>\n",
       "      <td>13-24</td>\n",
       "    </tr>\n",
       "  </tbody>\n",
       "</table>\n",
       "</div>"
      ],
      "text/plain": [
       "   Age     Sex  Job Housing Saving accounts Checking account  Credit amount  \\\n",
       "0   67    male    2     own         Unknown           little           1169   \n",
       "1   22  female    2     own          little         moderate           5951   \n",
       "2   49    male    1     own          little          Unknown           2096   \n",
       "3   45    male    2    free          little           little           7882   \n",
       "4   53    male    2    free          little           little           4870   \n",
       "\n",
       "   Duration              Purpose  Risk    age_bin credit_bin duration_bin  \n",
       "0         6             radio/TV     0  (60, 100]   very low         <=12  \n",
       "1        48             radio/TV     1   (18, 25]        mid        37–48  \n",
       "2        12            education     0   (40, 50]        low         <=12  \n",
       "3        42  furniture/equipment     0   (40, 50]        mid        37–48  \n",
       "4        24                  car     1   (50, 60]        low        13-24  "
      ]
     },
     "execution_count": 544,
     "metadata": {},
     "output_type": "execute_result"
    }
   ],
   "source": [
    "df = pd.read_csv(\"..\\\\data\\\\german_credit_data_clean.csv\")\n",
    "df.head()"
   ]
  },
  {
   "cell_type": "markdown",
   "id": "1d4e1fdb",
   "metadata": {},
   "source": [
    "### Hal yang perlu dilakukan\n",
    "- Encoding data kategorikal\n",
    "- Pertimbangkan penggunaan log transform\n",
    "- Scaling data numerik\n",
    "- Feature interactions\n",
    "- Feature importances"
   ]
  },
  {
   "cell_type": "code",
   "execution_count": 545,
   "id": "573b5f59",
   "metadata": {},
   "outputs": [
    {
     "data": {
      "text/plain": [
       "Risk\n",
       "0    700\n",
       "1    300\n",
       "Name: count, dtype: int64"
      ]
     },
     "execution_count": 545,
     "metadata": {},
     "output_type": "execute_result"
    }
   ],
   "source": [
    "df['Risk'].value_counts()"
   ]
  },
  {
   "cell_type": "markdown",
   "id": "b65f65ca",
   "metadata": {},
   "source": [
    "##### Melakukan split untuk memisahkan data training dan data testing"
   ]
  },
  {
   "cell_type": "code",
   "execution_count": 620,
   "id": "1d450524",
   "metadata": {},
   "outputs": [],
   "source": [
    "X = df.drop('Risk',axis=1)\n",
    "y = df['Risk']\n",
    "X_train,X_test,y_train,y_test = train_test_split(X,y,test_size=.2,random_state=42,stratify=y)"
   ]
  },
  {
   "cell_type": "markdown",
   "id": "8b0b61a2",
   "metadata": {},
   "source": [
    "##### Membangun transformer kolom dan juga pipeline preprocessing data untuk memastikan keefisienan dalam proses training dan testing model."
   ]
  },
  {
   "cell_type": "code",
   "execution_count": 621,
   "id": "1ab55453",
   "metadata": {},
   "outputs": [],
   "source": [
    "categorical_column = ['Sex','Housing','Saving accounts','Checking account','Purpose','age_bin','credit_bin','duration_bin']\n",
    "numerical_column = ['Age','Credit amount','Duration']\n",
    "\n",
    "def generate_pipeline(model=None,name=''):\n",
    "    transformers = ColumnTransformer([\n",
    "        ('column_encoder',OneHotEncoder(),categorical_column),\n",
    "        ('numeric_scaler',StandardScaler(),numerical_column),\n",
    "        # ('num',StandardScaler(),numerical_column)\n",
    "    ])\n",
    "\n",
    "    pipeline = Pipeline([\n",
    "        ('transformer', transformers),\n",
    "        ('sampler',RandomUnderSampler(random_state=42)),\n",
    "        # ('sampler',SMOTE(random_state=42)),\n",
    "        ('model',model),\n",
    "    ])\n",
    "\n",
    "    return pipeline\n",
    "\n",
    "def train(X_train,y_train,model=None):\n",
    "    pipeline = generate_pipeline(model=model)\n",
    "    pipeline.fit(X_train,y_train)\n",
    "    return pipeline\n",
    "\n",
    "def test_evaluate(X_test,y_test,model=None):\n",
    "    y_pred = model.predict(X_test)\n",
    "\n",
    "    print(f'Acc: {accuracy_score(y_test,y_pred)}')\n",
    "    print(f'F1: {f1_score(y_test,y_pred)}')\n",
    "    print(f'Precision: {precision_score(y_test,y_pred)}')\n",
    "    print(f'Recall: {recall_score(y_test,y_pred)}')\n",
    "    print(f'ROC-AUC: {roc_auc_score(y_test,y_pred)}')\n",
    "    print(classification_report(y_test,y_pred))\n",
    "    heatmap(confusion_matrix(y_test,y_pred))\n",
    "\n",
    "def heatmap(data, title=\"\"):\n",
    "    plt.figure(figsize=(5,3))\n",
    "    sns.heatmap(data, annot=True, cmap='Blues', fmt='.2f')\n",
    "    plt.title(title)\n",
    "    plt.tight_layout()\n",
    "    plt.show()"
   ]
  },
  {
   "cell_type": "markdown",
   "id": "c404040e",
   "metadata": {},
   "source": [
    "##### - Disini saya menggunakan undersampling dengan RandomUnderSampler untuk menangani imbalanced data.\n",
    "##### - Setelah dilakukan trial dan error, undersampling memberikan hasil evaluasi yang lebih baik dibanding oversampling sehingga undersampling digunakan untuk sampler dalam pipeline.\n"
   ]
  },
  {
   "cell_type": "markdown",
   "id": "76117308",
   "metadata": {},
   "source": [
    "#### Cross Validation Model untuk Comparison"
   ]
  },
  {
   "cell_type": "code",
   "execution_count": 622,
   "id": "df981e5b",
   "metadata": {},
   "outputs": [
    {
     "name": "stdout",
     "output_type": "stream",
     "text": [
      "Model: log_reg\n",
      "F1-Score per fold: [0.58536585 0.57894737 0.55882353 0.57534247 0.58974359 0.63636364\n",
      " 0.46575342 0.67532468 0.63888889 0.56410256]\n",
      "Rata-rata F1-Score: 0.5868655996325668\n",
      "ROC-AUC per fold: [0.76619048 0.73285714 0.75857143 0.7552381  0.77714286 0.78761905\n",
      " 0.58619048 0.85285714 0.77095238 0.74285714]\n",
      "Rata-rata ROC-AUC: 0.7530476190476191\n",
      "\n",
      "Model: rf\n",
      "F1-Score per fold: [0.56410256 0.53333333 0.59701493 0.56790123 0.56338028 0.63768116\n",
      " 0.46575342 0.60759494 0.58666667 0.45945946]\n",
      "Rata-rata F1-Score: 0.5582887985979885\n",
      "ROC-AUC per fold: [0.73714286 0.73642857 0.74404762 0.7652381  0.68261905 0.79404762\n",
      " 0.62357143 0.82785714 0.77404762 0.66666667]\n",
      "Rata-rata ROC-AUC: 0.7351666666666666\n",
      "\n"
     ]
    }
   ],
   "source": [
    "pipelines = {'log_reg': LogisticRegression(random_state=42,class_weight='balanced'),\n",
    "             'rf': RandomForestClassifier(random_state=42,class_weight='balanced'),\n",
    "             }\n",
    "\n",
    "for name,pipeline in pipelines.items():\n",
    "    pipes = generate_pipeline(pipeline,name=name)\n",
    "    scoref1 = cross_val_score(pipes,X,y,cv=10,scoring='f1')\n",
    "    scorerocauc = cross_val_score(pipes,X,y,cv=10,scoring='roc_auc')\n",
    "    print(f'Model: {name}')\n",
    "    print(f'F1-Score per fold: {scoref1}')\n",
    "    print(f'Rata-rata F1-Score: {scoref1.mean()}')\n",
    "    print(f'ROC-AUC per fold: {scorerocauc}')\n",
    "    print(f'Rata-rata ROC-AUC: {scorerocauc.mean()}\\n')"
   ]
  },
  {
   "cell_type": "code",
   "execution_count": 623,
   "id": "89fb11b0",
   "metadata": {},
   "outputs": [],
   "source": [
    "def models(model_name, **params):\n",
    "    if model_name == \"rf\":\n",
    "        from sklearn.ensemble import RandomForestClassifier\n",
    "        return RandomForestClassifier(**params,class_weight='balanced')\n",
    "    elif model_name == \"log_reg\":\n",
    "        from sklearn.linear_model import LogisticRegression\n",
    "        return LogisticRegression(**params,class_weight='balanced')\n",
    "    else:\n",
    "        raise ValueError(\"Unknown model name\")"
   ]
  },
  {
   "cell_type": "markdown",
   "id": "3ba24099",
   "metadata": {},
   "source": [
    "#### Setup hyperparameter Tuning dengan optuna untuk model Logistic Regression dan Random Forest"
   ]
  },
  {
   "cell_type": "code",
   "execution_count": 624,
   "id": "1a4f13ef",
   "metadata": {},
   "outputs": [
    {
     "name": "stderr",
     "output_type": "stream",
     "text": [
      "[I 2025-05-30 21:39:04,836] A new study created in memory with name: no-name-4f556262-854f-45a0-855b-640244413b2a\n",
      "[I 2025-05-30 21:39:05,381] Trial 0 finished with value: 0.5772052940236122 and parameters: {'C': 0.11590942207917472, 'solver': 'lbfgs', 'max_iter': 120}. Best is trial 0 with value: 0.5772052940236122.\n",
      "[I 2025-05-30 21:39:05,786] Trial 1 finished with value: 0.5594144324396424 and parameters: {'C': 0.007156777879962831, 'solver': 'lbfgs', 'max_iter': 2634}. Best is trial 0 with value: 0.5772052940236122.\n",
      "[I 2025-05-30 21:39:06,095] Trial 2 finished with value: 0.5715389001791084 and parameters: {'C': 0.18691822556078339, 'solver': 'liblinear', 'max_iter': 519}. Best is trial 0 with value: 0.5772052940236122.\n",
      "[I 2025-05-30 21:39:06,392] Trial 3 finished with value: 0.5260667868519231 and parameters: {'C': 0.00012342049096935787, 'solver': 'liblinear', 'max_iter': 2760}. Best is trial 0 with value: 0.5772052940236122.\n",
      "[I 2025-05-30 21:39:06,766] Trial 4 finished with value: 0.568013881210693 and parameters: {'C': 0.30597288841695774, 'solver': 'lbfgs', 'max_iter': 201}. Best is trial 0 with value: 0.5772052940236122.\n",
      "[I 2025-05-30 21:39:07,020] Trial 5 finished with value: 0.5244581932745922 and parameters: {'C': 0.0001640028240528041, 'solver': 'lbfgs', 'max_iter': 388}. Best is trial 0 with value: 0.5772052940236122.\n",
      "[I 2025-05-30 21:39:07,373] Trial 6 finished with value: 0.5780142476073727 and parameters: {'C': 4.352452529533972, 'solver': 'lbfgs', 'max_iter': 1670}. Best is trial 6 with value: 0.5780142476073727.\n",
      "[I 2025-05-30 21:39:07,614] Trial 7 finished with value: 0.5815633847001195 and parameters: {'C': 16.820539237136323, 'solver': 'liblinear', 'max_iter': 2194}. Best is trial 7 with value: 0.5815633847001195.\n",
      "[I 2025-05-30 21:39:07,883] Trial 8 finished with value: 0.5685023030785777 and parameters: {'C': 0.009356528890216383, 'solver': 'liblinear', 'max_iter': 630}. Best is trial 7 with value: 0.5815633847001195.\n",
      "[I 2025-05-30 21:39:08,088] Trial 9 finished with value: 0.5300456133335789 and parameters: {'C': 0.0009496425405653378, 'solver': 'liblinear', 'max_iter': 688}. Best is trial 7 with value: 0.5815633847001195.\n",
      "[I 2025-05-30 21:39:08,328] Trial 10 finished with value: 0.5823497106241753 and parameters: {'C': 950.6888483643759, 'solver': 'liblinear', 'max_iter': 1907}. Best is trial 10 with value: 0.5823497106241753.\n",
      "[I 2025-05-30 21:39:08,544] Trial 11 finished with value: 0.5823497106241753 and parameters: {'C': 922.2195991654108, 'solver': 'liblinear', 'max_iter': 1921}. Best is trial 10 with value: 0.5823497106241753.\n",
      "[I 2025-05-30 21:39:08,857] Trial 12 finished with value: 0.5823497106241753 and parameters: {'C': 999.101919457144, 'solver': 'liblinear', 'max_iter': 1465}. Best is trial 10 with value: 0.5823497106241753.\n",
      "[I 2025-05-30 21:39:09,109] Trial 13 finished with value: 0.5823497106241753 and parameters: {'C': 751.5062659364182, 'solver': 'liblinear', 'max_iter': 3421}. Best is trial 10 with value: 0.5823497106241753.\n",
      "[I 2025-05-30 21:39:09,456] Trial 14 finished with value: 0.5816377512210092 and parameters: {'C': 56.67028458927905, 'solver': 'liblinear', 'max_iter': 1210}. Best is trial 10 with value: 0.5823497106241753.\n",
      "[I 2025-05-30 21:39:09,695] Trial 15 finished with value: 0.5823497106241753 and parameters: {'C': 77.860100866322, 'solver': 'liblinear', 'max_iter': 1977}. Best is trial 10 with value: 0.5823497106241753.\n",
      "[I 2025-05-30 21:39:09,922] Trial 16 finished with value: 0.5743637340752994 and parameters: {'C': 2.6111251812537746, 'solver': 'liblinear', 'max_iter': 1112}. Best is trial 10 with value: 0.5823497106241753.\n",
      "[I 2025-05-30 21:39:10,157] Trial 17 finished with value: 0.5823497106241753 and parameters: {'C': 182.12380225922746, 'solver': 'liblinear', 'max_iter': 2391}. Best is trial 10 with value: 0.5823497106241753.\n",
      "[I 2025-05-30 21:39:10,387] Trial 18 finished with value: 0.5743637340752994 and parameters: {'C': 2.696589443344672, 'solver': 'liblinear', 'max_iter': 3110}. Best is trial 10 with value: 0.5823497106241753.\n",
      "[I 2025-05-30 21:39:10,659] Trial 19 finished with value: 0.5823497106241753 and parameters: {'C': 251.388521354056, 'solver': 'liblinear', 'max_iter': 1680}. Best is trial 10 with value: 0.5823497106241753.\n",
      "[I 2025-05-30 21:39:10,904] Trial 20 finished with value: 0.5807698088852872 and parameters: {'C': 20.869243274555807, 'solver': 'liblinear', 'max_iter': 2030}. Best is trial 10 with value: 0.5823497106241753.\n",
      "[I 2025-05-30 21:39:11,184] Trial 21 finished with value: 0.5823497106241753 and parameters: {'C': 816.9056757855338, 'solver': 'liblinear', 'max_iter': 1339}. Best is trial 10 with value: 0.5823497106241753.\n",
      "[I 2025-05-30 21:39:11,418] Trial 22 finished with value: 0.5823497106241753 and parameters: {'C': 894.0017426671984, 'solver': 'liblinear', 'max_iter': 1566}. Best is trial 10 with value: 0.5823497106241753.\n",
      "[I 2025-05-30 21:39:11,644] Trial 23 finished with value: 0.5823497106241753 and parameters: {'C': 151.76679506071864, 'solver': 'liblinear', 'max_iter': 914}. Best is trial 10 with value: 0.5823497106241753.\n",
      "[I 2025-05-30 21:39:11,881] Trial 24 finished with value: 0.5815633847001195 and parameters: {'C': 15.556961872515732, 'solver': 'liblinear', 'max_iter': 1461}. Best is trial 10 with value: 0.5823497106241753.\n",
      "[I 2025-05-30 21:39:12,123] Trial 25 finished with value: 0.5823497106241753 and parameters: {'C': 299.55215917600555, 'solver': 'liblinear', 'max_iter': 1889}. Best is trial 10 with value: 0.5823497106241753.\n",
      "[I 2025-05-30 21:39:12,491] Trial 26 finished with value: 0.582300867279563 and parameters: {'C': 56.321072937313154, 'solver': 'lbfgs', 'max_iter': 2370}. Best is trial 10 with value: 0.5823497106241753.\n",
      "[I 2025-05-30 21:39:12,727] Trial 27 finished with value: 0.5743302723301511 and parameters: {'C': 1.011553417304152, 'solver': 'liblinear', 'max_iter': 939}. Best is trial 10 with value: 0.5823497106241753.\n",
      "[I 2025-05-30 21:39:12,946] Trial 28 finished with value: 0.578880342659496 and parameters: {'C': 30.136790086456195, 'solver': 'liblinear', 'max_iter': 2270}. Best is trial 10 with value: 0.5823497106241753.\n",
      "[I 2025-05-30 21:39:13,197] Trial 29 finished with value: 0.5769130326943002 and parameters: {'C': 0.017761066225174413, 'solver': 'lbfgs', 'max_iter': 2729}. Best is trial 10 with value: 0.5823497106241753.\n"
     ]
    },
    {
     "name": "stdout",
     "output_type": "stream",
     "text": [
      "Best params : {'C': 950.6888483643759, 'solver': 'liblinear', 'max_iter': 1907}\n",
      "Best F1 (CV):0.5823497106241753\n"
     ]
    }
   ],
   "source": [
    "def objective(trial,model_name=''):\n",
    "    if model_name=='log_reg':\n",
    "        params = {\n",
    "            'C': trial.suggest_float('C', 1e-4, 1000,log=True),\n",
    "            'solver': trial.suggest_categorical('solver', ['lbfgs', 'liblinear']),\n",
    "            'max_iter': trial.suggest_int('max_iter', 100, 3500)\n",
    "        }\n",
    "    elif model_name=='rf':\n",
    "        params = {\n",
    "            'n_estimators': trial.suggest_int('n_estimators', 50, 500),\n",
    "            'max_depth': trial.suggest_int('max_depth', 2, 32),\n",
    "            'min_samples_split': trial.suggest_int('min_samples_split', 2, 10),\n",
    "            'min_samples_leaf': trial.suggest_int('min_samples_leaf', 1, 10),\n",
    "        }\n",
    "    # Buat pipeline model\n",
    "    model = generate_pipeline(\n",
    "        model=models(model_name, **params)\n",
    "    )\n",
    "\n",
    "    # Cross-validation\n",
    "    scores_f1 = cross_val_score(model, X, y, cv=5, scoring='f1')\n",
    "    scores_roc = cross_val_score(model, X, y, cv=5, scoring='roc_auc')\n",
    "    trial.set_user_attr('roc_auc', np.mean(scores_roc))\n",
    "    return np.mean(scores_f1)\n",
    "\n",
    "studylogreg = optuna.create_study(direction='maximize')\n",
    "studylogreg.optimize(partial(objective,model_name='log_reg'), n_trials=30)\n",
    "print(f'Best params : {studylogreg.best_params}')\n",
    "print(f'Best F1 (CV):{studylogreg.best_value}')"
   ]
  },
  {
   "cell_type": "code",
   "execution_count": 625,
   "id": "4312f7b4",
   "metadata": {},
   "outputs": [
    {
     "name": "stderr",
     "output_type": "stream",
     "text": [
      "[I 2025-05-30 21:39:13,214] A new study created in memory with name: no-name-4bbfb082-87af-4b30-bb18-4b1c2f9bcfb6\n"
     ]
    },
    {
     "name": "stderr",
     "output_type": "stream",
     "text": [
      "[I 2025-05-30 21:39:14,948] Trial 0 finished with value: 0.5658370149747662 and parameters: {'n_estimators': 90, 'max_depth': 8, 'min_samples_split': 10, 'min_samples_leaf': 4}. Best is trial 0 with value: 0.5658370149747662.\n",
      "[I 2025-05-30 21:39:22,157] Trial 1 finished with value: 0.5663792204591072 and parameters: {'n_estimators': 359, 'max_depth': 22, 'min_samples_split': 8, 'min_samples_leaf': 1}. Best is trial 1 with value: 0.5663792204591072.\n",
      "[I 2025-05-30 21:39:29,266] Trial 2 finished with value: 0.562943533843846 and parameters: {'n_estimators': 347, 'max_depth': 27, 'min_samples_split': 8, 'min_samples_leaf': 4}. Best is trial 1 with value: 0.5663792204591072.\n",
      "[I 2025-05-30 21:39:35,470] Trial 3 finished with value: 0.570707951371051 and parameters: {'n_estimators': 365, 'max_depth': 14, 'min_samples_split': 8, 'min_samples_leaf': 8}. Best is trial 3 with value: 0.570707951371051.\n",
      "[I 2025-05-30 21:39:39,951] Trial 4 finished with value: 0.5620441605069644 and parameters: {'n_estimators': 233, 'max_depth': 7, 'min_samples_split': 7, 'min_samples_leaf': 2}. Best is trial 3 with value: 0.570707951371051.\n",
      "[I 2025-05-30 21:39:41,902] Trial 5 finished with value: 0.5860759789810297 and parameters: {'n_estimators': 104, 'max_depth': 8, 'min_samples_split': 9, 'min_samples_leaf': 7}. Best is trial 5 with value: 0.5860759789810297.\n",
      "[I 2025-05-30 21:39:44,195] Trial 6 finished with value: 0.5700718574645177 and parameters: {'n_estimators': 99, 'max_depth': 8, 'min_samples_split': 4, 'min_samples_leaf': 4}. Best is trial 5 with value: 0.5860759789810297.\n",
      "[I 2025-05-30 21:39:51,570] Trial 7 finished with value: 0.5736385459184545 and parameters: {'n_estimators': 349, 'max_depth': 13, 'min_samples_split': 5, 'min_samples_leaf': 5}. Best is trial 5 with value: 0.5860759789810297.\n",
      "[I 2025-05-30 21:39:57,981] Trial 8 finished with value: 0.5612636556286855 and parameters: {'n_estimators': 278, 'max_depth': 32, 'min_samples_split': 4, 'min_samples_leaf': 1}. Best is trial 5 with value: 0.5860759789810297.\n",
      "[I 2025-05-30 21:40:03,370] Trial 9 finished with value: 0.5738783472507016 and parameters: {'n_estimators': 342, 'max_depth': 20, 'min_samples_split': 4, 'min_samples_leaf': 10}. Best is trial 5 with value: 0.5860759789810297.\n",
      "[I 2025-05-30 21:40:09,537] Trial 10 finished with value: 0.5647183874248416 and parameters: {'n_estimators': 476, 'max_depth': 2, 'min_samples_split': 2, 'min_samples_leaf': 7}. Best is trial 5 with value: 0.5860759789810297.\n",
      "[I 2025-05-30 21:40:11,964] Trial 11 finished with value: 0.565960928670606 and parameters: {'n_estimators': 148, 'max_depth': 19, 'min_samples_split': 10, 'min_samples_leaf': 10}. Best is trial 5 with value: 0.5860759789810297.\n",
      "[I 2025-05-30 21:40:15,687] Trial 12 finished with value: 0.5750987824338207 and parameters: {'n_estimators': 230, 'max_depth': 23, 'min_samples_split': 3, 'min_samples_leaf': 10}. Best is trial 5 with value: 0.5860759789810297.\n",
      "[I 2025-05-30 21:40:18,642] Trial 13 finished with value: 0.5775495456974206 and parameters: {'n_estimators': 184, 'max_depth': 23, 'min_samples_split': 2, 'min_samples_leaf': 8}. Best is trial 5 with value: 0.5860759789810297.\n",
      "[I 2025-05-30 21:40:21,310] Trial 14 finished with value: 0.5654763832155136 and parameters: {'n_estimators': 158, 'max_depth': 15, 'min_samples_split': 6, 'min_samples_leaf': 7}. Best is trial 5 with value: 0.5860759789810297.\n",
      "[I 2025-05-30 21:40:22,357] Trial 15 finished with value: 0.57368864421496 and parameters: {'n_estimators': 57, 'max_depth': 27, 'min_samples_split': 2, 'min_samples_leaf': 8}. Best is trial 5 with value: 0.5860759789810297.\n",
      "[I 2025-05-30 21:40:24,602] Trial 16 finished with value: 0.5672711083889116 and parameters: {'n_estimators': 164, 'max_depth': 2, 'min_samples_split': 9, 'min_samples_leaf': 8}. Best is trial 5 with value: 0.5860759789810297.\n",
      "[I 2025-05-30 21:40:28,297] Trial 17 finished with value: 0.5773057798125616 and parameters: {'n_estimators': 219, 'max_depth': 10, 'min_samples_split': 6, 'min_samples_leaf': 6}. Best is trial 5 with value: 0.5860759789810297.\n",
      "[I 2025-05-30 21:40:30,174] Trial 18 finished with value: 0.5776127596672146 and parameters: {'n_estimators': 113, 'max_depth': 26, 'min_samples_split': 6, 'min_samples_leaf': 9}. Best is trial 5 with value: 0.5860759789810297.\n",
      "[I 2025-05-30 21:40:32,069] Trial 19 finished with value: 0.5716106907431806 and parameters: {'n_estimators': 112, 'max_depth': 32, 'min_samples_split': 6, 'min_samples_leaf': 9}. Best is trial 5 with value: 0.5860759789810297.\n"
     ]
    },
    {
     "name": "stdout",
     "output_type": "stream",
     "text": [
      "Best params : {'n_estimators': 104, 'max_depth': 8, 'min_samples_split': 9, 'min_samples_leaf': 7}\n",
      "Best F1 (CV):0.5860759789810297\n"
     ]
    }
   ],
   "source": [
    "study = optuna.create_study(direction='maximize')\n",
    "study.optimize(partial(objective,model_name='rf'), n_trials=20)\n",
    "print(f'Best params : {study.best_params}')\n",
    "print(f'Best F1 (CV):{study.best_value}')"
   ]
  },
  {
   "cell_type": "markdown",
   "id": "6d7085ce",
   "metadata": {},
   "source": [
    "#### Dari kedua tuning yang dilakukan, F1 Score dari model Random Forest sedikit lebih baik dibanding model Logistic Regression. Selanjutnya dilakukan training model dan melakukan testing"
   ]
  },
  {
   "cell_type": "markdown",
   "id": "50dcb720",
   "metadata": {},
   "source": [
    "#### Modelling baseline Logistic Regression"
   ]
  },
  {
   "cell_type": "code",
   "execution_count": 630,
   "id": "362bcfaf",
   "metadata": {},
   "outputs": [
    {
     "name": "stdout",
     "output_type": "stream",
     "text": [
      "Acc: 0.695\n",
      "F1: 0.6013071895424836\n",
      "Precision: 0.4946236559139785\n",
      "Recall: 0.7666666666666667\n",
      "ROC-AUC: 0.7154761904761906\n",
      "              precision    recall  f1-score   support\n",
      "\n",
      "           0       0.87      0.66      0.75       140\n",
      "           1       0.49      0.77      0.60        60\n",
      "\n",
      "    accuracy                           0.69       200\n",
      "   macro avg       0.68      0.72      0.68       200\n",
      "weighted avg       0.76      0.69      0.71       200\n",
      "\n"
     ]
    },
    {
     "data": {
      "image/png": "[encoded data removed]",
      "text/plain": [
       "<Figure size 500x300 with 2 Axes>"
      ]
     },
     "metadata": {},
     "output_type": "display_data"
    }
   ],
   "source": [
    "model_LogReg = train(X_train,y_train,LogisticRegression(random_state=42,class_weight='balanced')) \n",
    "\n",
    "test_evaluate(X_test,y_test,model_LogReg)"
   ]
  },
  {
   "cell_type": "markdown",
   "id": "466a4e38",
   "metadata": {},
   "source": [
    "#### Modelling Logistic Regression + Hyperparameter Tuning"
   ]
  },
  {
   "cell_type": "code",
   "execution_count": 632,
   "id": "a6ece0ad",
   "metadata": {},
   "outputs": [
    {
     "name": "stdout",
     "output_type": "stream",
     "text": [
      "Acc: 0.685\n",
      "F1: 0.5827814569536424\n",
      "Precision: 0.4835164835164835\n",
      "Recall: 0.7333333333333333\n",
      "ROC-AUC: 0.6988095238095239\n",
      "              precision    recall  f1-score   support\n",
      "\n",
      "           0       0.85      0.66      0.75       140\n",
      "           1       0.48      0.73      0.58        60\n",
      "\n",
      "    accuracy                           0.69       200\n",
      "   macro avg       0.67      0.70      0.66       200\n",
      "weighted avg       0.74      0.69      0.70       200\n",
      "\n"
     ]
    },
    {
     "data": {
      "image/png": "[encoded data removed]",
      "text/plain": [
       "<Figure size 500x300 with 2 Axes>"
      ]
     },
     "metadata": {},
     "output_type": "display_data"
    }
   ],
   "source": [
    "model_LogReg_tuned = train(X_train,y_train,LogisticRegression(random_state=42,class_weight='balanced',**studylogreg.best_params)) \n",
    "\n",
    "test_evaluate(X_test,y_test,model_LogReg_tuned)"
   ]
  },
  {
   "cell_type": "markdown",
   "id": "bad2426b",
   "metadata": {},
   "source": [
    "#### Modelling baseline Random Forest"
   ]
  },
  {
   "cell_type": "code",
   "execution_count": 633,
   "id": "d7bca8ad",
   "metadata": {},
   "outputs": [
    {
     "name": "stdout",
     "output_type": "stream",
     "text": [
      "Acc: 0.69\n",
      "F1: 0.5866666666666667\n",
      "Precision: 0.4888888888888889\n",
      "Recall: 0.7333333333333333\n",
      "ROC-AUC: 0.7023809523809524\n",
      "              precision    recall  f1-score   support\n",
      "\n",
      "           0       0.85      0.67      0.75       140\n",
      "           1       0.49      0.73      0.59        60\n",
      "\n",
      "    accuracy                           0.69       200\n",
      "   macro avg       0.67      0.70      0.67       200\n",
      "weighted avg       0.74      0.69      0.70       200\n",
      "\n"
     ]
    },
    {
     "data": {
      "image/png": "[encoded data removed]",
      "text/plain": [
       "<Figure size 500x300 with 2 Axes>"
      ]
     },
     "metadata": {},
     "output_type": "display_data"
    }
   ],
   "source": [
    "model_Rf = train(X_train,y_train,RandomForestClassifier(random_state=42,class_weight='balanced')) \n",
    "\n",
    "test_evaluate(X_test,y_test,model_Rf)"
   ]
  },
  {
   "cell_type": "markdown",
   "id": "77b8e6b0",
   "metadata": {},
   "source": [
    "#### Modelling RF + Hyperparameter Tuning"
   ]
  },
  {
   "cell_type": "code",
   "execution_count": 634,
   "id": "b1e54e1a",
   "metadata": {},
   "outputs": [
    {
     "name": "stdout",
     "output_type": "stream",
     "text": [
      "Acc: 0.705\n",
      "F1: 0.6289308176100629\n",
      "Precision: 0.5050505050505051\n",
      "Recall: 0.8333333333333334\n",
      "ROC-AUC: 0.7416666666666668\n",
      "              precision    recall  f1-score   support\n",
      "\n",
      "           0       0.90      0.65      0.76       140\n",
      "           1       0.51      0.83      0.63        60\n",
      "\n",
      "    accuracy                           0.70       200\n",
      "   macro avg       0.70      0.74      0.69       200\n",
      "weighted avg       0.78      0.70      0.72       200\n",
      "\n"
     ]
    },
    {
     "data": {
      "image/png": "[encoded data removed]",
      "text/plain": [
       "<Figure size 500x300 with 2 Axes>"
      ]
     },
     "metadata": {},
     "output_type": "display_data"
    }
   ],
   "source": [
    "model_Rf_tuned = train(X_train,y_train,RandomForestClassifier(random_state=42,class_weight='balanced',**study.best_params)) \n",
    "\n",
    "test_evaluate(X_test,y_test,model_Rf_tuned)"
   ]
  },
  {
   "cell_type": "markdown",
   "id": "022832bf",
   "metadata": {},
   "source": [
    "#### Summary\n",
    "- Hasil Menunjukkan Baseline model Logistic Regression sedikit lebih baik dibanding Random Forest.\n",
    "- Untuk model yang menggunakan best_params dari tuning, model Random Forest mengalami peningkatan signifikan dari F1-Score yang awalnya 0.5694 menjadi 0.6163. Di sisi lain, model Logistic Regression justru mengalami penurunan"
   ]
  },
  {
   "cell_type": "markdown",
   "id": "c8a78e84",
   "metadata": {},
   "source": [
    "#### Selanjutnya akan berfokus pada model Random Forest. Disini akan dilakukan treshold tuning untuk menemukan treshold optimal dengan F1-Score tertinggi"
   ]
  },
  {
   "cell_type": "code",
   "execution_count": 635,
   "id": "1eb3b967",
   "metadata": {},
   "outputs": [
    {
     "name": "stdout",
     "output_type": "stream",
     "text": [
      "Best threshold: 0.48 | Best F1-score: 0.6375\n"
     ]
    }
   ],
   "source": [
    "thresholds = np.arange(0,100,0.02)\n",
    "f1_scores = []\n",
    "\n",
    "y_proba = model_Rf_tuned.predict_proba(X_test)[:,1]\n",
    "for thr in thresholds:\n",
    "    y_pred_thr = (y_proba>=thr).astype('int')\n",
    "    scores = f1_score(y_pred_thr,y_test)\n",
    "    f1_scores.append(scores)\n",
    "\n",
    "best_idx = np.argmax(f1_scores)\n",
    "best_threshold = thresholds[best_idx]\n",
    "best_f1 = f1_scores[best_idx]\n",
    "print(f\"Best threshold: {best_threshold:.2f} | Best F1-score: {best_f1:.4f}\")"
   ]
  },
  {
   "cell_type": "markdown",
   "id": "5cdbed50",
   "metadata": {},
   "source": [
    "#### Insight\n",
    "- Setelah dilakukan modelling, hyperparameter tuning, serta treshold  tuning, didapat model terbaik yakni Random Forest dengan parameter \n",
    "    - 'n_estimators': 104\n",
    "    - 'max_depth': 8\n",
    "    - 'min_samples_split': 9\n",
    "    - 'min_samples_leaf': 7\n",
    "- Model ini mendapat skor metriks F1-Score yakni 0.6375 dimana treshold di sekitar 0.48. Dengan F1-Score 0.6375, performa model dalam menyeimbangkan prediksi apakah calon nasabah adalah good atau bad, serta kemampuan menangkap keseluruhan calon nasabah yang good sebesar 62.5 dari skala 1-100.\n",
    "- Model ini akan membantu tim underwriting untuk membantu sebagai pertimbangan dalam mengapprove calon nasabah untuk kredit"
   ]
  },
  {
   "cell_type": "code",
   "execution_count": null,
   "id": "a590b5ab",
   "metadata": {},
   "outputs": [],
   "source": []
  }
 ],
 "metadata": {
  "kernelspec": {
   "display_name": "Python 3",
   "language": "python",
   "name": "python3"
  },
  "language_info": {
   "codemirror_mode": {
    "name": "ipython",
    "version": 3
   },
   "file_extension": ".py",
   "mimetype": "text/x-python",
   "name": "python",
   "nbconvert_exporter": "python",
   "pygments_lexer": "ipython3",
   "version": "3.11.8"
  }
 },
 "nbformat": 4,
 "nbformat_minor": 5
}
